{
 "cells": [
  {
   "cell_type": "code",
   "execution_count": 1,
   "metadata": {},
   "outputs": [],
   "source": [
    "import pandas as pd \n",
    "import numpy as np\n",
    "import itertools\n",
    "\n",
    "from keras.preprocessing.text import Tokenizer\n",
    "from keras.preprocessing import sequence\n",
    "\n",
    "import os"
   ]
  },
  {
   "cell_type": "code",
   "execution_count": 2,
   "metadata": {},
   "outputs": [
    {
     "name": "stderr",
     "output_type": "stream",
     "text": [
      "[nltk_data] Downloading package punkt to /home/enrique/nltk_data...\n",
      "[nltk_data]   Package punkt is already up-to-date!\n",
      "[nltk_data] Downloading package stopwords to\n",
      "[nltk_data]     /home/enrique/nltk_data...\n",
      "[nltk_data]   Package stopwords is already up-to-date!\n"
     ]
    }
   ],
   "source": [
    "import pandas as pd \n",
    "import numpy as np\n",
    "import itertools\n",
    "\n",
    "from keras.preprocessing.text import Tokenizer\n",
    "from keras.preprocessing import sequence\n",
    "\n",
    "import os\n",
    "os.chdir(r\"/home/enrique/Documentos/AutoML_in_data_aumentation/taks/Agresivite/src/\")\n",
    "\n",
    "from general_functions import *\n",
    "\n",
    "# global vars\n",
    "path_train = \"../data/processed/agresivite.csv\"\n",
    "path_test = \"../test/agresivite_val.csv\"\n",
    "names_columns = [\"name_taks\", \"model\", \"method_da\", \"lambda_hyper_1\", \"lambda_hyper_2\", \"preprocesamiento\", \"representation\", \n",
    "                 \"error_train\", \"error_test\"]"
   ]
  },
  {
   "cell_type": "code",
   "execution_count": null,
   "metadata": {},
   "outputs": [],
   "source": []
  },
  {
   "cell_type": "code",
   "execution_count": null,
   "metadata": {},
   "outputs": [],
   "source": [
    "max_features = 13000  # number of words to consider as features\n",
    "max_len = 500  # cut texts after this number of words (among top max_features most common words)\n",
    "\n",
    "#prepara las secuencias\n",
    "tokenizer = Tokenizer(nb_words=max_features)\n",
    "tokenizer.fit_on_texts(tr_txt)\n",
    "sequencies_tr = tokenizer.texts_to_sequences(tr_txt)\n",
    "sequencies = tokenizer.texts_to_sequences(te_txt)\n",
    "\n",
    "print('Pad sequences (samples x time)')\n",
    "x_train = sequence.pad_sequences(sequencies_tr, maxlen=max_len)\n",
    "x_test = sequence.pad_sequences(sequencies, maxlen=max_len)\n",
    "print('x_train shape:', x_train.shape)\n",
    "print('x_test shape:', x_test.shape)"
   ]
  },
  {
   "cell_type": "markdown",
   "metadata": {},
   "source": [
    "### Whitout DA"
   ]
  },
  {
   "cell_type": "code",
   "execution_count": 7,
   "metadata": {},
   "outputs": [],
   "source": [
    "?SVC"
   ]
  },
  {
   "cell_type": "code",
   "execution_count": 3,
   "metadata": {},
   "outputs": [
    {
     "data": {
      "text/plain": [
       "0"
      ]
     },
     "execution_count": 3,
     "metadata": {},
     "output_type": "execute_result"
    }
   ],
   "source": [
    "train_test = read_data_origin(path_train, path_test)\n",
    "\n",
    "error_train_test(df=train_test, path_errors=\"/home/enrique/Documentos/AutoML_in_data_aumentation/taks/Agresivite/model/results/errors/logistic_error.csv\")"
   ]
  },
  {
   "cell_type": "code",
   "execution_count": 6,
   "metadata": {},
   "outputs": [],
   "source": [
    "train_test = read_data_origin(path_train, path_test)\n",
    "\n",
    "error_train_test(df=train_test, preprocess=[\"1\"],\n",
    "                 path_errors=\"/home/enrique/Documentos/AutoML_in_data_aumentation/taks/Agresivite/model/results/errors/logistic_error.csv\")"
   ]
  },
  {
   "cell_type": "markdown",
   "metadata": {},
   "source": [
    "### DA Noise Injection "
   ]
  },
  {
   "cell_type": "code",
   "execution_count": 2,
   "metadata": {},
   "outputs": [
    {
     "data": {
      "text/plain": [
       "0"
      ]
     },
     "execution_count": 2,
     "metadata": {},
     "output_type": "execute_result"
    }
   ],
   "source": [
    "train_test = read_data_origin(path_train, path_test)\n",
    "\n",
    "error_train_test(df=train_test, method_da= [\"noise_injection\"], lambda_hyper=[\"delete\", 0.3], preprocess=[\"1\"],\n",
    "                 path_errors=\"/home/enrique/Documentos/AutoML_in_data_aumentation/taks/Agresivite/model/results/errors/logistic_error.csv\")"
   ]
  },
  {
   "cell_type": "code",
   "execution_count": 3,
   "metadata": {},
   "outputs": [
    {
     "data": {
      "text/plain": [
       "0"
      ]
     },
     "execution_count": 3,
     "metadata": {},
     "output_type": "execute_result"
    }
   ],
   "source": [
    "train_test = read_data_origin(path_train, path_test)\n",
    "\n",
    "error_train_test(df=train_test, method_da= [\"noise_injection\"], lambda_hyper=[\"delete\", 0.3],\n",
    "                 path_errors=\"/home/enrique/Documentos/AutoML_in_data_aumentation/taks/Agresivite/model/results/errors/logistic_error.csv\")"
   ]
  },
  {
   "cell_type": "code",
   "execution_count": 2,
   "metadata": {},
   "outputs": [
    {
     "data": {
      "text/plain": [
       "0"
      ]
     },
     "execution_count": 2,
     "metadata": {},
     "output_type": "execute_result"
    }
   ],
   "source": [
    "train_test = read_data_origin(path_train, path_test)\n",
    "\n",
    "error_train_test(df=train_test, method_da= [\"noise_injection\"], lambda_hyper=[\"swap\", 0.3], preprocess=[\"1\"],\n",
    "                 path_errors=\"/home/enrique/Documentos/AutoML_in_data_aumentation/taks/Agresivite/model/results/errors/logistic_error.csv\")"
   ]
  },
  {
   "cell_type": "code",
   "execution_count": 3,
   "metadata": {},
   "outputs": [
    {
     "data": {
      "text/plain": [
       "0"
      ]
     },
     "execution_count": 3,
     "metadata": {},
     "output_type": "execute_result"
    }
   ],
   "source": [
    "train_test = read_data_origin(path_train, path_test)\n",
    "\n",
    "error_train_test(df=train_test, method_da= [\"noise_injection\"], lambda_hyper=[\"swap\", 0.3],\n",
    "                 path_errors=\"/home/enrique/Documentos/AutoML_in_data_aumentation/taks/Agresivite/model/results/errors/logistic_error.csv\")"
   ]
  },
  {
   "cell_type": "code",
   "execution_count": 4,
   "metadata": {},
   "outputs": [],
   "source": [
    "errores_finales = pd.read_csv(\"/home/enrique/Documentos/AutoML_in_data_aumentation/taks/Agresivite/model/results/errors/logistic_error.csv\",\n",
    "           index_col=False)"
   ]
  },
  {
   "cell_type": "code",
   "execution_count": 5,
   "metadata": {},
   "outputs": [
    {
     "data": {
      "text/html": [
       "<div>\n",
       "<style scoped>\n",
       "    .dataframe tbody tr th:only-of-type {\n",
       "        vertical-align: middle;\n",
       "    }\n",
       "\n",
       "    .dataframe tbody tr th {\n",
       "        vertical-align: top;\n",
       "    }\n",
       "\n",
       "    .dataframe thead th {\n",
       "        text-align: right;\n",
       "    }\n",
       "</style>\n",
       "<table border=\"1\" class=\"dataframe\">\n",
       "  <thead>\n",
       "    <tr style=\"text-align: right;\">\n",
       "      <th></th>\n",
       "      <th>name_taks</th>\n",
       "      <th>model</th>\n",
       "      <th>method_da</th>\n",
       "      <th>lambda_hyper_1</th>\n",
       "      <th>lambda_hyper_2</th>\n",
       "      <th>preprocesamiento</th>\n",
       "      <th>representation</th>\n",
       "      <th>error_train</th>\n",
       "      <th>error_test</th>\n",
       "    </tr>\n",
       "  </thead>\n",
       "  <tbody>\n",
       "    <tr>\n",
       "      <th>0</th>\n",
       "      <td>Agresivite</td>\n",
       "      <td>SVC</td>\n",
       "      <td>-1</td>\n",
       "      <td>-1</td>\n",
       "      <td>-1.0</td>\n",
       "      <td>-1</td>\n",
       "      <td>TFIDF</td>\n",
       "      <td>0,415929203539823</td>\n",
       "      <td>0,41592039800995</td>\n",
       "    </tr>\n",
       "    <tr>\n",
       "      <th>1</th>\n",
       "      <td>Agresivite</td>\n",
       "      <td>SVC</td>\n",
       "      <td>-1</td>\n",
       "      <td>-1</td>\n",
       "      <td>-1.0</td>\n",
       "      <td>1</td>\n",
       "      <td>TFIDF</td>\n",
       "      <td>0.41592920353982304</td>\n",
       "      <td>0.4159203980099503</td>\n",
       "    </tr>\n",
       "    <tr>\n",
       "      <th>2</th>\n",
       "      <td>Agresivite</td>\n",
       "      <td>SVC</td>\n",
       "      <td>noise_injection</td>\n",
       "      <td>delete</td>\n",
       "      <td>0.3</td>\n",
       "      <td>1</td>\n",
       "      <td>TFIDF</td>\n",
       "      <td>0.41592920353982304</td>\n",
       "      <td>0.4159203980099503</td>\n",
       "    </tr>\n",
       "    <tr>\n",
       "      <th>3</th>\n",
       "      <td>Agresivite</td>\n",
       "      <td>SVC</td>\n",
       "      <td>noise_injection</td>\n",
       "      <td>delete</td>\n",
       "      <td>0.3</td>\n",
       "      <td>-1</td>\n",
       "      <td>TFIDF</td>\n",
       "      <td>0.41592920353982304</td>\n",
       "      <td>0.4159203980099503</td>\n",
       "    </tr>\n",
       "    <tr>\n",
       "      <th>4</th>\n",
       "      <td>Agresivite</td>\n",
       "      <td>SVC</td>\n",
       "      <td>noise_injection</td>\n",
       "      <td>swap</td>\n",
       "      <td>0.3</td>\n",
       "      <td>1</td>\n",
       "      <td>TFIDF</td>\n",
       "      <td>0.41596591546137457</td>\n",
       "      <td>0.4159203980099503</td>\n",
       "    </tr>\n",
       "    <tr>\n",
       "      <th>5</th>\n",
       "      <td>Agresivite</td>\n",
       "      <td>SVC</td>\n",
       "      <td>noise_injection</td>\n",
       "      <td>swap</td>\n",
       "      <td>0.3</td>\n",
       "      <td>-1</td>\n",
       "      <td>TFIDF</td>\n",
       "      <td>0.4300395770761881</td>\n",
       "      <td>0.41533864541832677</td>\n",
       "    </tr>\n",
       "  </tbody>\n",
       "</table>\n",
       "</div>"
      ],
      "text/plain": [
       "    name_taks model        method_da lambda_hyper_1  lambda_hyper_2  \\\n",
       "0  Agresivite   SVC               -1             -1            -1.0   \n",
       "1  Agresivite   SVC               -1             -1            -1.0   \n",
       "2  Agresivite   SVC  noise_injection         delete             0.3   \n",
       "3  Agresivite   SVC  noise_injection         delete             0.3   \n",
       "4  Agresivite   SVC  noise_injection           swap             0.3   \n",
       "5  Agresivite   SVC  noise_injection           swap             0.3   \n",
       "\n",
       "   preprocesamiento representation          error_train           error_test  \n",
       "0                -1          TFIDF    0,415929203539823     0,41592039800995  \n",
       "1                 1          TFIDF  0.41592920353982304   0.4159203980099503  \n",
       "2                 1          TFIDF  0.41592920353982304   0.4159203980099503  \n",
       "3                -1          TFIDF  0.41592920353982304   0.4159203980099503  \n",
       "4                 1          TFIDF  0.41596591546137457   0.4159203980099503  \n",
       "5                -1          TFIDF   0.4300395770761881  0.41533864541832677  "
      ]
     },
     "execution_count": 5,
     "metadata": {},
     "output_type": "execute_result"
    }
   ],
   "source": [
    "errores_finales"
   ]
  }
 ],
 "metadata": {
  "kernelspec": {
   "display_name": "Python 3",
   "language": "python",
   "name": "python3"
  },
  "language_info": {
   "codemirror_mode": {
    "name": "ipython",
    "version": 3
   },
   "file_extension": ".py",
   "mimetype": "text/x-python",
   "name": "python",
   "nbconvert_exporter": "python",
   "pygments_lexer": "ipython3",
   "version": "3.7.6"
  }
 },
 "nbformat": 4,
 "nbformat_minor": 4
}
