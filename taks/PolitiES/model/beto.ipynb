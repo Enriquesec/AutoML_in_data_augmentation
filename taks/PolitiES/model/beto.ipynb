{
 "cells": [
  {
   "cell_type": "code",
   "execution_count": 1,
   "id": "ea707b58-315d-4743-b0a2-50ee8e6a6277",
   "metadata": {},
   "outputs": [],
   "source": [
    "seed = 0"
   ]
  },
  {
   "cell_type": "code",
   "execution_count": 2,
   "id": "b86e9468-120b-4b31-9f8f-1015bb661603",
   "metadata": {},
   "outputs": [],
   "source": [
    "targets = ['gender', 'profession','ideology_binary', 'ideology_multiclass']"
   ]
  },
  {
   "cell_type": "code",
   "execution_count": 3,
   "id": "44d65b3d-68e2-419e-ba64-b30532e09c63",
   "metadata": {},
   "outputs": [
    {
     "name": "stderr",
     "output_type": "stream",
     "text": [
      "/home/azaelcarrillo/miniconda3/envs/rest-mex-reco-gpu/lib/python3.10/site-packages/tqdm/auto.py:22: TqdmWarning: IProgress not found. Please update jupyter and ipywidgets. See https://ipywidgets.readthedocs.io/en/stable/user_install.html\n",
      "  from .autonotebook import tqdm as notebook_tqdm\n"
     ]
    }
   ],
   "source": [
    "import pandas as pd\n",
    "import numpy as np\n",
    "import matplotlib.pyplot as plt\n",
    "import copy\n",
    "\n",
    "import torch\n",
    "import torch.nn as nn\n",
    "from torch.utils.data import Dataset, DataLoader\n",
    "\n",
    "from sklearn.model_selection import train_test_split\n",
    "from sklearn.preprocessing import LabelEncoder\n",
    "\n",
    "from sentence_transformers import SentenceTransformer\n",
    "from xgboost import XGBClassifier\n",
    "from sklearn.pipeline import Pipeline\n",
    "from sklearn.linear_model import LogisticRegression\n",
    "\n",
    "from sklearn.metrics import f1_score\n",
    "\n",
    "def f1s(preds, dtrain):\n",
    "    f1 = f1_score(dtrain.get_label(), np.round(preds), average='macro')\n",
    "    return 'f1', f1\n",
    "\n",
    "def get_train_test(data_train, reduce=False):\n",
    "    users_train, users_test = train_test_split(data_train.index.unique(), test_size=.2, random_state=19970808)\n",
    "    \n",
    "    if reduce:\n",
    "        data_train['idd'] = np.array(range(data_train.shape[0])) % reduce\n",
    "        df_tweets = data_train.reset_index().groupby(by=['label', 'idd']).tweet.apply(lambda x: ' '.join(x))\n",
    "        df = data_train.reset_index().groupby(by=['label', 'idd']).first()\n",
    "        \n",
    "    else:\n",
    "        df = data_train\n",
    "        df_tweets = data_train.tweet\n",
    "    \n",
    "    df_targets = df[targets].apply(LabelEncoder().fit_transform)\n",
    "    \n",
    "    X_train = df_tweets.loc[users_train]\n",
    "    Y_train = df_targets.loc[users_train]\n",
    "    Y_train = Y_train.droplevel(1)\n",
    "\n",
    "    X_test = df_tweets.loc[users_test]\n",
    "    Y_test = df_targets.loc[users_test]\n",
    "    Y_test = Y_test.droplevel(1)\n",
    "    \n",
    "    return X_train, X_test, Y_train, Y_test"
   ]
  },
  {
   "cell_type": "code",
   "execution_count": 4,
   "id": "2e36c116-f344-4c84-9b76-289cf6cce540",
   "metadata": {},
   "outputs": [
    {
     "name": "stdout",
     "output_type": "stream",
     "text": [
      "cuda:0\n"
     ]
    }
   ],
   "source": [
    "device = torch.device(\"cuda:0\" if torch.cuda.is_available() else \"cpu\")\n",
    "print(device)"
   ]
  },
  {
   "cell_type": "code",
   "execution_count": 8,
   "id": "ef18c5c5-7e5e-45bd-b5a0-25b50c40da0d",
   "metadata": {},
   "outputs": [],
   "source": [
    "data_pre = pd.read_csv(\"../data/raw/tweets_complete.csv\")\n",
    "data_pre.set_index('label', inplace=True)\n",
    "\n",
    "data_train = pd.read_csv(\"../data/raw/training.csv\")\n",
    "data_dev = pd.read_csv('../data/raw/development.csv')\n",
    "data_dev_test = pd.read_csv('../data/raw/development_test.csv')\n",
    "data_test = pd.read_csv(\"../data/raw/test_without_labels.csv\")\n",
    "data_train.set_index('label', inplace=True)\n",
    "\n",
    "data_train['tweet'] = data_pre['tweet_emoji_signos_pre']\n",
    "\n",
    "X_train, X_test, Y_train, Y_test = get_train_test(data_train, reduce=4)"
   ]
  },
  {
   "cell_type": "code",
   "execution_count": null,
   "id": "c447e826-2e5a-4c5a-af32-63e8cba28988",
   "metadata": {},
   "outputs": [],
   "source": [
    "#bert_model = SentenceTransformer('finiteautomata/beto-sentiment-analysis')\n",
    "#bert_model = SentenceTransformer('dccuchile/bert-base-spanish-wwm-uncased')\n",
    "\n",
    "X_train_emb = bert_model.encode(X_train.tolist(), device='cuda', show_progress_bar=True)\n",
    "X_test_emb = bert_model.encode(X_test.tolist(), device='cuda', show_progress_bar=True)"
   ]
  },
  {
   "cell_type": "code",
   "execution_count": 9,
   "id": "b6556480-5de9-4879-9d1f-1b372760f872",
   "metadata": {},
   "outputs": [],
   "source": [
    "from sklearn.preprocessing import StandardScaler"
   ]
  },
  {
   "cell_type": "code",
   "execution_count": 10,
   "id": "3090f006-10cf-403d-8b51-980f611263e5",
   "metadata": {},
   "outputs": [],
   "source": [
    "def test_model(model, X_train, X_test):\n",
    "    print(model)\n",
    "    for target in targets:\n",
    "        y_train = Y_train[target]\n",
    "        y_test = Y_test[target]\n",
    "\n",
    "\n",
    "        model.fit(X_train, y_train)\n",
    "\n",
    "        y_pred = model.predict_proba(X_test)[:,1]\n",
    "        y_pred = pd.Series(y_pred, Y_test.index)\n",
    "        result = f1_score(y_test.groupby(level=0).mean(), y_pred.groupby(level=0).mean().round(), average='macro')\n",
    "\n",
    "        print('f1 {}: {}'.format(target, result))"
   ]
  },
  {
   "cell_type": "code",
   "execution_count": 11,
   "id": "7ce934fa-fcee-467c-961b-1e91e863fd30",
   "metadata": {
    "tags": []
   },
   "outputs": [
    {
     "ename": "NameError",
     "evalue": "name 'X_train_emb' is not defined",
     "output_type": "error",
     "traceback": [
      "\u001b[0;31m---------------------------------------------------------------------------\u001b[0m",
      "\u001b[0;31mNameError\u001b[0m                                 Traceback (most recent call last)",
      "Input \u001b[0;32mIn [11]\u001b[0m, in \u001b[0;36m<cell line: 2>\u001b[0;34m()\u001b[0m\n\u001b[1;32m      1\u001b[0m model \u001b[38;5;241m=\u001b[39m LogisticRegression(max_iter\u001b[38;5;241m=\u001b[39m\u001b[38;5;241m2000\u001b[39m)\n\u001b[0;32m----> 2\u001b[0m test_model(model, \u001b[43mX_train_emb\u001b[49m, X_test_emb)\n",
      "\u001b[0;31mNameError\u001b[0m: name 'X_train_emb' is not defined"
     ]
    }
   ],
   "source": [
    "model = LogisticRegression(max_iter=2000)\n",
    "test_model(model, X_train_emb, X_test_emb)"
   ]
  },
  {
   "cell_type": "code",
   "execution_count": 453,
   "id": "e47f2d9d-6eb4-4fa5-bf9c-d53e974442ad",
   "metadata": {
    "collapsed": true,
    "jupyter": {
     "outputs_hidden": true
    },
    "tags": []
   },
   "outputs": [
    {
     "name": "stdout",
     "output_type": "stream",
     "text": [
      "GridSearchCV(cv=4,\n",
      "             estimator=Pipeline(steps=[('pca', PCA()),\n",
      "                                       ('qda',\n",
      "                                        QuadraticDiscriminantAnalysis())]),\n",
      "             n_jobs=-1,\n",
      "             param_grid=[{'pca__n_components': [10, 30, 40, 50, 80, 100, 200]}],\n",
      "             verbose=False)\n",
      "huggingface/tokenizers: The current process just got forked, after parallelism has already been used. Disabling parallelism to avoid deadlocks...\n",
      "To disable this warning, you can either:\n",
      "\t- Avoid using `tokenizers` before the fork if possible\n",
      "\t- Explicitly set the environment variable TOKENIZERS_PARALLELISM=(true | false)\n",
      "huggingface/tokenizers: The current process just got forked, after parallelism has already been used. Disabling parallelism to avoid deadlocks...\n",
      "To disable this warning, you can either:\n",
      "\t- Avoid using `tokenizers` before the fork if possible\n",
      "\t- Explicitly set the environment variable TOKENIZERS_PARALLELISM=(true | false)\n",
      "huggingface/tokenizers: The current process just got forked, after parallelism has already been used. Disabling parallelism to avoid deadlocks...\n",
      "To disable this warning, you can either:\n",
      "\t- Avoid using `tokenizers` before the fork if possible\n",
      "\t- Explicitly set the environment variable TOKENIZERS_PARALLELISM=(true | false)\n",
      "huggingface/tokenizers: The current process just got forked, after parallelism has already been used. Disabling parallelism to avoid deadlocks...\n",
      "To disable this warning, you can either:\n",
      "\t- Avoid using `tokenizers` before the fork if possible\n",
      "\t- Explicitly set the environment variable TOKENIZERS_PARALLELISM=(true | false)\n",
      "huggingface/tokenizers: The current process just got forked, after parallelism has already been used. Disabling parallelism to avoid deadlocks...\n",
      "To disable this warning, you can either:\n",
      "\t- Avoid using `tokenizers` before the fork if possible\n",
      "\t- Explicitly set the environment variable TOKENIZERS_PARALLELISM=(true | false)\n",
      "huggingface/tokenizers: The current process just got forked, after parallelism has already been used. Disabling parallelism to avoid deadlocks...\n",
      "To disable this warning, you can either:\n",
      "\t- Avoid using `tokenizers` before the fork if possible\n",
      "\t- Explicitly set the environment variable TOKENIZERS_PARALLELISM=(true | false)\n",
      "huggingface/tokenizers: The current process just got forked, after parallelism has already been used. Disabling parallelism to avoid deadlocks...\n",
      "To disable this warning, you can either:\n",
      "\t- Avoid using `tokenizers` before the fork if possible\n",
      "\t- Explicitly set the environment variable TOKENIZERS_PARALLELISM=(true | false)\n",
      "huggingface/tokenizers: The current process just got forked, after parallelism has already been used. Disabling parallelism to avoid deadlocks...\n",
      "To disable this warning, you can either:\n",
      "\t- Avoid using `tokenizers` before the fork if possible\n",
      "\t- Explicitly set the environment variable TOKENIZERS_PARALLELISM=(true | false)\n",
      "huggingface/tokenizers: The current process just got forked, after parallelism has already been used. Disabling parallelism to avoid deadlocks...\n",
      "To disable this warning, you can either:\n",
      "\t- Avoid using `tokenizers` before the fork if possible\n",
      "\t- Explicitly set the environment variable TOKENIZERS_PARALLELISM=(true | false)\n",
      "huggingface/tokenizers: The current process just got forked, after parallelism has already been used. Disabling parallelism to avoid deadlocks...\n",
      "To disable this warning, you can either:\n",
      "\t- Avoid using `tokenizers` before the fork if possible\n",
      "\t- Explicitly set the environment variable TOKENIZERS_PARALLELISM=(true | false)\n",
      "huggingface/tokenizers: The current process just got forked, after parallelism has already been used. Disabling parallelism to avoid deadlocks...\n",
      "To disable this warning, you can either:\n",
      "\t- Avoid using `tokenizers` before the fork if possible\n",
      "\t- Explicitly set the environment variable TOKENIZERS_PARALLELISM=(true | false)\n",
      "huggingface/tokenizers: The current process just got forked, after parallelism has already been used. Disabling parallelism to avoid deadlocks...\n",
      "To disable this warning, you can either:\n",
      "\t- Avoid using `tokenizers` before the fork if possible\n",
      "\t- Explicitly set the environment variable TOKENIZERS_PARALLELISM=(true | false)\n",
      "huggingface/tokenizers: The current process just got forked, after parallelism has already been used. Disabling parallelism to avoid deadlocks...\n",
      "To disable this warning, you can either:\n",
      "\t- Avoid using `tokenizers` before the fork if possible\n",
      "\t- Explicitly set the environment variable TOKENIZERS_PARALLELISM=(true | false)\n",
      "huggingface/tokenizers: The current process just got forked, after parallelism has already been used. Disabling parallelism to avoid deadlocks...\n",
      "To disable this warning, you can either:\n",
      "\t- Avoid using `tokenizers` before the fork if possible\n",
      "\t- Explicitly set the environment variable TOKENIZERS_PARALLELISM=(true | false)\n",
      "huggingface/tokenizers: The current process just got forked, after parallelism has already been used. Disabling parallelism to avoid deadlocks...\n",
      "To disable this warning, you can either:\n",
      "\t- Avoid using `tokenizers` before the fork if possible\n",
      "\t- Explicitly set the environment variable TOKENIZERS_PARALLELISM=(true | false)\n",
      "huggingface/tokenizers: The current process just got forked, after parallelism has already been used. Disabling parallelism to avoid deadlocks...\n",
      "To disable this warning, you can either:\n",
      "\t- Avoid using `tokenizers` before the fork if possible\n",
      "\t- Explicitly set the environment variable TOKENIZERS_PARALLELISM=(true | false)\n",
      "f1 gender: 0.5809312638580931\n"
     ]
    },
    {
     "name": "stderr",
     "output_type": "stream",
     "text": [
      "/home/azaelcarrillo/miniconda3/envs/rest-mex-reco-gpu/lib/python3.10/site-packages/sklearn/discriminant_analysis.py:878: UserWarning: Variables are collinear\n",
      "  warnings.warn(\"Variables are collinear\")\n",
      "/home/azaelcarrillo/miniconda3/envs/rest-mex-reco-gpu/lib/python3.10/site-packages/sklearn/discriminant_analysis.py:878: UserWarning: Variables are collinear\n",
      "  warnings.warn(\"Variables are collinear\")\n",
      "/home/azaelcarrillo/miniconda3/envs/rest-mex-reco-gpu/lib/python3.10/site-packages/sklearn/discriminant_analysis.py:878: UserWarning: Variables are collinear\n",
      "  warnings.warn(\"Variables are collinear\")\n",
      "/home/azaelcarrillo/miniconda3/envs/rest-mex-reco-gpu/lib/python3.10/site-packages/sklearn/discriminant_analysis.py:878: UserWarning: Variables are collinear\n",
      "  warnings.warn(\"Variables are collinear\")\n"
     ]
    },
    {
     "name": "stdout",
     "output_type": "stream",
     "text": [
      "f1 profession: 0.8898601398601398\n",
      "f1 ideology_binary: 0.7731481481481481\n"
     ]
    },
    {
     "name": "stderr",
     "output_type": "stream",
     "text": [
      "/home/azaelcarrillo/miniconda3/envs/rest-mex-reco-gpu/lib/python3.10/site-packages/sklearn/discriminant_analysis.py:878: UserWarning: Variables are collinear\n",
      "  warnings.warn(\"Variables are collinear\")\n",
      "/home/azaelcarrillo/miniconda3/envs/rest-mex-reco-gpu/lib/python3.10/site-packages/sklearn/discriminant_analysis.py:878: UserWarning: Variables are collinear\n",
      "  warnings.warn(\"Variables are collinear\")\n",
      "/home/azaelcarrillo/miniconda3/envs/rest-mex-reco-gpu/lib/python3.10/site-packages/sklearn/discriminant_analysis.py:878: UserWarning: Variables are collinear\n",
      "  warnings.warn(\"Variables are collinear\")\n",
      "/home/azaelcarrillo/miniconda3/envs/rest-mex-reco-gpu/lib/python3.10/site-packages/sklearn/discriminant_analysis.py:878: UserWarning: Variables are collinear\n",
      "  warnings.warn(\"Variables are collinear\")\n",
      "/home/azaelcarrillo/miniconda3/envs/rest-mex-reco-gpu/lib/python3.10/site-packages/sklearn/discriminant_analysis.py:878: UserWarning: Variables are collinear\n",
      "  warnings.warn(\"Variables are collinear\")\n",
      "/home/azaelcarrillo/miniconda3/envs/rest-mex-reco-gpu/lib/python3.10/site-packages/sklearn/discriminant_analysis.py:878: UserWarning: Variables are collinear\n",
      "  warnings.warn(\"Variables are collinear\")\n",
      "/home/azaelcarrillo/miniconda3/envs/rest-mex-reco-gpu/lib/python3.10/site-packages/sklearn/discriminant_analysis.py:878: UserWarning: Variables are collinear\n",
      "  warnings.warn(\"Variables are collinear\")\n",
      "/home/azaelcarrillo/miniconda3/envs/rest-mex-reco-gpu/lib/python3.10/site-packages/sklearn/discriminant_analysis.py:878: UserWarning: Variables are collinear\n",
      "  warnings.warn(\"Variables are collinear\")\n"
     ]
    },
    {
     "name": "stdout",
     "output_type": "stream",
     "text": [
      "f1 ideology_multiclass: 0.2686688311688311\n"
     ]
    }
   ],
   "source": [
    "from sklearn.discriminant_analysis import LinearDiscriminantAnalysis, QuadraticDiscriminantAnalysis\n",
    "from sklearn.decomposition import PCA\n",
    "parameters = [{'pca__n_components':[10,30,40,50,80,100,200]}]\n",
    "model =  Pipeline([('pca', PCA()), ('qda', QuadraticDiscriminantAnalysis())])\n",
    "model = GridSearchCV(model, cv=4, verbose=False, n_jobs=-1, param_grid=parameters)\n",
    "\n",
    "test_model(model, X_train_emb, X_test_emb)"
   ]
  },
  {
   "cell_type": "code",
   "execution_count": 456,
   "id": "50153dee-9e0a-4fd9-8d30-4f14dc4b4198",
   "metadata": {
    "collapsed": true,
    "jupyter": {
     "outputs_hidden": true
    },
    "tags": []
   },
   "outputs": [
    {
     "name": "stdout",
     "output_type": "stream",
     "text": [
      "GridSearchCV(cv=4,\n",
      "             estimator=XGBClassifier(base_score=None, booster=None,\n",
      "                                     callbacks=None, colsample_bylevel=None,\n",
      "                                     colsample_bynode=None,\n",
      "                                     colsample_bytree=None,\n",
      "                                     early_stopping_rounds=None,\n",
      "                                     enable_categorical=False, eval_metric=None,\n",
      "                                     gamma=None, gpu_id=None, grow_policy=None,\n",
      "                                     importance_type=None,\n",
      "                                     interaction_constraints=None,\n",
      "                                     learning_rate=None, max_bin=None,\n",
      "                                     max_cat_to_onehot=None,\n",
      "                                     max_delta_step=None, max_depth=None,\n",
      "                                     max_leaves=None, min_child_weight=None,\n",
      "                                     missing=nan, monotone_constraints=None,\n",
      "                                     n_estimators=100, n_jobs=None,\n",
      "                                     num_parallel_tree=None, predictor=None,\n",
      "                                     random_state=None, reg_alpha=None,\n",
      "                                     reg_lambda=None, ...),\n",
      "             n_jobs=-1,\n",
      "             param_grid=[{'max_depth': [4, 8],\n",
      "                          'n_estimators': [100, 200, 300, 400, 500]}],\n",
      "             verbose=False)\n"
     ]
    },
    {
     "ename": "KeyboardInterrupt",
     "evalue": "",
     "output_type": "error",
     "traceback": [
      "\u001b[0;31m---------------------------------------------------------------------------\u001b[0m",
      "\u001b[0;31mKeyboardInterrupt\u001b[0m                         Traceback (most recent call last)",
      "Input \u001b[0;32mIn [456]\u001b[0m, in \u001b[0;36m<cell line: 5>\u001b[0;34m()\u001b[0m\n\u001b[1;32m      2\u001b[0m model \u001b[38;5;241m=\u001b[39m XGBClassifier(use_label_encoder\u001b[38;5;241m=\u001b[39m\u001b[38;5;28;01mFalse\u001b[39;00m)\n\u001b[1;32m      3\u001b[0m model \u001b[38;5;241m=\u001b[39m GridSearchCV(model, cv\u001b[38;5;241m=\u001b[39m\u001b[38;5;241m4\u001b[39m, verbose\u001b[38;5;241m=\u001b[39m\u001b[38;5;28;01mFalse\u001b[39;00m, n_jobs\u001b[38;5;241m=\u001b[39m\u001b[38;5;241m-\u001b[39m\u001b[38;5;241m1\u001b[39m, param_grid\u001b[38;5;241m=\u001b[39mparameters)\n\u001b[0;32m----> 5\u001b[0m \u001b[43mtest_model\u001b[49m\u001b[43m(\u001b[49m\u001b[43mmodel\u001b[49m\u001b[43m,\u001b[49m\u001b[43m \u001b[49m\u001b[43mX_train_emb\u001b[49m\u001b[43m,\u001b[49m\u001b[43m \u001b[49m\u001b[43mX_test_emb\u001b[49m\u001b[43m)\u001b[49m\n",
      "Input \u001b[0;32mIn [436]\u001b[0m, in \u001b[0;36mtest_model\u001b[0;34m(model, X_train, X_test)\u001b[0m\n\u001b[1;32m      4\u001b[0m y_train \u001b[38;5;241m=\u001b[39m Y_train[target]\n\u001b[1;32m      5\u001b[0m y_test \u001b[38;5;241m=\u001b[39m Y_test[target]\n\u001b[0;32m----> 8\u001b[0m \u001b[43mmodel\u001b[49m\u001b[38;5;241;43m.\u001b[39;49m\u001b[43mfit\u001b[49m\u001b[43m(\u001b[49m\u001b[43mX_train\u001b[49m\u001b[43m,\u001b[49m\u001b[43m \u001b[49m\u001b[43my_train\u001b[49m\u001b[43m)\u001b[49m\n\u001b[1;32m     10\u001b[0m y_pred \u001b[38;5;241m=\u001b[39m model\u001b[38;5;241m.\u001b[39mpredict_proba(X_test)[:,\u001b[38;5;241m1\u001b[39m]\n\u001b[1;32m     11\u001b[0m y_pred \u001b[38;5;241m=\u001b[39m pd\u001b[38;5;241m.\u001b[39mSeries(y_pred, Y_test\u001b[38;5;241m.\u001b[39mindex)\n",
      "File \u001b[0;32m~/miniconda3/envs/rest-mex-reco-gpu/lib/python3.10/site-packages/sklearn/model_selection/_search.py:891\u001b[0m, in \u001b[0;36mBaseSearchCV.fit\u001b[0;34m(self, X, y, groups, **fit_params)\u001b[0m\n\u001b[1;32m    885\u001b[0m     results \u001b[38;5;241m=\u001b[39m \u001b[38;5;28mself\u001b[39m\u001b[38;5;241m.\u001b[39m_format_results(\n\u001b[1;32m    886\u001b[0m         all_candidate_params, n_splits, all_out, all_more_results\n\u001b[1;32m    887\u001b[0m     )\n\u001b[1;32m    889\u001b[0m     \u001b[38;5;28;01mreturn\u001b[39;00m results\n\u001b[0;32m--> 891\u001b[0m \u001b[38;5;28;43mself\u001b[39;49m\u001b[38;5;241;43m.\u001b[39;49m\u001b[43m_run_search\u001b[49m\u001b[43m(\u001b[49m\u001b[43mevaluate_candidates\u001b[49m\u001b[43m)\u001b[49m\n\u001b[1;32m    893\u001b[0m \u001b[38;5;66;03m# multimetric is determined here because in the case of a callable\u001b[39;00m\n\u001b[1;32m    894\u001b[0m \u001b[38;5;66;03m# self.scoring the return type is only known after calling\u001b[39;00m\n\u001b[1;32m    895\u001b[0m first_test_score \u001b[38;5;241m=\u001b[39m all_out[\u001b[38;5;241m0\u001b[39m][\u001b[38;5;124m\"\u001b[39m\u001b[38;5;124mtest_scores\u001b[39m\u001b[38;5;124m\"\u001b[39m]\n",
      "File \u001b[0;32m~/miniconda3/envs/rest-mex-reco-gpu/lib/python3.10/site-packages/sklearn/model_selection/_search.py:1392\u001b[0m, in \u001b[0;36mGridSearchCV._run_search\u001b[0;34m(self, evaluate_candidates)\u001b[0m\n\u001b[1;32m   1390\u001b[0m \u001b[38;5;28;01mdef\u001b[39;00m \u001b[38;5;21m_run_search\u001b[39m(\u001b[38;5;28mself\u001b[39m, evaluate_candidates):\n\u001b[1;32m   1391\u001b[0m     \u001b[38;5;124;03m\"\"\"Search all candidates in param_grid\"\"\"\u001b[39;00m\n\u001b[0;32m-> 1392\u001b[0m     \u001b[43mevaluate_candidates\u001b[49m\u001b[43m(\u001b[49m\u001b[43mParameterGrid\u001b[49m\u001b[43m(\u001b[49m\u001b[38;5;28;43mself\u001b[39;49m\u001b[38;5;241;43m.\u001b[39;49m\u001b[43mparam_grid\u001b[49m\u001b[43m)\u001b[49m\u001b[43m)\u001b[49m\n",
      "File \u001b[0;32m~/miniconda3/envs/rest-mex-reco-gpu/lib/python3.10/site-packages/sklearn/model_selection/_search.py:838\u001b[0m, in \u001b[0;36mBaseSearchCV.fit.<locals>.evaluate_candidates\u001b[0;34m(candidate_params, cv, more_results)\u001b[0m\n\u001b[1;32m    830\u001b[0m \u001b[38;5;28;01mif\u001b[39;00m \u001b[38;5;28mself\u001b[39m\u001b[38;5;241m.\u001b[39mverbose \u001b[38;5;241m>\u001b[39m \u001b[38;5;241m0\u001b[39m:\n\u001b[1;32m    831\u001b[0m     \u001b[38;5;28mprint\u001b[39m(\n\u001b[1;32m    832\u001b[0m         \u001b[38;5;124m\"\u001b[39m\u001b[38;5;124mFitting \u001b[39m\u001b[38;5;132;01m{0}\u001b[39;00m\u001b[38;5;124m folds for each of \u001b[39m\u001b[38;5;132;01m{1}\u001b[39;00m\u001b[38;5;124m candidates,\u001b[39m\u001b[38;5;124m\"\u001b[39m\n\u001b[1;32m    833\u001b[0m         \u001b[38;5;124m\"\u001b[39m\u001b[38;5;124m totalling \u001b[39m\u001b[38;5;132;01m{2}\u001b[39;00m\u001b[38;5;124m fits\u001b[39m\u001b[38;5;124m\"\u001b[39m\u001b[38;5;241m.\u001b[39mformat(\n\u001b[1;32m    834\u001b[0m             n_splits, n_candidates, n_candidates \u001b[38;5;241m*\u001b[39m n_splits\n\u001b[1;32m    835\u001b[0m         )\n\u001b[1;32m    836\u001b[0m     )\n\u001b[0;32m--> 838\u001b[0m out \u001b[38;5;241m=\u001b[39m \u001b[43mparallel\u001b[49m\u001b[43m(\u001b[49m\n\u001b[1;32m    839\u001b[0m \u001b[43m    \u001b[49m\u001b[43mdelayed\u001b[49m\u001b[43m(\u001b[49m\u001b[43m_fit_and_score\u001b[49m\u001b[43m)\u001b[49m\u001b[43m(\u001b[49m\n\u001b[1;32m    840\u001b[0m \u001b[43m        \u001b[49m\u001b[43mclone\u001b[49m\u001b[43m(\u001b[49m\u001b[43mbase_estimator\u001b[49m\u001b[43m)\u001b[49m\u001b[43m,\u001b[49m\n\u001b[1;32m    841\u001b[0m \u001b[43m        \u001b[49m\u001b[43mX\u001b[49m\u001b[43m,\u001b[49m\n\u001b[1;32m    842\u001b[0m \u001b[43m        \u001b[49m\u001b[43my\u001b[49m\u001b[43m,\u001b[49m\n\u001b[1;32m    843\u001b[0m \u001b[43m        \u001b[49m\u001b[43mtrain\u001b[49m\u001b[38;5;241;43m=\u001b[39;49m\u001b[43mtrain\u001b[49m\u001b[43m,\u001b[49m\n\u001b[1;32m    844\u001b[0m \u001b[43m        \u001b[49m\u001b[43mtest\u001b[49m\u001b[38;5;241;43m=\u001b[39;49m\u001b[43mtest\u001b[49m\u001b[43m,\u001b[49m\n\u001b[1;32m    845\u001b[0m \u001b[43m        \u001b[49m\u001b[43mparameters\u001b[49m\u001b[38;5;241;43m=\u001b[39;49m\u001b[43mparameters\u001b[49m\u001b[43m,\u001b[49m\n\u001b[1;32m    846\u001b[0m \u001b[43m        \u001b[49m\u001b[43msplit_progress\u001b[49m\u001b[38;5;241;43m=\u001b[39;49m\u001b[43m(\u001b[49m\u001b[43msplit_idx\u001b[49m\u001b[43m,\u001b[49m\u001b[43m \u001b[49m\u001b[43mn_splits\u001b[49m\u001b[43m)\u001b[49m\u001b[43m,\u001b[49m\n\u001b[1;32m    847\u001b[0m \u001b[43m        \u001b[49m\u001b[43mcandidate_progress\u001b[49m\u001b[38;5;241;43m=\u001b[39;49m\u001b[43m(\u001b[49m\u001b[43mcand_idx\u001b[49m\u001b[43m,\u001b[49m\u001b[43m \u001b[49m\u001b[43mn_candidates\u001b[49m\u001b[43m)\u001b[49m\u001b[43m,\u001b[49m\n\u001b[1;32m    848\u001b[0m \u001b[43m        \u001b[49m\u001b[38;5;241;43m*\u001b[39;49m\u001b[38;5;241;43m*\u001b[39;49m\u001b[43mfit_and_score_kwargs\u001b[49m\u001b[43m,\u001b[49m\n\u001b[1;32m    849\u001b[0m \u001b[43m    \u001b[49m\u001b[43m)\u001b[49m\n\u001b[1;32m    850\u001b[0m \u001b[43m    \u001b[49m\u001b[38;5;28;43;01mfor\u001b[39;49;00m\u001b[43m \u001b[49m\u001b[43m(\u001b[49m\u001b[43mcand_idx\u001b[49m\u001b[43m,\u001b[49m\u001b[43m \u001b[49m\u001b[43mparameters\u001b[49m\u001b[43m)\u001b[49m\u001b[43m,\u001b[49m\u001b[43m \u001b[49m\u001b[43m(\u001b[49m\u001b[43msplit_idx\u001b[49m\u001b[43m,\u001b[49m\u001b[43m \u001b[49m\u001b[43m(\u001b[49m\u001b[43mtrain\u001b[49m\u001b[43m,\u001b[49m\u001b[43m \u001b[49m\u001b[43mtest\u001b[49m\u001b[43m)\u001b[49m\u001b[43m)\u001b[49m\u001b[43m \u001b[49m\u001b[38;5;129;43;01min\u001b[39;49;00m\u001b[43m \u001b[49m\u001b[43mproduct\u001b[49m\u001b[43m(\u001b[49m\n\u001b[1;32m    851\u001b[0m \u001b[43m        \u001b[49m\u001b[38;5;28;43menumerate\u001b[39;49m\u001b[43m(\u001b[49m\u001b[43mcandidate_params\u001b[49m\u001b[43m)\u001b[49m\u001b[43m,\u001b[49m\u001b[43m \u001b[49m\u001b[38;5;28;43menumerate\u001b[39;49m\u001b[43m(\u001b[49m\u001b[43mcv\u001b[49m\u001b[38;5;241;43m.\u001b[39;49m\u001b[43msplit\u001b[49m\u001b[43m(\u001b[49m\u001b[43mX\u001b[49m\u001b[43m,\u001b[49m\u001b[43m \u001b[49m\u001b[43my\u001b[49m\u001b[43m,\u001b[49m\u001b[43m \u001b[49m\u001b[43mgroups\u001b[49m\u001b[43m)\u001b[49m\u001b[43m)\u001b[49m\n\u001b[1;32m    852\u001b[0m \u001b[43m    \u001b[49m\u001b[43m)\u001b[49m\n\u001b[1;32m    853\u001b[0m \u001b[43m\u001b[49m\u001b[43m)\u001b[49m\n\u001b[1;32m    855\u001b[0m \u001b[38;5;28;01mif\u001b[39;00m \u001b[38;5;28mlen\u001b[39m(out) \u001b[38;5;241m<\u001b[39m \u001b[38;5;241m1\u001b[39m:\n\u001b[1;32m    856\u001b[0m     \u001b[38;5;28;01mraise\u001b[39;00m \u001b[38;5;167;01mValueError\u001b[39;00m(\n\u001b[1;32m    857\u001b[0m         \u001b[38;5;124m\"\u001b[39m\u001b[38;5;124mNo fits were performed. \u001b[39m\u001b[38;5;124m\"\u001b[39m\n\u001b[1;32m    858\u001b[0m         \u001b[38;5;124m\"\u001b[39m\u001b[38;5;124mWas the CV iterator empty? \u001b[39m\u001b[38;5;124m\"\u001b[39m\n\u001b[1;32m    859\u001b[0m         \u001b[38;5;124m\"\u001b[39m\u001b[38;5;124mWere there no candidates?\u001b[39m\u001b[38;5;124m\"\u001b[39m\n\u001b[1;32m    860\u001b[0m     )\n",
      "File \u001b[0;32m~/miniconda3/envs/rest-mex-reco-gpu/lib/python3.10/site-packages/joblib/parallel.py:1056\u001b[0m, in \u001b[0;36mParallel.__call__\u001b[0;34m(self, iterable)\u001b[0m\n\u001b[1;32m   1053\u001b[0m     \u001b[38;5;28mself\u001b[39m\u001b[38;5;241m.\u001b[39m_iterating \u001b[38;5;241m=\u001b[39m \u001b[38;5;28;01mFalse\u001b[39;00m\n\u001b[1;32m   1055\u001b[0m \u001b[38;5;28;01mwith\u001b[39;00m \u001b[38;5;28mself\u001b[39m\u001b[38;5;241m.\u001b[39m_backend\u001b[38;5;241m.\u001b[39mretrieval_context():\n\u001b[0;32m-> 1056\u001b[0m     \u001b[38;5;28;43mself\u001b[39;49m\u001b[38;5;241;43m.\u001b[39;49m\u001b[43mretrieve\u001b[49m\u001b[43m(\u001b[49m\u001b[43m)\u001b[49m\n\u001b[1;32m   1057\u001b[0m \u001b[38;5;66;03m# Make sure that we get a last message telling us we are done\u001b[39;00m\n\u001b[1;32m   1058\u001b[0m elapsed_time \u001b[38;5;241m=\u001b[39m time\u001b[38;5;241m.\u001b[39mtime() \u001b[38;5;241m-\u001b[39m \u001b[38;5;28mself\u001b[39m\u001b[38;5;241m.\u001b[39m_start_time\n",
      "File \u001b[0;32m~/miniconda3/envs/rest-mex-reco-gpu/lib/python3.10/site-packages/joblib/parallel.py:935\u001b[0m, in \u001b[0;36mParallel.retrieve\u001b[0;34m(self)\u001b[0m\n\u001b[1;32m    933\u001b[0m \u001b[38;5;28;01mtry\u001b[39;00m:\n\u001b[1;32m    934\u001b[0m     \u001b[38;5;28;01mif\u001b[39;00m \u001b[38;5;28mgetattr\u001b[39m(\u001b[38;5;28mself\u001b[39m\u001b[38;5;241m.\u001b[39m_backend, \u001b[38;5;124m'\u001b[39m\u001b[38;5;124msupports_timeout\u001b[39m\u001b[38;5;124m'\u001b[39m, \u001b[38;5;28;01mFalse\u001b[39;00m):\n\u001b[0;32m--> 935\u001b[0m         \u001b[38;5;28mself\u001b[39m\u001b[38;5;241m.\u001b[39m_output\u001b[38;5;241m.\u001b[39mextend(\u001b[43mjob\u001b[49m\u001b[38;5;241;43m.\u001b[39;49m\u001b[43mget\u001b[49m\u001b[43m(\u001b[49m\u001b[43mtimeout\u001b[49m\u001b[38;5;241;43m=\u001b[39;49m\u001b[38;5;28;43mself\u001b[39;49m\u001b[38;5;241;43m.\u001b[39;49m\u001b[43mtimeout\u001b[49m\u001b[43m)\u001b[49m)\n\u001b[1;32m    936\u001b[0m     \u001b[38;5;28;01melse\u001b[39;00m:\n\u001b[1;32m    937\u001b[0m         \u001b[38;5;28mself\u001b[39m\u001b[38;5;241m.\u001b[39m_output\u001b[38;5;241m.\u001b[39mextend(job\u001b[38;5;241m.\u001b[39mget())\n",
      "File \u001b[0;32m~/miniconda3/envs/rest-mex-reco-gpu/lib/python3.10/site-packages/joblib/_parallel_backends.py:542\u001b[0m, in \u001b[0;36mLokyBackend.wrap_future_result\u001b[0;34m(future, timeout)\u001b[0m\n\u001b[1;32m    539\u001b[0m \u001b[38;5;124;03m\"\"\"Wrapper for Future.result to implement the same behaviour as\u001b[39;00m\n\u001b[1;32m    540\u001b[0m \u001b[38;5;124;03mAsyncResults.get from multiprocessing.\"\"\"\u001b[39;00m\n\u001b[1;32m    541\u001b[0m \u001b[38;5;28;01mtry\u001b[39;00m:\n\u001b[0;32m--> 542\u001b[0m     \u001b[38;5;28;01mreturn\u001b[39;00m \u001b[43mfuture\u001b[49m\u001b[38;5;241;43m.\u001b[39;49m\u001b[43mresult\u001b[49m\u001b[43m(\u001b[49m\u001b[43mtimeout\u001b[49m\u001b[38;5;241;43m=\u001b[39;49m\u001b[43mtimeout\u001b[49m\u001b[43m)\u001b[49m\n\u001b[1;32m    543\u001b[0m \u001b[38;5;28;01mexcept\u001b[39;00m CfTimeoutError \u001b[38;5;28;01mas\u001b[39;00m e:\n\u001b[1;32m    544\u001b[0m     \u001b[38;5;28;01mraise\u001b[39;00m \u001b[38;5;167;01mTimeoutError\u001b[39;00m \u001b[38;5;28;01mfrom\u001b[39;00m \u001b[38;5;21;01me\u001b[39;00m\n",
      "File \u001b[0;32m~/miniconda3/envs/rest-mex-reco-gpu/lib/python3.10/concurrent/futures/_base.py:441\u001b[0m, in \u001b[0;36mFuture.result\u001b[0;34m(self, timeout)\u001b[0m\n\u001b[1;32m    438\u001b[0m \u001b[38;5;28;01melif\u001b[39;00m \u001b[38;5;28mself\u001b[39m\u001b[38;5;241m.\u001b[39m_state \u001b[38;5;241m==\u001b[39m FINISHED:\n\u001b[1;32m    439\u001b[0m     \u001b[38;5;28;01mreturn\u001b[39;00m \u001b[38;5;28mself\u001b[39m\u001b[38;5;241m.\u001b[39m__get_result()\n\u001b[0;32m--> 441\u001b[0m \u001b[38;5;28;43mself\u001b[39;49m\u001b[38;5;241;43m.\u001b[39;49m\u001b[43m_condition\u001b[49m\u001b[38;5;241;43m.\u001b[39;49m\u001b[43mwait\u001b[49m\u001b[43m(\u001b[49m\u001b[43mtimeout\u001b[49m\u001b[43m)\u001b[49m\n\u001b[1;32m    443\u001b[0m \u001b[38;5;28;01mif\u001b[39;00m \u001b[38;5;28mself\u001b[39m\u001b[38;5;241m.\u001b[39m_state \u001b[38;5;129;01min\u001b[39;00m [CANCELLED, CANCELLED_AND_NOTIFIED]:\n\u001b[1;32m    444\u001b[0m     \u001b[38;5;28;01mraise\u001b[39;00m CancelledError()\n",
      "File \u001b[0;32m~/miniconda3/envs/rest-mex-reco-gpu/lib/python3.10/threading.py:320\u001b[0m, in \u001b[0;36mCondition.wait\u001b[0;34m(self, timeout)\u001b[0m\n\u001b[1;32m    318\u001b[0m \u001b[38;5;28;01mtry\u001b[39;00m:    \u001b[38;5;66;03m# restore state no matter what (e.g., KeyboardInterrupt)\u001b[39;00m\n\u001b[1;32m    319\u001b[0m     \u001b[38;5;28;01mif\u001b[39;00m timeout \u001b[38;5;129;01mis\u001b[39;00m \u001b[38;5;28;01mNone\u001b[39;00m:\n\u001b[0;32m--> 320\u001b[0m         \u001b[43mwaiter\u001b[49m\u001b[38;5;241;43m.\u001b[39;49m\u001b[43macquire\u001b[49m\u001b[43m(\u001b[49m\u001b[43m)\u001b[49m\n\u001b[1;32m    321\u001b[0m         gotit \u001b[38;5;241m=\u001b[39m \u001b[38;5;28;01mTrue\u001b[39;00m\n\u001b[1;32m    322\u001b[0m     \u001b[38;5;28;01melse\u001b[39;00m:\n",
      "\u001b[0;31mKeyboardInterrupt\u001b[0m: "
     ]
    }
   ],
   "source": [
    "parameters = [{'n_estimators':[100,200,300,400,500], 'max_depth':[4,8]}]\n",
    "model = XGBClassifier(use_label_encoder=False)\n",
    "model = GridSearchCV(model, cv=4, verbose=False, n_jobs=-1, param_grid=parameters)\n",
    "\n",
    "test_model(model, X_train_emb, X_test_emb)"
   ]
  },
  {
   "cell_type": "markdown",
   "id": "93cdfdfa-4375-429f-a402-e4dab30d417d",
   "metadata": {},
   "source": [
    "## TFIDF"
   ]
  },
  {
   "cell_type": "code",
   "execution_count": 5,
   "id": "8ffdafcb-9e77-4d77-b60d-7cb0eae4c7b3",
   "metadata": {},
   "outputs": [],
   "source": [
    "from sklearn.feature_extraction.text import TfidfVectorizer\n",
    "from sklearn.model_selection import GridSearchCV"
   ]
  },
  {
   "cell_type": "code",
   "execution_count": 6,
   "id": "e1016a95-3c3f-4cda-bed0-95189cf3a38a",
   "metadata": {},
   "outputs": [],
   "source": [
    "from nltk.corpus import stopwords\n",
    "stopwords = stopwords.words('spanish')"
   ]
  },
  {
   "cell_type": "code",
   "execution_count": 12,
   "id": "366274bd-6de3-47f1-bf65-5587e6da1963",
   "metadata": {},
   "outputs": [],
   "source": [
    "tf = TfidfVectorizer(analyzer = 'word',\n",
    "                     min_df = 1,\n",
    "                     max_features = 5000,\n",
    "                     lowercase=True,\n",
    "                     stop_words=stopwords)\n",
    "X_train_tf = tf.fit_transform(X_train).toarray()\n",
    "X_test_tf = tf.transform(X_test).toarray()"
   ]
  },
  {
   "cell_type": "code",
   "execution_count": null,
   "id": "a285d054-016b-44be-bea0-0a3e02930eec",
   "metadata": {},
   "outputs": [],
   "source": [
    "np.linspace()"
   ]
  },
  {
   "cell_type": "code",
   "execution_count": 15,
   "id": "f0680008-fe99-4db3-b702-304614918aab",
   "metadata": {},
   "outputs": [
    {
     "data": {
      "text/plain": [
       "array([1.00000000e-03, 4.64158883e-03, 2.15443469e-02, 1.00000000e-01,\n",
       "       4.64158883e-01, 2.15443469e+00, 1.00000000e+01, 4.64158883e+01,\n",
       "       2.15443469e+02, 1.00000000e+03])"
      ]
     },
     "execution_count": 15,
     "metadata": {},
     "output_type": "execute_result"
    }
   ],
   "source": [
    "np.logspace(-3, 3, 10)"
   ]
  },
  {
   "cell_type": "code",
   "execution_count": 33,
   "id": "c5459a47-68a5-40b3-98d9-dccd38f9f0ce",
   "metadata": {},
   "outputs": [
    {
     "data": {
      "text/plain": [
       "1.352179960158715"
      ]
     },
     "execution_count": 33,
     "metadata": {},
     "output_type": "execute_result"
    }
   ],
   "source": [
    "from scipy.stats import loguniform\n",
    "a = "
   ]
  },
  {
   "cell_type": "code",
   "execution_count": 34,
   "id": "fa727319-58b2-4955-a374-4a879f5cd8c8",
   "metadata": {
    "collapsed": true,
    "jupyter": {
     "outputs_hidden": true
    },
    "tags": []
   },
   "outputs": [
    {
     "name": "stdout",
     "output_type": "stream",
     "text": [
      "GridSearchCV(cv=5, estimator=LogisticRegression(max_iter=2000), n_jobs=-1,\n",
      "             param_grid=[{'C': [0.0001, 0.001, 0.001, 0.1, 1, 2, 5, 10],\n",
      "                          'penalty': ['l1', 'l2']}],\n",
      "             verbose=False)\n"
     ]
    },
    {
     "name": "stderr",
     "output_type": "stream",
     "text": [
      "/home/azaelcarrillo/miniconda3/envs/rest-mex-reco-gpu/lib/python3.10/site-packages/sklearn/model_selection/_validation.py:372: FitFailedWarning: \n",
      "40 fits failed out of a total of 80.\n",
      "The score on these train-test partitions for these parameters will be set to nan.\n",
      "If these failures are not expected, you can try to debug them by setting error_score='raise'.\n",
      "\n",
      "Below are more details about the failures:\n",
      "--------------------------------------------------------------------------------\n",
      "40 fits failed with the following error:\n",
      "Traceback (most recent call last):\n",
      "  File \"/home/azaelcarrillo/miniconda3/envs/rest-mex-reco-gpu/lib/python3.10/site-packages/sklearn/model_selection/_validation.py\", line 681, in _fit_and_score\n",
      "    estimator.fit(X_train, y_train, **fit_params)\n",
      "  File \"/home/azaelcarrillo/miniconda3/envs/rest-mex-reco-gpu/lib/python3.10/site-packages/sklearn/linear_model/_logistic.py\", line 1461, in fit\n",
      "    solver = _check_solver(self.solver, self.penalty, self.dual)\n",
      "  File \"/home/azaelcarrillo/miniconda3/envs/rest-mex-reco-gpu/lib/python3.10/site-packages/sklearn/linear_model/_logistic.py\", line 447, in _check_solver\n",
      "    raise ValueError(\n",
      "ValueError: Solver lbfgs supports only 'l2' or 'none' penalties, got l1 penalty.\n",
      "\n",
      "  warnings.warn(some_fits_failed_message, FitFailedWarning)\n",
      "/home/azaelcarrillo/miniconda3/envs/rest-mex-reco-gpu/lib/python3.10/site-packages/sklearn/model_selection/_search.py:969: UserWarning: One or more of the test scores are non-finite: [  nan 0.548   nan 0.548   nan 0.548   nan 0.601   nan 0.682   nan 0.693\n",
      "   nan 0.694   nan 0.69 ]\n",
      "  warnings.warn(\n"
     ]
    },
    {
     "name": "stdout",
     "output_type": "stream",
     "text": [
      "f1 gender: 0.6203730272596844\n"
     ]
    },
    {
     "name": "stderr",
     "output_type": "stream",
     "text": [
      "/home/azaelcarrillo/miniconda3/envs/rest-mex-reco-gpu/lib/python3.10/site-packages/sklearn/model_selection/_validation.py:372: FitFailedWarning: \n",
      "40 fits failed out of a total of 80.\n",
      "The score on these train-test partitions for these parameters will be set to nan.\n",
      "If these failures are not expected, you can try to debug them by setting error_score='raise'.\n",
      "\n",
      "Below are more details about the failures:\n",
      "--------------------------------------------------------------------------------\n",
      "40 fits failed with the following error:\n",
      "Traceback (most recent call last):\n",
      "  File \"/home/azaelcarrillo/miniconda3/envs/rest-mex-reco-gpu/lib/python3.10/site-packages/sklearn/model_selection/_validation.py\", line 681, in _fit_and_score\n",
      "    estimator.fit(X_train, y_train, **fit_params)\n",
      "  File \"/home/azaelcarrillo/miniconda3/envs/rest-mex-reco-gpu/lib/python3.10/site-packages/sklearn/linear_model/_logistic.py\", line 1461, in fit\n",
      "    solver = _check_solver(self.solver, self.penalty, self.dual)\n",
      "  File \"/home/azaelcarrillo/miniconda3/envs/rest-mex-reco-gpu/lib/python3.10/site-packages/sklearn/linear_model/_logistic.py\", line 447, in _check_solver\n",
      "    raise ValueError(\n",
      "ValueError: Solver lbfgs supports only 'l2' or 'none' penalties, got l1 penalty.\n",
      "\n",
      "  warnings.warn(some_fits_failed_message, FitFailedWarning)\n",
      "/home/azaelcarrillo/miniconda3/envs/rest-mex-reco-gpu/lib/python3.10/site-packages/sklearn/model_selection/_search.py:969: UserWarning: One or more of the test scores are non-finite: [  nan 0.806   nan 0.806   nan 0.806   nan 0.806   nan 0.832   nan 0.865\n",
      "   nan 0.898   nan 0.904]\n",
      "  warnings.warn(\n"
     ]
    },
    {
     "name": "stdout",
     "output_type": "stream",
     "text": [
      "f1 profession: 0.8138455044322499\n"
     ]
    },
    {
     "name": "stderr",
     "output_type": "stream",
     "text": [
      "/home/azaelcarrillo/miniconda3/envs/rest-mex-reco-gpu/lib/python3.10/site-packages/sklearn/model_selection/_validation.py:372: FitFailedWarning: \n",
      "40 fits failed out of a total of 80.\n",
      "The score on these train-test partitions for these parameters will be set to nan.\n",
      "If these failures are not expected, you can try to debug them by setting error_score='raise'.\n",
      "\n",
      "Below are more details about the failures:\n",
      "--------------------------------------------------------------------------------\n",
      "40 fits failed with the following error:\n",
      "Traceback (most recent call last):\n",
      "  File \"/home/azaelcarrillo/miniconda3/envs/rest-mex-reco-gpu/lib/python3.10/site-packages/sklearn/model_selection/_validation.py\", line 681, in _fit_and_score\n",
      "    estimator.fit(X_train, y_train, **fit_params)\n",
      "  File \"/home/azaelcarrillo/miniconda3/envs/rest-mex-reco-gpu/lib/python3.10/site-packages/sklearn/linear_model/_logistic.py\", line 1461, in fit\n",
      "    solver = _check_solver(self.solver, self.penalty, self.dual)\n",
      "  File \"/home/azaelcarrillo/miniconda3/envs/rest-mex-reco-gpu/lib/python3.10/site-packages/sklearn/linear_model/_logistic.py\", line 447, in _check_solver\n",
      "    raise ValueError(\n",
      "ValueError: Solver lbfgs supports only 'l2' or 'none' penalties, got l1 penalty.\n",
      "\n",
      "  warnings.warn(some_fits_failed_message, FitFailedWarning)\n",
      "/home/azaelcarrillo/miniconda3/envs/rest-mex-reco-gpu/lib/python3.10/site-packages/sklearn/model_selection/_search.py:969: UserWarning: One or more of the test scores are non-finite: [  nan 0.564   nan 0.564   nan 0.564   nan 0.67    nan 0.883   nan 0.897\n",
      "   nan 0.899   nan 0.9  ]\n",
      "  warnings.warn(\n"
     ]
    },
    {
     "name": "stdout",
     "output_type": "stream",
     "text": [
      "f1 ideology_binary: 0.9027777777777779\n"
     ]
    },
    {
     "name": "stderr",
     "output_type": "stream",
     "text": [
      "/home/azaelcarrillo/miniconda3/envs/rest-mex-reco-gpu/lib/python3.10/site-packages/sklearn/model_selection/_validation.py:372: FitFailedWarning: \n",
      "40 fits failed out of a total of 80.\n",
      "The score on these train-test partitions for these parameters will be set to nan.\n",
      "If these failures are not expected, you can try to debug them by setting error_score='raise'.\n",
      "\n",
      "Below are more details about the failures:\n",
      "--------------------------------------------------------------------------------\n",
      "40 fits failed with the following error:\n",
      "Traceback (most recent call last):\n",
      "  File \"/home/azaelcarrillo/miniconda3/envs/rest-mex-reco-gpu/lib/python3.10/site-packages/sklearn/model_selection/_validation.py\", line 681, in _fit_and_score\n",
      "    estimator.fit(X_train, y_train, **fit_params)\n",
      "  File \"/home/azaelcarrillo/miniconda3/envs/rest-mex-reco-gpu/lib/python3.10/site-packages/sklearn/linear_model/_logistic.py\", line 1461, in fit\n",
      "    solver = _check_solver(self.solver, self.penalty, self.dual)\n",
      "  File \"/home/azaelcarrillo/miniconda3/envs/rest-mex-reco-gpu/lib/python3.10/site-packages/sklearn/linear_model/_logistic.py\", line 447, in _check_solver\n",
      "    raise ValueError(\n",
      "ValueError: Solver lbfgs supports only 'l2' or 'none' penalties, got l1 penalty.\n",
      "\n",
      "  warnings.warn(some_fits_failed_message, FitFailedWarning)\n",
      "/home/azaelcarrillo/miniconda3/envs/rest-mex-reco-gpu/lib/python3.10/site-packages/sklearn/model_selection/_search.py:969: UserWarning: One or more of the test scores are non-finite: [  nan 0.336   nan 0.423   nan 0.423   nan 0.65    nan 0.731   nan 0.76\n",
      "   nan 0.787   nan 0.793]\n",
      "  warnings.warn(\n"
     ]
    },
    {
     "name": "stdout",
     "output_type": "stream",
     "text": [
      "f1 ideology_multiclass: 0.29583333333333334\n"
     ]
    }
   ],
   "source": [
    "param_grid_reg = [\n",
    "    {\"C\": [.0001, .001, .001, 0.1, 1, 2, 5, 10],\n",
    "     \"penalty\": [\"l1\", \"l2\"]\n",
    "     }\n",
    "    ]\n",
    "\n",
    "model = LogisticRegression(max_iter=2000)\n",
    "model = GridSearchCV(model, param_grid=param_grid_reg, cv=5, verbose=False, n_jobs=-1)\n",
    "\n",
    "test_model(model, X_train_tf, X_test_tf)"
   ]
  },
  {
   "cell_type": "code",
   "execution_count": 442,
   "id": "f14d52a8-57ba-4e75-9d88-a00b81c0df06",
   "metadata": {},
   "outputs": [],
   "source": [
    "sd = StandardScaler()"
   ]
  },
  {
   "cell_type": "code",
   "execution_count": 443,
   "id": "e7423f73-8102-4856-a789-0c6efd219165",
   "metadata": {
    "tags": []
   },
   "outputs": [
    {
     "name": "stdout",
     "output_type": "stream",
     "text": [
      "GridSearchCV(cv=4,\n",
      "             estimator=Pipeline(steps=[('pca', PCA()),\n",
      "                                       ('qda',\n",
      "                                        QuadraticDiscriminantAnalysis())]),\n",
      "             n_jobs=-1,\n",
      "             param_grid=[{'pca__n_components': [10, 30, 40, 50, 80, 100, 200]}],\n",
      "             verbose=False)\n",
      "f1 gender: 0.4490740740740741\n",
      "f1 profession: 0.8622448979591837\n",
      "f1 ideology_binary: 0.9176470588235295\n"
     ]
    },
    {
     "name": "stderr",
     "output_type": "stream",
     "text": [
      "/home/azaelcarrillo/miniconda3/envs/rest-mex-reco-gpu/lib/python3.10/site-packages/sklearn/discriminant_analysis.py:878: UserWarning: Variables are collinear\n",
      "  warnings.warn(\"Variables are collinear\")\n",
      "/home/azaelcarrillo/miniconda3/envs/rest-mex-reco-gpu/lib/python3.10/site-packages/sklearn/discriminant_analysis.py:878: UserWarning: Variables are collinear\n",
      "  warnings.warn(\"Variables are collinear\")\n",
      "/home/azaelcarrillo/miniconda3/envs/rest-mex-reco-gpu/lib/python3.10/site-packages/sklearn/discriminant_analysis.py:878: UserWarning: Variables are collinear\n",
      "  warnings.warn(\"Variables are collinear\")\n",
      "/home/azaelcarrillo/miniconda3/envs/rest-mex-reco-gpu/lib/python3.10/site-packages/sklearn/discriminant_analysis.py:878: UserWarning: Variables are collinear\n",
      "  warnings.warn(\"Variables are collinear\")\n"
     ]
    },
    {
     "name": "stdout",
     "output_type": "stream",
     "text": [
      "f1 ideology_multiclass: 0.30293757649938796\n"
     ]
    }
   ],
   "source": [
    "model =  Pipeline([('pca', PCA()), ('qda', QuadraticDiscriminantAnalysis())])\n",
    "model = GridSearchCV(model, cv=4, verbose=False, n_jobs=-1, param_grid=parameters)\n",
    "\n",
    "X_train_tf_sd = sd.fit_transform(X_train_tf)\n",
    "X_test_tf_sd = sd.transform(X_test_tf)\n",
    "test_model(model, X_train_tf_sd, X_test_tf_sd)"
   ]
  },
  {
   "cell_type": "code",
   "execution_count": 446,
   "id": "0d04603c-79bc-4a8a-9735-1f29566976ad",
   "metadata": {},
   "outputs": [
    {
     "name": "stdout",
     "output_type": "stream",
     "text": [
      "RandomForestClassifier(n_estimators=300)\n",
      "f1 gender: 0.6159554730983303\n",
      "f1 profession: 0.5178571428571428\n",
      "f1 ideology_binary: 0.8673684210526316\n",
      "f1 ideology_multiclass: 0.19285714285714284\n"
     ]
    }
   ],
   "source": [
    "model = RandomForestClassifier(n_estimators=300)\n",
    "test_model(model, X_train_tf_sd, X_test_tf_sd)"
   ]
  },
  {
   "cell_type": "code",
   "execution_count": 444,
   "id": "c7f324d4-6323-4c35-bfbd-3bb4dc277471",
   "metadata": {},
   "outputs": [],
   "source": [
    "from sklearn.ensemble import RandomForestClassifier"
   ]
  },
  {
   "cell_type": "code",
   "execution_count": 356,
   "id": "f10f8b6e-0318-4f79-a627-31c30e8d47eb",
   "metadata": {
    "collapsed": true,
    "jupyter": {
     "outputs_hidden": true
    },
    "tags": []
   },
   "outputs": [
    {
     "name": "stderr",
     "output_type": "stream",
     "text": [
      "/home/azaelcarrillo/miniconda3/envs/rest-mex-reco-gpu/lib/python3.10/site-packages/xgboost/sklearn.py:793: UserWarning: `eval_metric` in `fit` method is deprecated for better compatibility with scikit-learn, use `eval_metric` in constructor or`set_params` instead.\n",
      "  warnings.warn(\n"
     ]
    },
    {
     "name": "stdout",
     "output_type": "stream",
     "text": [
      "[0]\tvalidation_0-logloss:0.69161\tvalidation_0-f1:0.65524\tvalidation_1-logloss:0.69183\tvalidation_1-f1:0.55544\n",
      "[1]\tvalidation_0-logloss:0.69004\tvalidation_0-f1:0.70769\tvalidation_1-logloss:0.69073\tvalidation_1-f1:0.62083\n",
      "[2]\tvalidation_0-logloss:0.68854\tvalidation_0-f1:0.67603\tvalidation_1-logloss:0.68946\tvalidation_1-f1:0.59501\n",
      "[3]\tvalidation_0-logloss:0.68705\tvalidation_0-f1:0.68212\tvalidation_1-logloss:0.68836\tvalidation_1-f1:0.57915\n",
      "[4]\tvalidation_0-logloss:0.68557\tvalidation_0-f1:0.69229\tvalidation_1-logloss:0.68710\tvalidation_1-f1:0.59966\n",
      "[5]\tvalidation_0-logloss:0.68412\tvalidation_0-f1:0.69563\tvalidation_1-logloss:0.68602\tvalidation_1-f1:0.59937\n",
      "[6]\tvalidation_0-logloss:0.68281\tvalidation_0-f1:0.69088\tvalidation_1-logloss:0.68516\tvalidation_1-f1:0.60421\n",
      "[7]\tvalidation_0-logloss:0.68141\tvalidation_0-f1:0.69280\tvalidation_1-logloss:0.68415\tvalidation_1-f1:0.60727\n",
      "[8]\tvalidation_0-logloss:0.68004\tvalidation_0-f1:0.68746\tvalidation_1-logloss:0.68316\tvalidation_1-f1:0.59966\n",
      "[9]\tvalidation_0-logloss:0.67860\tvalidation_0-f1:0.69676\tvalidation_1-logloss:0.68211\tvalidation_1-f1:0.61379\n",
      "[10]\tvalidation_0-logloss:0.67717\tvalidation_0-f1:0.69795\tvalidation_1-logloss:0.68116\tvalidation_1-f1:0.61706\n",
      "[11]\tvalidation_0-logloss:0.67573\tvalidation_0-f1:0.70473\tvalidation_1-logloss:0.68030\tvalidation_1-f1:0.61279\n",
      "[12]\tvalidation_0-logloss:0.67430\tvalidation_0-f1:0.70721\tvalidation_1-logloss:0.67928\tvalidation_1-f1:0.61195\n",
      "[13]\tvalidation_0-logloss:0.67297\tvalidation_0-f1:0.70092\tvalidation_1-logloss:0.67833\tvalidation_1-f1:0.60706\n",
      "[14]\tvalidation_0-logloss:0.67155\tvalidation_0-f1:0.70774\tvalidation_1-logloss:0.67737\tvalidation_1-f1:0.61195\n",
      "[15]\tvalidation_0-logloss:0.67022\tvalidation_0-f1:0.70905\tvalidation_1-logloss:0.67629\tvalidation_1-f1:0.60981\n",
      "[16]\tvalidation_0-logloss:0.66889\tvalidation_0-f1:0.71382\tvalidation_1-logloss:0.67550\tvalidation_1-f1:0.61247\n",
      "[17]\tvalidation_0-logloss:0.66754\tvalidation_0-f1:0.71733\tvalidation_1-logloss:0.67466\tvalidation_1-f1:0.60845\n",
      "[18]\tvalidation_0-logloss:0.66629\tvalidation_0-f1:0.71582\tvalidation_1-logloss:0.67363\tvalidation_1-f1:0.61115\n",
      "[19]\tvalidation_0-logloss:0.66497\tvalidation_0-f1:0.71769\tvalidation_1-logloss:0.67261\tvalidation_1-f1:0.60919\n",
      "[20]\tvalidation_0-logloss:0.66365\tvalidation_0-f1:0.72257\tvalidation_1-logloss:0.67177\tvalidation_1-f1:0.62414\n",
      "[21]\tvalidation_0-logloss:0.66255\tvalidation_0-f1:0.72219\tvalidation_1-logloss:0.67141\tvalidation_1-f1:0.60520\n",
      "[22]\tvalidation_0-logloss:0.66133\tvalidation_0-f1:0.72225\tvalidation_1-logloss:0.67052\tvalidation_1-f1:0.60403\n",
      "[23]\tvalidation_0-logloss:0.66018\tvalidation_0-f1:0.72601\tvalidation_1-logloss:0.66973\tvalidation_1-f1:0.60788\n",
      "[24]\tvalidation_0-logloss:0.65918\tvalidation_0-f1:0.72337\tvalidation_1-logloss:0.66928\tvalidation_1-f1:0.60544\n",
      "[25]\tvalidation_0-logloss:0.65791\tvalidation_0-f1:0.72301\tvalidation_1-logloss:0.66841\tvalidation_1-f1:0.60114\n",
      "[26]\tvalidation_0-logloss:0.65664\tvalidation_0-f1:0.72505\tvalidation_1-logloss:0.66752\tvalidation_1-f1:0.60682\n",
      "[27]\tvalidation_0-logloss:0.65563\tvalidation_0-f1:0.72480\tvalidation_1-logloss:0.66696\tvalidation_1-f1:0.60818\n",
      "[28]\tvalidation_0-logloss:0.65443\tvalidation_0-f1:0.72574\tvalidation_1-logloss:0.66622\tvalidation_1-f1:0.60098\n",
      "[29]\tvalidation_0-logloss:0.65319\tvalidation_0-f1:0.72838\tvalidation_1-logloss:0.66524\tvalidation_1-f1:0.60403\n",
      "[30]\tvalidation_0-logloss:0.65207\tvalidation_0-f1:0.72660\tvalidation_1-logloss:0.66436\tvalidation_1-f1:0.59937\n",
      "[31]\tvalidation_0-logloss:0.65085\tvalidation_0-f1:0.73220\tvalidation_1-logloss:0.66360\tvalidation_1-f1:0.60098\n",
      "[32]\tvalidation_0-logloss:0.64975\tvalidation_0-f1:0.72891\tvalidation_1-logloss:0.66301\tvalidation_1-f1:0.60403\n",
      "[33]\tvalidation_0-logloss:0.64860\tvalidation_0-f1:0.73096\tvalidation_1-logloss:0.66220\tvalidation_1-f1:0.59937\n",
      "[34]\tvalidation_0-logloss:0.64751\tvalidation_0-f1:0.73333\tvalidation_1-logloss:0.66151\tvalidation_1-f1:0.59485\n",
      "[35]\tvalidation_0-logloss:0.64634\tvalidation_0-f1:0.72900\tvalidation_1-logloss:0.66080\tvalidation_1-f1:0.60403\n",
      "[36]\tvalidation_0-logloss:0.64531\tvalidation_0-f1:0.73052\tvalidation_1-logloss:0.66018\tvalidation_1-f1:0.60260\n",
      "[37]\tvalidation_0-logloss:0.64418\tvalidation_0-f1:0.73135\tvalidation_1-logloss:0.65948\tvalidation_1-f1:0.60403\n",
      "[38]\tvalidation_0-logloss:0.64304\tvalidation_0-f1:0.72917\tvalidation_1-logloss:0.65899\tvalidation_1-f1:0.60421\n",
      "[39]\tvalidation_0-logloss:0.64204\tvalidation_0-f1:0.72651\tvalidation_1-logloss:0.65835\tvalidation_1-f1:0.60583\n",
      "[40]\tvalidation_0-logloss:0.64085\tvalidation_0-f1:0.73464\tvalidation_1-logloss:0.65764\tvalidation_1-f1:0.60565\n",
      "[41]\tvalidation_0-logloss:0.63977\tvalidation_0-f1:0.73088\tvalidation_1-logloss:0.65691\tvalidation_1-f1:0.61498\n",
      "[42]\tvalidation_0-logloss:0.63871\tvalidation_0-f1:0.73188\tvalidation_1-logloss:0.65642\tvalidation_1-f1:0.61636\n",
      "[43]\tvalidation_0-logloss:0.63768\tvalidation_0-f1:0.72743\tvalidation_1-logloss:0.65573\tvalidation_1-f1:0.60727\n",
      "[44]\tvalidation_0-logloss:0.63681\tvalidation_0-f1:0.72388\tvalidation_1-logloss:0.65552\tvalidation_1-f1:0.60421\n",
      "[45]\tvalidation_0-logloss:0.63578\tvalidation_0-f1:0.72023\tvalidation_1-logloss:0.65495\tvalidation_1-f1:0.61032\n",
      "[46]\tvalidation_0-logloss:0.63476\tvalidation_0-f1:0.72145\tvalidation_1-logloss:0.65449\tvalidation_1-f1:0.60890\n",
      "[47]\tvalidation_0-logloss:0.63370\tvalidation_0-f1:0.72145\tvalidation_1-logloss:0.65374\tvalidation_1-f1:0.61850\n",
      "[48]\tvalidation_0-logloss:0.63282\tvalidation_0-f1:0.72054\tvalidation_1-logloss:0.65319\tvalidation_1-f1:0.61233\n",
      "[49]\tvalidation_0-logloss:0.63199\tvalidation_0-f1:0.72557\tvalidation_1-logloss:0.65280\tvalidation_1-f1:0.60760\n",
      "[50]\tvalidation_0-logloss:0.63096\tvalidation_0-f1:0.72815\tvalidation_1-logloss:0.65218\tvalidation_1-f1:0.60760\n",
      "[51]\tvalidation_0-logloss:0.63011\tvalidation_0-f1:0.72693\tvalidation_1-logloss:0.65165\tvalidation_1-f1:0.60922\n",
      "[52]\tvalidation_0-logloss:0.62918\tvalidation_0-f1:0.72511\tvalidation_1-logloss:0.65104\tvalidation_1-f1:0.60296\n",
      "[53]\tvalidation_0-logloss:0.62833\tvalidation_0-f1:0.72390\tvalidation_1-logloss:0.65085\tvalidation_1-f1:0.60457\n",
      "[54]\tvalidation_0-logloss:0.62734\tvalidation_0-f1:0.72511\tvalidation_1-logloss:0.65028\tvalidation_1-f1:0.60296\n",
      "[55]\tvalidation_0-logloss:0.62655\tvalidation_0-f1:0.72496\tvalidation_1-logloss:0.64992\tvalidation_1-f1:0.59664\n",
      "[56]\tvalidation_0-logloss:0.62566\tvalidation_0-f1:0.72664\tvalidation_1-logloss:0.64942\tvalidation_1-f1:0.59981\n",
      "[57]\tvalidation_0-logloss:0.62477\tvalidation_0-f1:0.72528\tvalidation_1-logloss:0.64887\tvalidation_1-f1:0.60619\n",
      "[58]\tvalidation_0-logloss:0.62383\tvalidation_0-f1:0.72846\tvalidation_1-logloss:0.64856\tvalidation_1-f1:0.60457\n",
      "[59]\tvalidation_0-logloss:0.62290\tvalidation_0-f1:0.72832\tvalidation_1-logloss:0.64785\tvalidation_1-f1:0.60772\n",
      "[60]\tvalidation_0-logloss:0.62186\tvalidation_0-f1:0.72996\tvalidation_1-logloss:0.64708\tvalidation_1-f1:0.60760\n",
      "[61]\tvalidation_0-logloss:0.62110\tvalidation_0-f1:0.72981\tvalidation_1-logloss:0.64693\tvalidation_1-f1:0.60610\n",
      "[62]\tvalidation_0-logloss:0.62021\tvalidation_0-f1:0.73209\tvalidation_1-logloss:0.64644\tvalidation_1-f1:0.60449\n",
      "[63]\tvalidation_0-logloss:0.61928\tvalidation_0-f1:0.73255\tvalidation_1-logloss:0.64593\tvalidation_1-f1:0.60908\n",
      "[64]\tvalidation_0-logloss:0.61853\tvalidation_0-f1:0.73134\tvalidation_1-logloss:0.64562\tvalidation_1-f1:0.60760\n",
      "[65]\tvalidation_0-logloss:0.61769\tvalidation_0-f1:0.73149\tvalidation_1-logloss:0.64529\tvalidation_1-f1:0.61070\n",
      "[66]\tvalidation_0-logloss:0.61664\tvalidation_0-f1:0.73145\tvalidation_1-logloss:0.64457\tvalidation_1-f1:0.61052\n",
      "[67]\tvalidation_0-logloss:0.61588\tvalidation_0-f1:0.73070\tvalidation_1-logloss:0.64415\tvalidation_1-f1:0.60437\n",
      "[68]\tvalidation_0-logloss:0.61515\tvalidation_0-f1:0.73149\tvalidation_1-logloss:0.64385\tvalidation_1-f1:0.60449\n",
      "[69]\tvalidation_0-logloss:0.61432\tvalidation_0-f1:0.73195\tvalidation_1-logloss:0.64332\tvalidation_1-f1:0.60922\n",
      "[70]\tvalidation_0-logloss:0.61334\tvalidation_0-f1:0.73450\tvalidation_1-logloss:0.64282\tvalidation_1-f1:0.60114\n",
      "[71]\tvalidation_0-logloss:0.61253\tvalidation_0-f1:0.73684\tvalidation_1-logloss:0.64253\tvalidation_1-f1:0.60114\n",
      "[72]\tvalidation_0-logloss:0.61182\tvalidation_0-f1:0.73491\tvalidation_1-logloss:0.64212\tvalidation_1-f1:0.59815\n",
      "[73]\tvalidation_0-logloss:0.61093\tvalidation_0-f1:0.73790\tvalidation_1-logloss:0.64149\tvalidation_1-f1:0.59966\n",
      "[74]\tvalidation_0-logloss:0.61021\tvalidation_0-f1:0.73496\tvalidation_1-logloss:0.64119\tvalidation_1-f1:0.59335\n",
      "[75]\tvalidation_0-logloss:0.60942\tvalidation_0-f1:0.73717\tvalidation_1-logloss:0.64091\tvalidation_1-f1:0.59654\n",
      "[76]\tvalidation_0-logloss:0.60869\tvalidation_0-f1:0.73883\tvalidation_1-logloss:0.64080\tvalidation_1-f1:0.59335\n",
      "[77]\tvalidation_0-logloss:0.60781\tvalidation_0-f1:0.73777\tvalidation_1-logloss:0.64046\tvalidation_1-f1:0.59183\n",
      "[78]\tvalidation_0-logloss:0.60702\tvalidation_0-f1:0.73790\tvalidation_1-logloss:0.64004\tvalidation_1-f1:0.59183\n",
      "[79]\tvalidation_0-logloss:0.60605\tvalidation_0-f1:0.73956\tvalidation_1-logloss:0.63957\tvalidation_1-f1:0.59485\n",
      "[80]\tvalidation_0-logloss:0.60536\tvalidation_0-f1:0.74109\tvalidation_1-logloss:0.63931\tvalidation_1-f1:0.59183\n",
      "[81]\tvalidation_0-logloss:0.60457\tvalidation_0-f1:0.73989\tvalidation_1-logloss:0.63887\tvalidation_1-f1:0.58553\n",
      "[82]\tvalidation_0-logloss:0.60389\tvalidation_0-f1:0.74155\tvalidation_1-logloss:0.63850\tvalidation_1-f1:0.59183\n",
      "[83]\tvalidation_0-logloss:0.60311\tvalidation_0-f1:0.74062\tvalidation_1-logloss:0.63823\tvalidation_1-f1:0.59024\n",
      "[84]\tvalidation_0-logloss:0.60241\tvalidation_0-f1:0.73943\tvalidation_1-logloss:0.63816\tvalidation_1-f1:0.59024\n",
      "[85]\tvalidation_0-logloss:0.60164\tvalidation_0-f1:0.73837\tvalidation_1-logloss:0.63766\tvalidation_1-f1:0.59028\n",
      "[86]\tvalidation_0-logloss:0.60089\tvalidation_0-f1:0.74016\tvalidation_1-logloss:0.63738\tvalidation_1-f1:0.59183\n",
      "[87]\tvalidation_0-logloss:0.60024\tvalidation_0-f1:0.74062\tvalidation_1-logloss:0.63713\tvalidation_1-f1:0.58711\n",
      "[88]\tvalidation_0-logloss:0.59952\tvalidation_0-f1:0.74049\tvalidation_1-logloss:0.63703\tvalidation_1-f1:0.58865\n",
      "[89]\tvalidation_0-logloss:0.59862\tvalidation_0-f1:0.74101\tvalidation_1-logloss:0.63662\tvalidation_1-f1:0.59325\n",
      "[90]\tvalidation_0-logloss:0.59782\tvalidation_0-f1:0.74305\tvalidation_1-logloss:0.63622\tvalidation_1-f1:0.59471\n",
      "[91]\tvalidation_0-logloss:0.59717\tvalidation_0-f1:0.74457\tvalidation_1-logloss:0.63607\tvalidation_1-f1:0.59937\n",
      "[92]\tvalidation_0-logloss:0.59643\tvalidation_0-f1:0.74457\tvalidation_1-logloss:0.63581\tvalidation_1-f1:0.59311\n",
      "[93]\tvalidation_0-logloss:0.59580\tvalidation_0-f1:0.74479\tvalidation_1-logloss:0.63561\tvalidation_1-f1:0.59937\n",
      "[94]\tvalidation_0-logloss:0.59509\tvalidation_0-f1:0.74563\tvalidation_1-logloss:0.63540\tvalidation_1-f1:0.60241\n",
      "[95]\tvalidation_0-logloss:0.59431\tvalidation_0-f1:0.74588\tvalidation_1-logloss:0.63499\tvalidation_1-f1:0.60403\n",
      "[96]\tvalidation_0-logloss:0.59358\tvalidation_0-f1:0.74588\tvalidation_1-logloss:0.63470\tvalidation_1-f1:0.60220\n",
      "[97]\tvalidation_0-logloss:0.59293\tvalidation_0-f1:0.74491\tvalidation_1-logloss:0.63457\tvalidation_1-f1:0.59792\n",
      "[98]\tvalidation_0-logloss:0.59225\tvalidation_0-f1:0.74529\tvalidation_1-logloss:0.63443\tvalidation_1-f1:0.59615\n",
      "[99]\tvalidation_0-logloss:0.59157\tvalidation_0-f1:0.74718\tvalidation_1-logloss:0.63436\tvalidation_1-f1:0.59615\n",
      "[100]\tvalidation_0-logloss:0.59095\tvalidation_0-f1:0.74529\tvalidation_1-logloss:0.63415\tvalidation_1-f1:0.60241\n",
      "[101]\tvalidation_0-logloss:0.59023\tvalidation_0-f1:0.74601\tvalidation_1-logloss:0.63373\tvalidation_1-f1:0.60080\n",
      "[102]\tvalidation_0-logloss:0.58962\tvalidation_0-f1:0.74495\tvalidation_1-logloss:0.63339\tvalidation_1-f1:0.60241\n",
      "[103]\tvalidation_0-logloss:0.58892\tvalidation_0-f1:0.74777\tvalidation_1-logloss:0.63308\tvalidation_1-f1:0.60080\n",
      "[104]\tvalidation_0-logloss:0.58807\tvalidation_0-f1:0.75000\tvalidation_1-logloss:0.63273\tvalidation_1-f1:0.60058\n",
      "[105]\tvalidation_0-logloss:0.58749\tvalidation_0-f1:0.74871\tvalidation_1-logloss:0.63252\tvalidation_1-f1:0.60682\n",
      "[106]\tvalidation_0-logloss:0.58684\tvalidation_0-f1:0.74883\tvalidation_1-logloss:0.63241\tvalidation_1-f1:0.60520\n",
      "[107]\tvalidation_0-logloss:0.58606\tvalidation_0-f1:0.74871\tvalidation_1-logloss:0.63195\tvalidation_1-f1:0.60220\n",
      "[108]\tvalidation_0-logloss:0.58545\tvalidation_0-f1:0.74976\tvalidation_1-logloss:0.63185\tvalidation_1-f1:0.59918\n",
      "[109]\tvalidation_0-logloss:0.58474\tvalidation_0-f1:0.75141\tvalidation_1-logloss:0.63146\tvalidation_1-f1:0.60381\n",
      "[110]\tvalidation_0-logloss:0.58408\tvalidation_0-f1:0.75047\tvalidation_1-logloss:0.63106\tvalidation_1-f1:0.59918\n",
      "[111]\tvalidation_0-logloss:0.58344\tvalidation_0-f1:0.75235\tvalidation_1-logloss:0.63102\tvalidation_1-f1:0.59596\n",
      "[112]\tvalidation_0-logloss:0.58278\tvalidation_0-f1:0.75095\tvalidation_1-logloss:0.63074\tvalidation_1-f1:0.60357\n",
      "[113]\tvalidation_0-logloss:0.58213\tvalidation_0-f1:0.75317\tvalidation_1-logloss:0.63056\tvalidation_1-f1:0.60195\n",
      "[114]\tvalidation_0-logloss:0.58151\tvalidation_0-f1:0.75586\tvalidation_1-logloss:0.63049\tvalidation_1-f1:0.60492\n",
      "[115]\tvalidation_0-logloss:0.58094\tvalidation_0-f1:0.75387\tvalidation_1-logloss:0.63034\tvalidation_1-f1:0.60655\n",
      "[116]\tvalidation_0-logloss:0.58026\tvalidation_0-f1:0.75387\tvalidation_1-logloss:0.63003\tvalidation_1-f1:0.60655\n",
      "[117]\tvalidation_0-logloss:0.57968\tvalidation_0-f1:0.75422\tvalidation_1-logloss:0.62987\tvalidation_1-f1:0.60818\n",
      "[118]\tvalidation_0-logloss:0.57911\tvalidation_0-f1:0.75375\tvalidation_1-logloss:0.62980\tvalidation_1-f1:0.60220\n",
      "[119]\tvalidation_0-logloss:0.57846\tvalidation_0-f1:0.75212\tvalidation_1-logloss:0.62950\tvalidation_1-f1:0.59896\n",
      "[120]\tvalidation_0-logloss:0.57784\tvalidation_0-f1:0.75434\tvalidation_1-logloss:0.62923\tvalidation_1-f1:0.60033\n",
      "[121]\tvalidation_0-logloss:0.57711\tvalidation_0-f1:0.75329\tvalidation_1-logloss:0.62867\tvalidation_1-f1:0.60033\n",
      "[122]\tvalidation_0-logloss:0.57656\tvalidation_0-f1:0.75375\tvalidation_1-logloss:0.62851\tvalidation_1-f1:0.60357\n",
      "[123]\tvalidation_0-logloss:0.57595\tvalidation_0-f1:0.75492\tvalidation_1-logloss:0.62824\tvalidation_1-f1:0.60033\n",
      "[124]\tvalidation_0-logloss:0.57523\tvalidation_0-f1:0.75667\tvalidation_1-logloss:0.62804\tvalidation_1-f1:0.60520\n",
      "[125]\tvalidation_0-logloss:0.57464\tvalidation_0-f1:0.75667\tvalidation_1-logloss:0.62796\tvalidation_1-f1:0.60682\n",
      "[126]\tvalidation_0-logloss:0.57393\tvalidation_0-f1:0.75819\tvalidation_1-logloss:0.62794\tvalidation_1-f1:0.60033\n",
      "[127]\tvalidation_0-logloss:0.57332\tvalidation_0-f1:0.75714\tvalidation_1-logloss:0.62781\tvalidation_1-f1:0.60520\n",
      "[128]\tvalidation_0-logloss:0.57266\tvalidation_0-f1:0.75678\tvalidation_1-logloss:0.62754\tvalidation_1-f1:0.60655\n",
      "[129]\tvalidation_0-logloss:0.57212\tvalidation_0-f1:0.75736\tvalidation_1-logloss:0.62726\tvalidation_1-f1:0.60330\n",
      "[130]\tvalidation_0-logloss:0.57153\tvalidation_0-f1:0.75783\tvalidation_1-logloss:0.62701\tvalidation_1-f1:0.60167\n",
      "[131]\tvalidation_0-logloss:0.57086\tvalidation_0-f1:0.75899\tvalidation_1-logloss:0.62685\tvalidation_1-f1:0.60005\n",
      "[132]\tvalidation_0-logloss:0.57029\tvalidation_0-f1:0.75899\tvalidation_1-logloss:0.62685\tvalidation_1-f1:0.59681\n",
      "[133]\tvalidation_0-logloss:0.56968\tvalidation_0-f1:0.75899\tvalidation_1-logloss:0.62653\tvalidation_1-f1:0.60137\n",
      "[134]\tvalidation_0-logloss:0.56906\tvalidation_0-f1:0.75910\tvalidation_1-logloss:0.62641\tvalidation_1-f1:0.60266\n",
      "[135]\tvalidation_0-logloss:0.56847\tvalidation_0-f1:0.76015\tvalidation_1-logloss:0.62629\tvalidation_1-f1:0.60592\n",
      "[136]\tvalidation_0-logloss:0.56783\tvalidation_0-f1:0.76062\tvalidation_1-logloss:0.62615\tvalidation_1-f1:0.60592\n",
      "[137]\tvalidation_0-logloss:0.56714\tvalidation_0-f1:0.75852\tvalidation_1-logloss:0.62573\tvalidation_1-f1:0.60592\n",
      "[138]\tvalidation_0-logloss:0.56658\tvalidation_0-f1:0.75899\tvalidation_1-logloss:0.62566\tvalidation_1-f1:0.60429\n",
      "[139]\tvalidation_0-logloss:0.56605\tvalidation_0-f1:0.75957\tvalidation_1-logloss:0.62544\tvalidation_1-f1:0.60592\n",
      "[140]\tvalidation_0-logloss:0.56548\tvalidation_0-f1:0.75899\tvalidation_1-logloss:0.62532\tvalidation_1-f1:0.61048\n",
      "[141]\tvalidation_0-logloss:0.56491\tvalidation_0-f1:0.76004\tvalidation_1-logloss:0.62526\tvalidation_1-f1:0.60755\n",
      "[142]\tvalidation_0-logloss:0.56429\tvalidation_0-f1:0.75910\tvalidation_1-logloss:0.62482\tvalidation_1-f1:0.60919\n",
      "[143]\tvalidation_0-logloss:0.56365\tvalidation_0-f1:0.75968\tvalidation_1-logloss:0.62461\tvalidation_1-f1:0.60919\n",
      "[144]\tvalidation_0-logloss:0.56303\tvalidation_0-f1:0.75968\tvalidation_1-logloss:0.62437\tvalidation_1-f1:0.60919\n",
      "[145]\tvalidation_0-logloss:0.56248\tvalidation_0-f1:0.75874\tvalidation_1-logloss:0.62415\tvalidation_1-f1:0.60755\n",
      "[146]\tvalidation_0-logloss:0.56198\tvalidation_0-f1:0.75874\tvalidation_1-logloss:0.62399\tvalidation_1-f1:0.60755\n",
      "[147]\tvalidation_0-logloss:0.56129\tvalidation_0-f1:0.76178\tvalidation_1-logloss:0.62390\tvalidation_1-f1:0.60625\n",
      "[148]\tvalidation_0-logloss:0.56080\tvalidation_0-f1:0.76189\tvalidation_1-logloss:0.62380\tvalidation_1-f1:0.60625\n",
      "[149]\tvalidation_0-logloss:0.56013\tvalidation_0-f1:0.76409\tvalidation_1-logloss:0.62372\tvalidation_1-f1:0.61083\n",
      "[150]\tvalidation_0-logloss:0.55959\tvalidation_0-f1:0.76420\tvalidation_1-logloss:0.62354\tvalidation_1-f1:0.60592\n",
      "[151]\tvalidation_0-logloss:0.55905\tvalidation_0-f1:0.76504\tvalidation_1-logloss:0.62345\tvalidation_1-f1:0.60755\n",
      "[152]\tvalidation_0-logloss:0.55843\tvalidation_0-f1:0.76362\tvalidation_1-logloss:0.62304\tvalidation_1-f1:0.60462\n",
      "[153]\tvalidation_0-logloss:0.55789\tvalidation_0-f1:0.76305\tvalidation_1-logloss:0.62296\tvalidation_1-f1:0.61115\n",
      "[154]\tvalidation_0-logloss:0.55736\tvalidation_0-f1:0.76305\tvalidation_1-logloss:0.62266\tvalidation_1-f1:0.61833\n",
      "[155]\tvalidation_0-logloss:0.55676\tvalidation_0-f1:0.76467\tvalidation_1-logloss:0.62245\tvalidation_1-f1:0.61833\n",
      "[156]\tvalidation_0-logloss:0.55612\tvalidation_0-f1:0.76687\tvalidation_1-logloss:0.62232\tvalidation_1-f1:0.61212\n",
      "[157]\tvalidation_0-logloss:0.55561\tvalidation_0-f1:0.76687\tvalidation_1-logloss:0.62212\tvalidation_1-f1:0.61503\n",
      "[158]\tvalidation_0-logloss:0.55510\tvalidation_0-f1:0.76698\tvalidation_1-logloss:0.62214\tvalidation_1-f1:0.61503\n",
      "[159]\tvalidation_0-logloss:0.55450\tvalidation_0-f1:0.76583\tvalidation_1-logloss:0.62181\tvalidation_1-f1:0.61174\n",
      "[160]\tvalidation_0-logloss:0.55392\tvalidation_0-f1:0.76546\tvalidation_1-logloss:0.62156\tvalidation_1-f1:0.61174\n",
      "[161]\tvalidation_0-logloss:0.55340\tvalidation_0-f1:0.76813\tvalidation_1-logloss:0.62149\tvalidation_1-f1:0.61338\n",
      "[162]\tvalidation_0-logloss:0.55286\tvalidation_0-f1:0.76918\tvalidation_1-logloss:0.62132\tvalidation_1-f1:0.61338\n",
      "[163]\tvalidation_0-logloss:0.55218\tvalidation_0-f1:0.76860\tvalidation_1-logloss:0.62127\tvalidation_1-f1:0.61338\n",
      "[164]\tvalidation_0-logloss:0.55168\tvalidation_0-f1:0.76907\tvalidation_1-logloss:0.62107\tvalidation_1-f1:0.61628\n",
      "[165]\tvalidation_0-logloss:0.55118\tvalidation_0-f1:0.76907\tvalidation_1-logloss:0.62109\tvalidation_1-f1:0.61463\n",
      "[166]\tvalidation_0-logloss:0.55060\tvalidation_0-f1:0.76928\tvalidation_1-logloss:0.62082\tvalidation_1-f1:0.61463\n",
      "[167]\tvalidation_0-logloss:0.55005\tvalidation_0-f1:0.76918\tvalidation_1-logloss:0.62081\tvalidation_1-f1:0.61628\n",
      "[168]\tvalidation_0-logloss:0.54959\tvalidation_0-f1:0.77022\tvalidation_1-logloss:0.62091\tvalidation_1-f1:0.61628\n",
      "[169]\tvalidation_0-logloss:0.54898\tvalidation_0-f1:0.77127\tvalidation_1-logloss:0.62071\tvalidation_1-f1:0.61793\n",
      "[170]\tvalidation_0-logloss:0.54843\tvalidation_0-f1:0.77032\tvalidation_1-logloss:0.62079\tvalidation_1-f1:0.62370\n",
      "[171]\tvalidation_0-logloss:0.54780\tvalidation_0-f1:0.77194\tvalidation_1-logloss:0.62050\tvalidation_1-f1:0.62370\n",
      "[172]\tvalidation_0-logloss:0.54735\tvalidation_0-f1:0.77069\tvalidation_1-logloss:0.62060\tvalidation_1-f1:0.62370\n",
      "[173]\tvalidation_0-logloss:0.54690\tvalidation_0-f1:0.77184\tvalidation_1-logloss:0.62039\tvalidation_1-f1:0.62370\n",
      "[174]\tvalidation_0-logloss:0.54646\tvalidation_0-f1:0.77336\tvalidation_1-logloss:0.62017\tvalidation_1-f1:0.62370\n",
      "[175]\tvalidation_0-logloss:0.54592\tvalidation_0-f1:0.77269\tvalidation_1-logloss:0.61979\tvalidation_1-f1:0.62823\n",
      "[176]\tvalidation_0-logloss:0.54546\tvalidation_0-f1:0.77164\tvalidation_1-logloss:0.61957\tvalidation_1-f1:0.62823\n",
      "[177]\tvalidation_0-logloss:0.54503\tvalidation_0-f1:0.77242\tvalidation_1-logloss:0.61952\tvalidation_1-f1:0.62536\n",
      "[178]\tvalidation_0-logloss:0.54449\tvalidation_0-f1:0.77242\tvalidation_1-logloss:0.61937\tvalidation_1-f1:0.62823\n",
      "[179]\tvalidation_0-logloss:0.54392\tvalidation_0-f1:0.77394\tvalidation_1-logloss:0.61927\tvalidation_1-f1:0.62536\n",
      "[180]\tvalidation_0-logloss:0.54346\tvalidation_0-f1:0.77404\tvalidation_1-logloss:0.61911\tvalidation_1-f1:0.62536\n",
      "[181]\tvalidation_0-logloss:0.54294\tvalidation_0-f1:0.77623\tvalidation_1-logloss:0.61919\tvalidation_1-f1:0.62370\n",
      "[182]\tvalidation_0-logloss:0.54239\tvalidation_0-f1:0.77565\tvalidation_1-logloss:0.61920\tvalidation_1-f1:0.62823\n",
      "[183]\tvalidation_0-logloss:0.54196\tvalidation_0-f1:0.77480\tvalidation_1-logloss:0.61917\tvalidation_1-f1:0.62536\n",
      "[184]\tvalidation_0-logloss:0.54136\tvalidation_0-f1:0.77423\tvalidation_1-logloss:0.61905\tvalidation_1-f1:0.62536\n",
      "[185]\tvalidation_0-logloss:0.54073\tvalidation_0-f1:0.77585\tvalidation_1-logloss:0.61885\tvalidation_1-f1:0.62489\n",
      "[186]\tvalidation_0-logloss:0.54029\tvalidation_0-f1:0.77680\tvalidation_1-logloss:0.61881\tvalidation_1-f1:0.62823\n",
      "[187]\tvalidation_0-logloss:0.53977\tvalidation_0-f1:0.77585\tvalidation_1-logloss:0.61861\tvalidation_1-f1:0.62941\n",
      "[188]\tvalidation_0-logloss:0.53914\tvalidation_0-f1:0.77604\tvalidation_1-logloss:0.61833\tvalidation_1-f1:0.62941\n",
      "[189]\tvalidation_0-logloss:0.53858\tvalidation_0-f1:0.77509\tvalidation_1-logloss:0.61817\tvalidation_1-f1:0.63277\n",
      "[190]\tvalidation_0-logloss:0.53815\tvalidation_0-f1:0.77509\tvalidation_1-logloss:0.61800\tvalidation_1-f1:0.63109\n",
      "[191]\tvalidation_0-logloss:0.53769\tvalidation_0-f1:0.77576\tvalidation_1-logloss:0.61785\tvalidation_1-f1:0.63109\n",
      "[192]\tvalidation_0-logloss:0.53703\tvalidation_0-f1:0.77680\tvalidation_1-logloss:0.61773\tvalidation_1-f1:0.62941\n",
      "[193]\tvalidation_0-logloss:0.53661\tvalidation_0-f1:0.77775\tvalidation_1-logloss:0.61756\tvalidation_1-f1:0.63109\n",
      "[194]\tvalidation_0-logloss:0.53615\tvalidation_0-f1:0.78002\tvalidation_1-logloss:0.61738\tvalidation_1-f1:0.62941\n",
      "[195]\tvalidation_0-logloss:0.53559\tvalidation_0-f1:0.78050\tvalidation_1-logloss:0.61705\tvalidation_1-f1:0.63109\n",
      "[196]\tvalidation_0-logloss:0.53505\tvalidation_0-f1:0.78258\tvalidation_1-logloss:0.61701\tvalidation_1-f1:0.62941\n",
      "[197]\tvalidation_0-logloss:0.53441\tvalidation_0-f1:0.78268\tvalidation_1-logloss:0.61678\tvalidation_1-f1:0.62656\n",
      "[198]\tvalidation_0-logloss:0.53398\tvalidation_0-f1:0.78258\tvalidation_1-logloss:0.61665\tvalidation_1-f1:0.62656\n",
      "[199]\tvalidation_0-logloss:0.53333\tvalidation_0-f1:0.78277\tvalidation_1-logloss:0.61662\tvalidation_1-f1:0.62037\n"
     ]
    },
    {
     "data": {
      "text/plain": [
       "0.7214854111405835"
      ]
     },
     "execution_count": 356,
     "metadata": {},
     "output_type": "execute_result"
    }
   ],
   "source": [
    "X_train_full = np.concatenate((X_train_emb, X_train_tf.toarray()), axis=1)\n",
    "X_test_full = np.concatenate((X_test_emb, X_test_tf.toarray()), axis=1)\n",
    "model = XGBClassifier(use_label_encoder=False, \n",
    "                      learning_rate=.01,\n",
    "                      max_depth=3,\n",
    "                      gamma=1,\n",
    "                      colsample_bytree=.8,\n",
    "                      n_estimators=200)\n",
    "\n",
    "eval_set = [(X_train_full, gender_train), (X_test_full, gender_test)]\n",
    "\n",
    "model.fit(X_train_full, gender_train, eval_set=eval_set, eval_metric=f1s)\n",
    "\n",
    "gender_pred = model.predict_proba(X_test_full)\n",
    "gender_pred = gender_pred[:,1]\n",
    "gender_pred = pd.Series(gender_pred, gender_test.index)\n",
    "\n",
    "f1_score(gender_test.groupby(level=0).mean(), gender_pred.groupby(level=0).mean().round(), average='macro')"
   ]
  },
  {
   "cell_type": "code",
   "execution_count": 324,
   "id": "5ee24234-f521-407c-8d85-fccb55f16f2b",
   "metadata": {},
   "outputs": [
    {
     "data": {
      "text/plain": [
       "(2000, 10000)"
      ]
     },
     "execution_count": 324,
     "metadata": {},
     "output_type": "execute_result"
    }
   ],
   "source": [
    "X_train_tf.shape"
   ]
  },
  {
   "cell_type": "code",
   "execution_count": 357,
   "id": "650e42fa-97fb-41ee-9c1b-79fe8d0b8203",
   "metadata": {},
   "outputs": [
    {
     "data": {
      "text/plain": [
       "0.6293079293919865"
      ]
     },
     "execution_count": 357,
     "metadata": {},
     "output_type": "execute_result"
    }
   ],
   "source": [
    "model = LogisticRegression(max_iter=1000)\n",
    "model.fit(X_train_tf, gender_train)\n",
    "gender_pred1 = model.predict_proba(X_test_tf)\n",
    "\n",
    "gender_pred1 = gender_pred1[:,1]\n",
    "gender_pred1 = pd.Series(gender_pred1, gender_test.index)\n",
    "\n",
    "f1_score(gender_test.groupby(level=0).mean(), gender_pred1.groupby(level=0).mean().round(), average='macro')"
   ]
  },
  {
   "cell_type": "code",
   "execution_count": 358,
   "id": "92471334-5896-4cf0-8ec0-f5a7972850f1",
   "metadata": {
    "collapsed": true,
    "jupyter": {
     "outputs_hidden": true
    },
    "tags": []
   },
   "outputs": [
    {
     "name": "stderr",
     "output_type": "stream",
     "text": [
      "/tmp/ipykernel_563395/1528668345.py:3: FutureWarning: reindexing with a non-unique Index is deprecated and will raise in a future version.\n",
      "  train_pred1 = pd.Series(train_pred, gender_train.index)\n"
     ]
    },
    {
     "ename": "ValueError",
     "evalue": "cannot reindex on an axis with duplicate labels",
     "output_type": "error",
     "traceback": [
      "\u001b[0;31m---------------------------------------------------------------------------\u001b[0m",
      "\u001b[0;31mValueError\u001b[0m                                Traceback (most recent call last)",
      "Input \u001b[0;32mIn [358]\u001b[0m, in \u001b[0;36m<cell line: 3>\u001b[0;34m()\u001b[0m\n\u001b[1;32m      1\u001b[0m train_pred1 \u001b[38;5;241m=\u001b[39m model\u001b[38;5;241m.\u001b[39mpredict_proba(X_train_tf)\n\u001b[1;32m      2\u001b[0m train_pred1 \u001b[38;5;241m=\u001b[39m train_pred1[:,\u001b[38;5;241m1\u001b[39m]\n\u001b[0;32m----> 3\u001b[0m train_pred1 \u001b[38;5;241m=\u001b[39m \u001b[43mpd\u001b[49m\u001b[38;5;241;43m.\u001b[39;49m\u001b[43mSeries\u001b[49m\u001b[43m(\u001b[49m\u001b[43mtrain_pred\u001b[49m\u001b[43m,\u001b[49m\u001b[43m \u001b[49m\u001b[43mgender_train\u001b[49m\u001b[38;5;241;43m.\u001b[39;49m\u001b[43mindex\u001b[49m\u001b[43m)\u001b[49m\n",
      "File \u001b[0;32m~/miniconda3/envs/rest-mex-reco-gpu/lib/python3.10/site-packages/pandas/core/series.py:413\u001b[0m, in \u001b[0;36mSeries.__init__\u001b[0;34m(self, data, index, dtype, name, copy, fastpath)\u001b[0m\n\u001b[1;32m    411\u001b[0m     index \u001b[38;5;241m=\u001b[39m data\u001b[38;5;241m.\u001b[39mindex\n\u001b[1;32m    412\u001b[0m \u001b[38;5;28;01melse\u001b[39;00m:\n\u001b[0;32m--> 413\u001b[0m     data \u001b[38;5;241m=\u001b[39m \u001b[43mdata\u001b[49m\u001b[38;5;241;43m.\u001b[39;49m\u001b[43mreindex\u001b[49m\u001b[43m(\u001b[49m\u001b[43mindex\u001b[49m\u001b[43m,\u001b[49m\u001b[43m \u001b[49m\u001b[43mcopy\u001b[49m\u001b[38;5;241;43m=\u001b[39;49m\u001b[43mcopy\u001b[49m\u001b[43m)\u001b[49m\n\u001b[1;32m    414\u001b[0m     copy \u001b[38;5;241m=\u001b[39m \u001b[38;5;28;01mFalse\u001b[39;00m\n\u001b[1;32m    415\u001b[0m data \u001b[38;5;241m=\u001b[39m data\u001b[38;5;241m.\u001b[39m_mgr\n",
      "File \u001b[0;32m~/miniconda3/envs/rest-mex-reco-gpu/lib/python3.10/site-packages/pandas/core/series.py:4672\u001b[0m, in \u001b[0;36mSeries.reindex\u001b[0;34m(self, *args, **kwargs)\u001b[0m\n\u001b[1;32m   4668\u001b[0m         \u001b[38;5;28;01mraise\u001b[39;00m \u001b[38;5;167;01mTypeError\u001b[39;00m(\n\u001b[1;32m   4669\u001b[0m             \u001b[38;5;124m\"\u001b[39m\u001b[38;5;124m'\u001b[39m\u001b[38;5;124mindex\u001b[39m\u001b[38;5;124m'\u001b[39m\u001b[38;5;124m passed as both positional and keyword argument\u001b[39m\u001b[38;5;124m\"\u001b[39m\n\u001b[1;32m   4670\u001b[0m         )\n\u001b[1;32m   4671\u001b[0m     kwargs\u001b[38;5;241m.\u001b[39mupdate({\u001b[38;5;124m\"\u001b[39m\u001b[38;5;124mindex\u001b[39m\u001b[38;5;124m\"\u001b[39m: index})\n\u001b[0;32m-> 4672\u001b[0m \u001b[38;5;28;01mreturn\u001b[39;00m \u001b[38;5;28;43msuper\u001b[39;49m\u001b[43m(\u001b[49m\u001b[43m)\u001b[49m\u001b[38;5;241;43m.\u001b[39;49m\u001b[43mreindex\u001b[49m\u001b[43m(\u001b[49m\u001b[38;5;241;43m*\u001b[39;49m\u001b[38;5;241;43m*\u001b[39;49m\u001b[43mkwargs\u001b[49m\u001b[43m)\u001b[49m\n",
      "File \u001b[0;32m~/miniconda3/envs/rest-mex-reco-gpu/lib/python3.10/site-packages/pandas/core/generic.py:4966\u001b[0m, in \u001b[0;36mNDFrame.reindex\u001b[0;34m(self, *args, **kwargs)\u001b[0m\n\u001b[1;32m   4963\u001b[0m     \u001b[38;5;28;01mreturn\u001b[39;00m \u001b[38;5;28mself\u001b[39m\u001b[38;5;241m.\u001b[39m_reindex_multi(axes, copy, fill_value)\n\u001b[1;32m   4965\u001b[0m \u001b[38;5;66;03m# perform the reindex on the axes\u001b[39;00m\n\u001b[0;32m-> 4966\u001b[0m \u001b[38;5;28;01mreturn\u001b[39;00m \u001b[38;5;28;43mself\u001b[39;49m\u001b[38;5;241;43m.\u001b[39;49m\u001b[43m_reindex_axes\u001b[49m\u001b[43m(\u001b[49m\n\u001b[1;32m   4967\u001b[0m \u001b[43m    \u001b[49m\u001b[43maxes\u001b[49m\u001b[43m,\u001b[49m\u001b[43m \u001b[49m\u001b[43mlevel\u001b[49m\u001b[43m,\u001b[49m\u001b[43m \u001b[49m\u001b[43mlimit\u001b[49m\u001b[43m,\u001b[49m\u001b[43m \u001b[49m\u001b[43mtolerance\u001b[49m\u001b[43m,\u001b[49m\u001b[43m \u001b[49m\u001b[43mmethod\u001b[49m\u001b[43m,\u001b[49m\u001b[43m \u001b[49m\u001b[43mfill_value\u001b[49m\u001b[43m,\u001b[49m\u001b[43m \u001b[49m\u001b[43mcopy\u001b[49m\n\u001b[1;32m   4968\u001b[0m \u001b[43m\u001b[49m\u001b[43m)\u001b[49m\u001b[38;5;241m.\u001b[39m__finalize__(\u001b[38;5;28mself\u001b[39m, method\u001b[38;5;241m=\u001b[39m\u001b[38;5;124m\"\u001b[39m\u001b[38;5;124mreindex\u001b[39m\u001b[38;5;124m\"\u001b[39m)\n",
      "File \u001b[0;32m~/miniconda3/envs/rest-mex-reco-gpu/lib/python3.10/site-packages/pandas/core/generic.py:4986\u001b[0m, in \u001b[0;36mNDFrame._reindex_axes\u001b[0;34m(self, axes, level, limit, tolerance, method, fill_value, copy)\u001b[0m\n\u001b[1;32m   4981\u001b[0m new_index, indexer \u001b[38;5;241m=\u001b[39m ax\u001b[38;5;241m.\u001b[39mreindex(\n\u001b[1;32m   4982\u001b[0m     labels, level\u001b[38;5;241m=\u001b[39mlevel, limit\u001b[38;5;241m=\u001b[39mlimit, tolerance\u001b[38;5;241m=\u001b[39mtolerance, method\u001b[38;5;241m=\u001b[39mmethod\n\u001b[1;32m   4983\u001b[0m )\n\u001b[1;32m   4985\u001b[0m axis \u001b[38;5;241m=\u001b[39m \u001b[38;5;28mself\u001b[39m\u001b[38;5;241m.\u001b[39m_get_axis_number(a)\n\u001b[0;32m-> 4986\u001b[0m obj \u001b[38;5;241m=\u001b[39m \u001b[43mobj\u001b[49m\u001b[38;5;241;43m.\u001b[39;49m\u001b[43m_reindex_with_indexers\u001b[49m\u001b[43m(\u001b[49m\n\u001b[1;32m   4987\u001b[0m \u001b[43m    \u001b[49m\u001b[43m{\u001b[49m\u001b[43maxis\u001b[49m\u001b[43m:\u001b[49m\u001b[43m \u001b[49m\u001b[43m[\u001b[49m\u001b[43mnew_index\u001b[49m\u001b[43m,\u001b[49m\u001b[43m \u001b[49m\u001b[43mindexer\u001b[49m\u001b[43m]\u001b[49m\u001b[43m}\u001b[49m\u001b[43m,\u001b[49m\n\u001b[1;32m   4988\u001b[0m \u001b[43m    \u001b[49m\u001b[43mfill_value\u001b[49m\u001b[38;5;241;43m=\u001b[39;49m\u001b[43mfill_value\u001b[49m\u001b[43m,\u001b[49m\n\u001b[1;32m   4989\u001b[0m \u001b[43m    \u001b[49m\u001b[43mcopy\u001b[49m\u001b[38;5;241;43m=\u001b[39;49m\u001b[43mcopy\u001b[49m\u001b[43m,\u001b[49m\n\u001b[1;32m   4990\u001b[0m \u001b[43m    \u001b[49m\u001b[43mallow_dups\u001b[49m\u001b[38;5;241;43m=\u001b[39;49m\u001b[38;5;28;43;01mFalse\u001b[39;49;00m\u001b[43m,\u001b[49m\n\u001b[1;32m   4991\u001b[0m \u001b[43m\u001b[49m\u001b[43m)\u001b[49m\n\u001b[1;32m   4992\u001b[0m \u001b[38;5;66;03m# If we've made a copy once, no need to make another one\u001b[39;00m\n\u001b[1;32m   4993\u001b[0m copy \u001b[38;5;241m=\u001b[39m \u001b[38;5;28;01mFalse\u001b[39;00m\n",
      "File \u001b[0;32m~/miniconda3/envs/rest-mex-reco-gpu/lib/python3.10/site-packages/pandas/core/generic.py:5032\u001b[0m, in \u001b[0;36mNDFrame._reindex_with_indexers\u001b[0;34m(self, reindexers, fill_value, copy, allow_dups)\u001b[0m\n\u001b[1;32m   5029\u001b[0m     indexer \u001b[38;5;241m=\u001b[39m ensure_platform_int(indexer)\n\u001b[1;32m   5031\u001b[0m \u001b[38;5;66;03m# TODO: speed up on homogeneous DataFrame objects (see _reindex_multi)\u001b[39;00m\n\u001b[0;32m-> 5032\u001b[0m new_data \u001b[38;5;241m=\u001b[39m \u001b[43mnew_data\u001b[49m\u001b[38;5;241;43m.\u001b[39;49m\u001b[43mreindex_indexer\u001b[49m\u001b[43m(\u001b[49m\n\u001b[1;32m   5033\u001b[0m \u001b[43m    \u001b[49m\u001b[43mindex\u001b[49m\u001b[43m,\u001b[49m\n\u001b[1;32m   5034\u001b[0m \u001b[43m    \u001b[49m\u001b[43mindexer\u001b[49m\u001b[43m,\u001b[49m\n\u001b[1;32m   5035\u001b[0m \u001b[43m    \u001b[49m\u001b[43maxis\u001b[49m\u001b[38;5;241;43m=\u001b[39;49m\u001b[43mbaxis\u001b[49m\u001b[43m,\u001b[49m\n\u001b[1;32m   5036\u001b[0m \u001b[43m    \u001b[49m\u001b[43mfill_value\u001b[49m\u001b[38;5;241;43m=\u001b[39;49m\u001b[43mfill_value\u001b[49m\u001b[43m,\u001b[49m\n\u001b[1;32m   5037\u001b[0m \u001b[43m    \u001b[49m\u001b[43mallow_dups\u001b[49m\u001b[38;5;241;43m=\u001b[39;49m\u001b[43mallow_dups\u001b[49m\u001b[43m,\u001b[49m\n\u001b[1;32m   5038\u001b[0m \u001b[43m    \u001b[49m\u001b[43mcopy\u001b[49m\u001b[38;5;241;43m=\u001b[39;49m\u001b[43mcopy\u001b[49m\u001b[43m,\u001b[49m\n\u001b[1;32m   5039\u001b[0m \u001b[43m\u001b[49m\u001b[43m)\u001b[49m\n\u001b[1;32m   5040\u001b[0m \u001b[38;5;66;03m# If we've made a copy once, no need to make another one\u001b[39;00m\n\u001b[1;32m   5041\u001b[0m copy \u001b[38;5;241m=\u001b[39m \u001b[38;5;28;01mFalse\u001b[39;00m\n",
      "File \u001b[0;32m~/miniconda3/envs/rest-mex-reco-gpu/lib/python3.10/site-packages/pandas/core/internals/managers.py:679\u001b[0m, in \u001b[0;36mBaseBlockManager.reindex_indexer\u001b[0;34m(self, new_axis, indexer, axis, fill_value, allow_dups, copy, consolidate, only_slice, use_na_proxy)\u001b[0m\n\u001b[1;32m    677\u001b[0m \u001b[38;5;66;03m# some axes don't allow reindexing with dups\u001b[39;00m\n\u001b[1;32m    678\u001b[0m \u001b[38;5;28;01mif\u001b[39;00m \u001b[38;5;129;01mnot\u001b[39;00m allow_dups:\n\u001b[0;32m--> 679\u001b[0m     \u001b[38;5;28;43mself\u001b[39;49m\u001b[38;5;241;43m.\u001b[39;49m\u001b[43maxes\u001b[49m\u001b[43m[\u001b[49m\u001b[43maxis\u001b[49m\u001b[43m]\u001b[49m\u001b[38;5;241;43m.\u001b[39;49m\u001b[43m_validate_can_reindex\u001b[49m\u001b[43m(\u001b[49m\u001b[43mindexer\u001b[49m\u001b[43m)\u001b[49m\n\u001b[1;32m    681\u001b[0m \u001b[38;5;28;01mif\u001b[39;00m axis \u001b[38;5;241m>\u001b[39m\u001b[38;5;241m=\u001b[39m \u001b[38;5;28mself\u001b[39m\u001b[38;5;241m.\u001b[39mndim:\n\u001b[1;32m    682\u001b[0m     \u001b[38;5;28;01mraise\u001b[39;00m \u001b[38;5;167;01mIndexError\u001b[39;00m(\u001b[38;5;124m\"\u001b[39m\u001b[38;5;124mRequested axis not found in manager\u001b[39m\u001b[38;5;124m\"\u001b[39m)\n",
      "File \u001b[0;32m~/miniconda3/envs/rest-mex-reco-gpu/lib/python3.10/site-packages/pandas/core/indexes/base.py:4107\u001b[0m, in \u001b[0;36mIndex._validate_can_reindex\u001b[0;34m(self, indexer)\u001b[0m\n\u001b[1;32m   4105\u001b[0m \u001b[38;5;66;03m# trying to reindex on an axis with duplicates\u001b[39;00m\n\u001b[1;32m   4106\u001b[0m \u001b[38;5;28;01mif\u001b[39;00m \u001b[38;5;129;01mnot\u001b[39;00m \u001b[38;5;28mself\u001b[39m\u001b[38;5;241m.\u001b[39m_index_as_unique \u001b[38;5;129;01mand\u001b[39;00m \u001b[38;5;28mlen\u001b[39m(indexer):\n\u001b[0;32m-> 4107\u001b[0m     \u001b[38;5;28;01mraise\u001b[39;00m \u001b[38;5;167;01mValueError\u001b[39;00m(\u001b[38;5;124m\"\u001b[39m\u001b[38;5;124mcannot reindex on an axis with duplicate labels\u001b[39m\u001b[38;5;124m\"\u001b[39m)\n",
      "\u001b[0;31mValueError\u001b[0m: cannot reindex on an axis with duplicate labels"
     ]
    }
   ],
   "source": [
    "train_pred1 = model.predict_proba(X_train_tf)\n",
    "train_pred1 = train_pred1[:,1]\n",
    "train_pred1 = pd.Series(train_pred, gender_train.index)"
   ]
  },
  {
   "cell_type": "code",
   "execution_count": null,
   "id": "6c9f21ab-96ce-4340-9362-a27d1d7d8633",
   "metadata": {},
   "outputs": [],
   "source": [
    "gender_pred2 = pd.concat([gender_pred, gender_pred1])\n",
    "tmp = gender_pred2.groupby(level=0).apply(list)\n",
    "X_test_sup = pd.DataFrame(tmp.to_list(), index=tmp.index)\n",
    "\n",
    "gender_train2 = pd.concat([train_pred, train_pred1])\n",
    "tmp = gender_train2.groupby(level=0).apply(list)\n",
    "X_train_sup = pd.DataFrame(tmp.to_list(), index=tmp.index)"
   ]
  },
  {
   "cell_type": "code",
   "execution_count": 359,
   "id": "57a2a296-fa3f-414a-9e91-6c97ace66b99",
   "metadata": {
    "tags": []
   },
   "outputs": [],
   "source": [
    "model = LogisticRegression()\n",
    "model.fit(X_train_sup, gender_train.groupby(level=0).mean())\n",
    "gender_pred_final = model.predict(X_test_sup)"
   ]
  },
  {
   "cell_type": "code",
   "execution_count": 322,
   "id": "87c20625-69f0-4f6a-a3f5-58b544ff3430",
   "metadata": {},
   "outputs": [
    {
     "data": {
      "text/plain": [
       "0.6634615384615385"
      ]
     },
     "execution_count": 322,
     "metadata": {},
     "output_type": "execute_result"
    }
   ],
   "source": [
    "f1_score(gender_test.groupby(level=0).mean(), gender_pred_final, average='macro')"
   ]
  }
 ],
 "metadata": {
  "kernelspec": {
   "display_name": "Python 3 (ipykernel)",
   "language": "python",
   "name": "python3"
  },
  "language_info": {
   "codemirror_mode": {
    "name": "ipython",
    "version": 3
   },
   "file_extension": ".py",
   "mimetype": "text/x-python",
   "name": "python",
   "nbconvert_exporter": "python",
   "pygments_lexer": "ipython3",
   "version": "3.10.4"
  }
 },
 "nbformat": 4,
 "nbformat_minor": 5
}
