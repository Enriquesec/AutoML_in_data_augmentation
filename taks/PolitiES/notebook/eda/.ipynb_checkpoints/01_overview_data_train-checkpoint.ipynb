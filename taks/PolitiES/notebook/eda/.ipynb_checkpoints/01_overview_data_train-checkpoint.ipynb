{
 "cells": [
  {
   "cell_type": "code",
   "execution_count": 2,
   "metadata": {},
   "outputs": [],
   "source": [
    "# processasing\n",
    "import pandas as pd \n",
    "import numpy as np\n",
    "\n",
    "# visualization\n",
    "import matplotlib.pyplot as plt\n",
    "import seaborn as sns"
   ]
  },
  {
   "cell_type": "code",
   "execution_count": 3,
   "metadata": {},
   "outputs": [],
   "source": [
    "var_predictions = [\"gender\", \"profession\", \"ideology_binary\", \"ideology_multiclass\"]"
   ]
  },
  {
   "cell_type": "code",
   "execution_count": 9,
   "metadata": {},
   "outputs": [
    {
     "data": {
      "text/html": [
       "<div>\n",
       "<style scoped>\n",
       "    .dataframe tbody tr th:only-of-type {\n",
       "        vertical-align: middle;\n",
       "    }\n",
       "\n",
       "    .dataframe tbody tr th {\n",
       "        vertical-align: top;\n",
       "    }\n",
       "\n",
       "    .dataframe thead th {\n",
       "        text-align: right;\n",
       "    }\n",
       "</style>\n",
       "<table border=\"1\" class=\"dataframe\">\n",
       "  <thead>\n",
       "    <tr style=\"text-align: right;\">\n",
       "      <th></th>\n",
       "      <th>Unnamed: 0</th>\n",
       "      <th>label</th>\n",
       "      <th>gender</th>\n",
       "      <th>profession</th>\n",
       "      <th>ideology_binary</th>\n",
       "      <th>ideology_multiclass</th>\n",
       "      <th>tweet</th>\n",
       "    </tr>\n",
       "  </thead>\n",
       "  <tbody>\n",
       "    <tr>\n",
       "      <th>0</th>\n",
       "      <td>36617</td>\n",
       "      <td>@user10</td>\n",
       "      <td>male</td>\n",
       "      <td>journalist</td>\n",
       "      <td>right</td>\n",
       "      <td>moderate_right</td>\n",
       "      <td>EE UU y China: Los dos grandes pelean, el mund...</td>\n",
       "    </tr>\n",
       "    <tr>\n",
       "      <th>1</th>\n",
       "      <td>11991</td>\n",
       "      <td>@user10</td>\n",
       "      <td>male</td>\n",
       "      <td>journalist</td>\n",
       "      <td>right</td>\n",
       "      <td>moderate_right</td>\n",
       "      <td>Sensación Previsible a esta hora: Alegría [POL...</td>\n",
       "    </tr>\n",
       "    <tr>\n",
       "      <th>2</th>\n",
       "      <td>40804</td>\n",
       "      <td>@user10</td>\n",
       "      <td>male</td>\n",
       "      <td>journalist</td>\n",
       "      <td>right</td>\n",
       "      <td>moderate_right</td>\n",
       "      <td>No te salves. no te quedes inmóvil al borde de...</td>\n",
       "    </tr>\n",
       "    <tr>\n",
       "      <th>3</th>\n",
       "      <td>48101</td>\n",
       "      <td>@user10</td>\n",
       "      <td>male</td>\n",
       "      <td>journalist</td>\n",
       "      <td>right</td>\n",
       "      <td>moderate_right</td>\n",
       "      <td>Al menos 25 militares venezolanos, todos de ba...</td>\n",
       "    </tr>\n",
       "    <tr>\n",
       "      <th>4</th>\n",
       "      <td>27627</td>\n",
       "      <td>@user10</td>\n",
       "      <td>male</td>\n",
       "      <td>journalist</td>\n",
       "      <td>right</td>\n",
       "      <td>moderate_right</td>\n",
       "      <td>Rivera que , con Sanchez ,da una mayoría absol...</td>\n",
       "    </tr>\n",
       "  </tbody>\n",
       "</table>\n",
       "</div>"
      ],
      "text/plain": [
       "   Unnamed: 0    label gender  profession ideology_binary ideology_multiclass  \\\n",
       "0       36617  @user10   male  journalist           right      moderate_right   \n",
       "1       11991  @user10   male  journalist           right      moderate_right   \n",
       "2       40804  @user10   male  journalist           right      moderate_right   \n",
       "3       48101  @user10   male  journalist           right      moderate_right   \n",
       "4       27627  @user10   male  journalist           right      moderate_right   \n",
       "\n",
       "                                               tweet  \n",
       "0  EE UU y China: Los dos grandes pelean, el mund...  \n",
       "1  Sensación Previsible a esta hora: Alegría [POL...  \n",
       "2  No te salves. no te quedes inmóvil al borde de...  \n",
       "3  Al menos 25 militares venezolanos, todos de ba...  \n",
       "4  Rivera que , con Sanchez ,da una mayoría absol...  "
      ]
     },
     "execution_count": 9,
     "metadata": {},
     "output_type": "execute_result"
    }
   ],
   "source": [
    "reviews_politica = pd.read_csv(\"../../data/raw/development.csv\")\n",
    "reviews_politica.head()"
   ]
  },
  {
   "cell_type": "code",
   "execution_count": null,
   "metadata": {},
   "outputs": [],
   "source": [
    "reviews_politica.shape"
   ]
  },
  {
   "cell_type": "code",
   "execution_count": null,
   "metadata": {},
   "outputs": [],
   "source": [
    "reviews_politica.info()"
   ]
  },
  {
   "cell_type": "code",
   "execution_count": null,
   "metadata": {
    "scrolled": false
   },
   "outputs": [],
   "source": [
    "fig, axs = plt.subplots(figsize=(10,10), nrows=2, ncols=2)\n",
    "for i in range(int(len(var_predictions)/2)):\n",
    "    sns.countplot(ax=axs[0,i], x=var_predictions[2*i], data=reviews_politica)\n",
    "    sns.countplot(ax=axs[1,i],x=var_predictions[2*i-1], data=reviews_politica)\n",
    "plt.plot()"
   ]
  },
  {
   "cell_type": "markdown",
   "metadata": {},
   "source": [
    "### Observaciones:\n",
    "Los registros de *gender* y *ideology_binary* estan balanceados, en cambio los registros de profession e ideology_multiclass no lo están."
   ]
  },
  {
   "cell_type": "markdown",
   "metadata": {},
   "source": [
    "## Calculemos algunas métricas sobre los textos que se tienen"
   ]
  },
  {
   "cell_type": "code",
   "execution_count": 58,
   "metadata": {},
   "outputs": [],
   "source": [
    "import nltk\n",
    "from sklearn.feature_extraction.text import CountVectorizer\n"
   ]
  },
  {
   "cell_type": "code",
   "execution_count": 69,
   "metadata": {},
   "outputs": [
    {
     "data": {
      "text/plain": [
       "FreqDist({'1-Mañana entrevisto a una mujer coraje que, tras acoger a su sobrino de Níger durante 3 años en los que la Admon le deniega hasta la ayuda de guardería mientras ella paga todos los gastos del niño y el Estado se lleva la pasta como niño “tutelado”. Solicitar su adopción, se lo': 2, 'Parece que no cuajó la reunión del secretario general del [POLITICAL_PARTY] con Zetapé. . La tomadura de pelo de @user a las patronales empresariales para ganar tiempo con la UE está a la altura del trilero que ganó la secretaria general del @user con las urnas tras un biombo.': 2, '3-Han llamado “consenso” y “pacto deseable” a las reuniones secretas de líderes del [POLITICAL_PARTY] con ZP como si éTe fuera algo distinto a un comisionista de narcodictaduras. Y han llamado “consenso” a un pacto tácito o explícito con el [POLITICAL_PARTY] que ha devuelto a Otegi a la vida y que ha': 2, 'Los que llevamos avisando 2 años del carácter criminal de este Gobierno y de su pulsión por la ETA, y que lo de hoy iba a pasar, fuimos insultados por periodistas progres y otros que, sin serlo, se apuntaron a lo de llamarnos “radicales” en las tv. Esto también es culpa vuestra.': 2, '1-La utilidad para el Estado es darle al PNV y a Gen Cat el dinero de la investigación de la analgesia para mejorar de la vida de los enfermos, para que su vida sea lo mejor posible y que pueda seguir siendo vivida. La persona no decide cuando no hay voluntariedad.': 2, 'El Congreso da el primer paso para que las personas con discapacidad puedan votar': 2, 'EE UU y China: Los dos grandes pelean, el mundo se resfría EE UU y China desenfundan la divisa como arma en un conflicto que ya no es solo comercial y para el que no hay visos de acuerdo. Se agravan así los temores a un frenazo de la economía global': 1, 'Sensación Previsible a esta hora: Alegría [POLITICAL_PARTY] Podemos [POLITICAL_PARTY] , preocupación en el [POLITICAL_PARTY] y más alegría q preocupación en [POLITICAL_PARTY]': 1, 'No te salves. no te quedes inmóvil al borde del camino. no congeles el júbilo. no quieras con desgana;. no te salves ahora ni nunca,no te salves. No te llenes de calma. no reserves del mundo . solo un rincón tranquilo. no dejes caer los parpados. pesados como juicios. Mario Benedeti. BBNN': 1, 'Al menos 25 militares venezolanos, todos de bajo rango, han solicitado asilo en la Embajada de Brasil en Caracas, según han confirmado fuentes de la Presidencia brasileña “ Son 25\", han dicho y han explicado que ninguno de ellos es general o pertenece a la cúpula militar.': 1, ...})"
      ]
     },
     "execution_count": 69,
     "metadata": {},
     "output_type": "execute_result"
    }
   ],
   "source": [
    "nltk.FreqDist(tweet_all)\n"
   ]
  },
  {
   "cell_type": "code",
   "execution_count": 55,
   "metadata": {},
   "outputs": [],
   "source": [
    "tweet_all = [i for i in reviews_politica[\"tweet\"]]\n"
   ]
  },
  {
   "cell_type": "code",
   "execution_count": 59,
   "metadata": {},
   "outputs": [],
   "source": [
    "vectorizer = CountVectorizer(lowercase=True, ngram_range= (1,1), binary=False, max_features=10000)\n",
    "X = vectorizer.fit_transform(tweet_all)"
   ]
  },
  {
   "cell_type": "markdown",
   "metadata": {},
   "source": [
    "Proceso de modelado:\n",
    "\n",
    "1. Representación de los textos: tokenizar, embedigs, TIFD.\n",
    "2. Descripción del modelo: SVM, RNN, CNN, Bert. \n",
    "3. Evaluación: predicción de test y evaluación final. "
   ]
  },
  {
   "cell_type": "code",
   "execution_count": 56,
   "metadata": {},
   "outputs": [],
   "source": [
    "from sklearn.feature_extraction.text import TfidfVectorizer\n",
    "from sklearn.svm import SVC\n",
    "from sklearn.metrics import f1_score\n",
    "from sklearn.metrics import classification_report"
   ]
  },
  {
   "cell_type": "code",
   "execution_count": 5,
   "metadata": {},
   "outputs": [],
   "source": [
    "# Create a TFIDF Vectorizer using sci-kit. With this, we are going to represent all texts\n",
    "# as counts of the vocabulary. \n",
    "vectorizer = TfidfVectorizer (\n",
    "  analyzer = 'word',\n",
    "  min_df = .1,\n",
    "  max_features = 5000,\n",
    "  lowercase = True\n",
    ") "
   ]
  },
  {
   "cell_type": "code",
   "execution_count": 11,
   "metadata": {},
   "outputs": [],
   "source": [
    "# Get the TF-IDF values from the training set\n",
    "X_train = vectorizer.fit_transform (reviews_politica['tweet'])\n",
    "\n",
    "\n",
    "# Get the TF-IDF values from the test set\n",
    "# Note that we apply the TF-IDF learned from the training split \n",
    "X_test = vectorizer.transform (reviews_politica['tweet'])\n"
   ]
  },
  {
   "cell_type": "code",
   "execution_count": 57,
   "metadata": {},
   "outputs": [],
   "source": [
    "# We are going to store a baseline per trait\n",
    "baselines = {}\n",
    "# As we observed, this task is about four traits: two demographic and two psychographic. Therefore, we are going to\n",
    "# train different and separate models for each task\n",
    "for label in ['gender', 'profession', 'ideology_binary', 'ideology_multiclass']:\n",
    "\n",
    "  # Get a baseline classifier\n",
    "  baselines[label] = SVC()\n",
    "\n",
    "\n",
    "  # Train the baseline for this label\n",
    "  baselines[label].fit(X_train, reviews_politica[label])"
   ]
  },
  {
   "cell_type": "code",
   "execution_count": 77,
   "metadata": {},
   "outputs": [
    {
     "data": {
      "text/plain": [
       "0"
      ]
     },
     "execution_count": 77,
     "metadata": {},
     "output_type": "execute_result"
    }
   ],
   "source": [
    "test_evaluation(X_test, reviews_politica[var_predictions], baselines,\n",
    "               \"/home/enrique/Documentos/AutoML_in_data_aumentation/taks/PolitiES/model/results/prueba.txt\")"
   ]
  },
  {
   "cell_type": "code",
   "execution_count": 75,
   "metadata": {},
   "outputs": [],
   "source": [
    "file = open(\"/home/enrique/Documentos/AutoML_in_data_aumentation/taks/PolitiES/model/results/prueba.txt\", \"w\")\n",
    "for i in [23,213]:\n",
    "    file.write(str(i)+\" \")\n",
    "file.write(str(200))\n",
    "file.close()"
   ]
  },
  {
   "cell_type": "code",
   "execution_count": 76,
   "metadata": {},
   "outputs": [],
   "source": [
    "# %%file ../../src/test_evaluation.py\n",
    "from sklearn.metrics import f1_score\n",
    "\n",
    "def test_evaluation(x_test, y_test, baselines, path_result):\n",
    "    f1_scores = {}\n",
    "    # Next, we are going to calculate the total result\n",
    "    for label in ['gender', 'profession', 'ideology_binary', 'ideology_multiclass']:\n",
    "        # Get the predictions\n",
    "        y_pred = baselines[label].predict(x_test)\n",
    "        f1_scores[label] = f1_score(y_test[label], y_pred, average='macro')\n",
    "    f1_scores = list(f1_scores.values())\n",
    "    file = open(path_result, \"w\")\n",
    "    for i in f1_scores:\n",
    "        file.write(str(i)+ \" \")\n",
    "    \n",
    "    file.write(str(sum(f1_scores)/float(len(f1_scores))))\n",
    "    file.close()\n",
    "    return 0"
   ]
  }
 ],
 "metadata": {
  "kernelspec": {
   "display_name": "Python 3",
   "language": "python",
   "name": "python3"
  },
  "language_info": {
   "codemirror_mode": {
    "name": "ipython",
    "version": 3
   },
   "file_extension": ".py",
   "mimetype": "text/x-python",
   "name": "python",
   "nbconvert_exporter": "python",
   "pygments_lexer": "ipython3",
   "version": "3.7.6"
  }
 },
 "nbformat": 4,
 "nbformat_minor": 4
}
