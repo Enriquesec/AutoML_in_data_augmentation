{
 "cells": [
  {
   "cell_type": "code",
   "execution_count": 4,
   "metadata": {},
   "outputs": [],
   "source": [
    "# processasing\n",
    "import pandas as pd \n",
    "import numpy as np\n",
    "\n",
    "# visualization\n",
    "import matplotlib.pyplot as plt\n",
    "import seaborn as sns\n",
    "\n",
    "import nltk\n",
    "from sklearn.feature_extraction.text import CountVectorizer\n"
   ]
  },
  {
   "cell_type": "code",
   "execution_count": 2,
   "metadata": {},
   "outputs": [],
   "source": [
    "var_predictions = [\"gender\", \"profession\", \"ideology_binary\", \"ideology_multiclass\"]"
   ]
  },
  {
   "cell_type": "code",
   "execution_count": 3,
   "metadata": {},
   "outputs": [
    {
     "data": {
      "text/html": [
       "<div>\n",
       "<style scoped>\n",
       "    .dataframe tbody tr th:only-of-type {\n",
       "        vertical-align: middle;\n",
       "    }\n",
       "\n",
       "    .dataframe tbody tr th {\n",
       "        vertical-align: top;\n",
       "    }\n",
       "\n",
       "    .dataframe thead th {\n",
       "        text-align: right;\n",
       "    }\n",
       "</style>\n",
       "<table border=\"1\" class=\"dataframe\">\n",
       "  <thead>\n",
       "    <tr style=\"text-align: right;\">\n",
       "      <th></th>\n",
       "      <th>Unnamed: 0</th>\n",
       "      <th>label</th>\n",
       "      <th>gender</th>\n",
       "      <th>profession</th>\n",
       "      <th>ideology_binary</th>\n",
       "      <th>ideology_multiclass</th>\n",
       "      <th>tweet</th>\n",
       "    </tr>\n",
       "  </thead>\n",
       "  <tbody>\n",
       "    <tr>\n",
       "      <th>0</th>\n",
       "      <td>36617</td>\n",
       "      <td>@user10</td>\n",
       "      <td>male</td>\n",
       "      <td>journalist</td>\n",
       "      <td>right</td>\n",
       "      <td>moderate_right</td>\n",
       "      <td>EE UU y China: Los dos grandes pelean, el mund...</td>\n",
       "    </tr>\n",
       "    <tr>\n",
       "      <th>1</th>\n",
       "      <td>11991</td>\n",
       "      <td>@user10</td>\n",
       "      <td>male</td>\n",
       "      <td>journalist</td>\n",
       "      <td>right</td>\n",
       "      <td>moderate_right</td>\n",
       "      <td>Sensación Previsible a esta hora: Alegría [POL...</td>\n",
       "    </tr>\n",
       "    <tr>\n",
       "      <th>2</th>\n",
       "      <td>40804</td>\n",
       "      <td>@user10</td>\n",
       "      <td>male</td>\n",
       "      <td>journalist</td>\n",
       "      <td>right</td>\n",
       "      <td>moderate_right</td>\n",
       "      <td>No te salves. no te quedes inmóvil al borde de...</td>\n",
       "    </tr>\n",
       "    <tr>\n",
       "      <th>3</th>\n",
       "      <td>48101</td>\n",
       "      <td>@user10</td>\n",
       "      <td>male</td>\n",
       "      <td>journalist</td>\n",
       "      <td>right</td>\n",
       "      <td>moderate_right</td>\n",
       "      <td>Al menos 25 militares venezolanos, todos de ba...</td>\n",
       "    </tr>\n",
       "    <tr>\n",
       "      <th>4</th>\n",
       "      <td>27627</td>\n",
       "      <td>@user10</td>\n",
       "      <td>male</td>\n",
       "      <td>journalist</td>\n",
       "      <td>right</td>\n",
       "      <td>moderate_right</td>\n",
       "      <td>Rivera que , con Sanchez ,da una mayoría absol...</td>\n",
       "    </tr>\n",
       "  </tbody>\n",
       "</table>\n",
       "</div>"
      ],
      "text/plain": [
       "   Unnamed: 0    label gender  profession ideology_binary ideology_multiclass  \\\n",
       "0       36617  @user10   male  journalist           right      moderate_right   \n",
       "1       11991  @user10   male  journalist           right      moderate_right   \n",
       "2       40804  @user10   male  journalist           right      moderate_right   \n",
       "3       48101  @user10   male  journalist           right      moderate_right   \n",
       "4       27627  @user10   male  journalist           right      moderate_right   \n",
       "\n",
       "                                               tweet  \n",
       "0  EE UU y China: Los dos grandes pelean, el mund...  \n",
       "1  Sensación Previsible a esta hora: Alegría [POL...  \n",
       "2  No te salves. no te quedes inmóvil al borde de...  \n",
       "3  Al menos 25 militares venezolanos, todos de ba...  \n",
       "4  Rivera que , con Sanchez ,da una mayoría absol...  "
      ]
     },
     "execution_count": 3,
     "metadata": {},
     "output_type": "execute_result"
    }
   ],
   "source": [
    "reviews_politica = pd.read_csv(\"../../data/raw/development.csv\")\n",
    "reviews_politica.head()"
   ]
  },
  {
   "cell_type": "code",
   "execution_count": 4,
   "metadata": {},
   "outputs": [
    {
     "data": {
      "text/plain": [
       "(5000, 7)"
      ]
     },
     "execution_count": 4,
     "metadata": {},
     "output_type": "execute_result"
    }
   ],
   "source": [
    "reviews_politica.shape"
   ]
  },
  {
   "cell_type": "code",
   "execution_count": 5,
   "metadata": {},
   "outputs": [
    {
     "name": "stdout",
     "output_type": "stream",
     "text": [
      "<class 'pandas.core.frame.DataFrame'>\n",
      "RangeIndex: 5000 entries, 0 to 4999\n",
      "Data columns (total 7 columns):\n",
      " #   Column               Non-Null Count  Dtype \n",
      "---  ------               --------------  ----- \n",
      " 0   Unnamed: 0           5000 non-null   int64 \n",
      " 1   label                5000 non-null   object\n",
      " 2   gender               5000 non-null   object\n",
      " 3   profession           5000 non-null   object\n",
      " 4   ideology_binary      5000 non-null   object\n",
      " 5   ideology_multiclass  5000 non-null   object\n",
      " 6   tweet                5000 non-null   object\n",
      "dtypes: int64(1), object(6)\n",
      "memory usage: 273.6+ KB\n"
     ]
    }
   ],
   "source": [
    "reviews_politica.info()"
   ]
  },
  {
   "cell_type": "code",
   "execution_count": 7,
   "metadata": {
    "scrolled": false
   },
   "outputs": [
    {
     "data": {
      "text/plain": [
       "[]"
      ]
     },
     "execution_count": 7,
     "metadata": {},
     "output_type": "execute_result"
    },
    {
     "data": {
      "image/png": "[encoded data removed]",
      "text/plain": [
       "<Figure size 720x720 with 4 Axes>"
      ]
     },
     "metadata": {
      "needs_background": "light"
     },
     "output_type": "display_data"
    }
   ],
   "source": [
    "fig, axs = plt.subplots(figsize=(10,10), nrows=2, ncols=2)\n",
    "for i in range(int(len(var_predictions)/2)):\n",
    "    sns.countplot(ax=axs[0,i], x=var_predictions[2*i], data=reviews_politica)\n",
    "    sns.countplot(ax=axs[1,i],x=var_predictions[2*i-1], data=reviews_politica)\n",
    "plt.plot()"
   ]
  },
  {
   "cell_type": "markdown",
   "metadata": {},
   "source": [
    "### Observaciones:\n",
    "Los registros de *gender* y *ideology_binary* estan balanceados, en cambio los registros de profession e ideology_multiclass no lo están."
   ]
  },
  {
   "cell_type": "markdown",
   "metadata": {},
   "source": [
    "## Calculemos algunas métricas sobre los textos que se tienen"
   ]
  },
  {
   "cell_type": "code",
   "execution_count": 69,
   "metadata": {},
   "outputs": [
    {
     "data": {
      "text/plain": [
       "FreqDist({'1-Mañana entrevisto a una mujer coraje que, tras acoger a su sobrino de Níger durante 3 años en los que la Admon le deniega hasta la ayuda de guardería mientras ella paga todos los gastos del niño y el Estado se lleva la pasta como niño “tutelado”. Solicitar su adopción, se lo': 2, 'Parece que no cuajó la reunión del secretario general del [POLITICAL_PARTY] con Zetapé. . La tomadura de pelo de @user a las patronales empresariales para ganar tiempo con la UE está a la altura del trilero que ganó la secretaria general del @user con las urnas tras un biombo.': 2, '3-Han llamado “consenso” y “pacto deseable” a las reuniones secretas de líderes del [POLITICAL_PARTY] con ZP como si éTe fuera algo distinto a un comisionista de narcodictaduras. Y han llamado “consenso” a un pacto tácito o explícito con el [POLITICAL_PARTY] que ha devuelto a Otegi a la vida y que ha': 2, 'Los que llevamos avisando 2 años del carácter criminal de este Gobierno y de su pulsión por la ETA, y que lo de hoy iba a pasar, fuimos insultados por periodistas progres y otros que, sin serlo, se apuntaron a lo de llamarnos “radicales” en las tv. Esto también es culpa vuestra.': 2, '1-La utilidad para el Estado es darle al PNV y a Gen Cat el dinero de la investigación de la analgesia para mejorar de la vida de los enfermos, para que su vida sea lo mejor posible y que pueda seguir siendo vivida. La persona no decide cuando no hay voluntariedad.': 2, 'El Congreso da el primer paso para que las personas con discapacidad puedan votar': 2, 'EE UU y China: Los dos grandes pelean, el mundo se resfría EE UU y China desenfundan la divisa como arma en un conflicto que ya no es solo comercial y para el que no hay visos de acuerdo. Se agravan así los temores a un frenazo de la economía global': 1, 'Sensación Previsible a esta hora: Alegría [POLITICAL_PARTY] Podemos [POLITICAL_PARTY] , preocupación en el [POLITICAL_PARTY] y más alegría q preocupación en [POLITICAL_PARTY]': 1, 'No te salves. no te quedes inmóvil al borde del camino. no congeles el júbilo. no quieras con desgana;. no te salves ahora ni nunca,no te salves. No te llenes de calma. no reserves del mundo . solo un rincón tranquilo. no dejes caer los parpados. pesados como juicios. Mario Benedeti. BBNN': 1, 'Al menos 25 militares venezolanos, todos de bajo rango, han solicitado asilo en la Embajada de Brasil en Caracas, según han confirmado fuentes de la Presidencia brasileña “ Son 25\", han dicho y han explicado que ninguno de ellos es general o pertenece a la cúpula militar.': 1, ...})"
      ]
     },
     "execution_count": 69,
     "metadata": {},
     "output_type": "execute_result"
    }
   ],
   "source": [
    "nltk.FreqDist(tweet_all)\n"
   ]
  },
  {
   "cell_type": "code",
   "execution_count": 55,
   "metadata": {},
   "outputs": [],
   "source": [
    "tweet_all = [i for i in reviews_politica[\"tweet\"]]\n"
   ]
  },
  {
   "cell_type": "code",
   "execution_count": 59,
   "metadata": {},
   "outputs": [],
   "source": [
    "vectorizer = CountVectorizer(lowercase=True, ngram_range= (1,1), binary=False, max_features=10000)\n",
    "X = vectorizer.fit_transform(tweet_all)"
   ]
  },
  {
   "cell_type": "markdown",
   "metadata": {},
   "source": [
    "Proceso de modelado:\n",
    "\n",
    "1. Representación de los textos: tokenizar, embedigs, TIFD.\n",
    "2. Descripción del modelo: SVM, RNN, CNN, Bert. \n",
    "3. Evaluación: predicción de test y evaluación final. "
   ]
  },
  {
   "cell_type": "markdown",
   "metadata": {},
   "source": [
    "### Dataset new"
   ]
  },
  {
   "cell_type": "code",
   "execution_count": 26,
   "metadata": {},
   "outputs": [],
   "source": [
    "review_train = pd.read_csv(\"../../data/raw/training.csv\")\n",
    "clas_var = [\"label\", \"gender\", \"profession\", \"ideology_binary\", \"ideology_multiclass\", \"tweet\"]\n",
    "rewv"
   ]
  },
  {
   "cell_type": "code",
   "execution_count": 46,
   "metadata": {},
   "outputs": [
    {
     "data": {
      "text/plain": [
       "{'noise_injection': [['delete', '0.3'], ['delete', '0.3']],\n",
       " 'replacing_synonym': [['-1', '0.3']],\n",
       " '-1': [['-1', '-1']],\n",
       " 'back_translation': [['Helsinki-NLP/opus-mt-es-en',\n",
       "   'Helsinki-NLP/opus-mt-en-es']],\n",
       " 'replacing_embeddings': [['fasttext', '-1'],\n",
       "  ['glove', '-1'],\n",
       "  ['word2vect', '-1']]}"
      ]
     },
     "execution_count": 46,
     "metadata": {},
     "output_type": "execute_result"
    }
   ],
   "source": [
    "lambda_hyper"
   ]
  },
  {
   "cell_type": "code",
   "execution_count": 50,
   "metadata": {},
   "outputs": [],
   "source": [
    "model_sel=['SVM', 'LogisticRegression', 'CNN', 'RNN']\n",
    "method_da = ['noise_injection',\n",
    " 'replacing_synonym',\n",
    " 'back_translation',\n",
    " 'replacing_embeddings',\n",
    " '-1']\n",
    "lambda_hyper = {'noise_injection': [['delete', '0.3'], ['delete', '0.3']],\n",
    " 'replacing_synonym': [['-1', '0.3']],\n",
    " '-1': [['-1', '-1']],\n",
    " 'back_translation': [['Helsinki-NLP/opus-mt-es-en',\n",
    "   'Helsinki-NLP/opus-mt-en-es']],\n",
    " 'replacing_embeddings': [['fasttext', '-1'],\n",
    "  ['glove', '-1'],\n",
    "  ['word2vect', '-1']]}\n",
    "preprocesamiento=['1', '-1']\n",
    "representation={'SVM': ['TFIDF', 'Tokenizer_Keras'],\n",
    " 'LogisticRegression': ['TFIDF', 'Tokenizer_Keras'],\n",
    " 'CNN': ['Tokenizer_Keras'],\n",
    " 'RNN': ['Tokenizer_Keras']}"
   ]
  },
  {
   "cell_type": "code",
   "execution_count": 42,
   "metadata": {},
   "outputs": [],
   "source": [
    "path_train_a = \"/home/est_posgrado_enrique.santibanez/tesis/PolitiES/data/raw/training.csv\"\n",
    "path_test_a = \"/home/est_posgrado_enrique.santibanez/tesis/PolitiES/test/development_test.csv\"\n",
    "path_error_a = \"/home/est_posgrado_enrique.santibanez/tesis/PolitiES/model/results/errors/logistic_error.csv\"\n",
    "model_errors = model_result[\"model\"]\n",
    "f = open(\"test\", \"w\")\n",
    "for model_name in model_sel:\n",
    "    for da in method_da:\n",
    "        for da_sel in lambda_hyper[da]:\n",
    "            for pre in preprocesamiento:\n",
    "                for repre in representation[model_name]:\n",
    "                    if len(model_result[(m==model_result.model) & \n",
    "                                        (da==model_result.method_da) & \n",
    "                                        (da_sel==[str(model_result.lambda_hyper_1), str(model_result.lambda_hyper_2)]) &\n",
    "                                        (pre == model_result.preprocesamiento) & \n",
    "                                        (repre==model_result.representation)])==0:\n",
    "                        f.writelines([\"python\", path_train_a, \" \",\n",
    "                                           path_test_a, \" \",\n",
    "                                           model_name,\" \",\n",
    "                                           da,\" \",\n",
    "                                           da_sel[0],\" \",\n",
    "                                           da_sel[1],\" \",\n",
    "                                           pre,\" \",\n",
    "                                           repre,\" \",\n",
    "                                           path_error_a,\"\\n\"])\n",
    "f.close()\n",
    "\n",
    "                    "
   ]
  },
  {
   "cell_type": "code",
   "execution_count": null,
   "metadata": {},
   "outputs": [],
   "source": [
    "(path_train=None,\n",
    " path_test=None, \n",
    " model_name=None, \n",
    " method_da=[\"-1\"], \n",
    " lambda_hyper=[\"-1\",\"-1\"], \n",
    " preprocess=[\"-1\"], \n",
    "    representation=[\"TFIDF\"], path_errors=None):"
   ]
  },
  {
   "cell_type": "code",
   "execution_count": null,
   "metadata": {},
   "outputs": [],
   "source": [
    "python /home/est_posgrado_enrique.santibanez/tesis/PolitiES/src/main.py \n",
    "SVM -1 -1 1 TFIDF "
   ]
  },
  {
   "cell_type": "code",
   "execution_count": 28,
   "metadata": {
    "scrolled": true
   },
   "outputs": [
    {
     "data": {
      "text/html": [
       "<div>\n",
       "<style scoped>\n",
       "    .dataframe tbody tr th:only-of-type {\n",
       "        vertical-align: middle;\n",
       "    }\n",
       "\n",
       "    .dataframe tbody tr th {\n",
       "        vertical-align: top;\n",
       "    }\n",
       "\n",
       "    .dataframe thead th {\n",
       "        text-align: right;\n",
       "    }\n",
       "</style>\n",
       "<table border=\"1\" class=\"dataframe\">\n",
       "  <thead>\n",
       "    <tr style=\"text-align: right;\">\n",
       "      <th></th>\n",
       "      <th>name_taks</th>\n",
       "      <th>model</th>\n",
       "      <th>method_da</th>\n",
       "      <th>lambda_hyper_1</th>\n",
       "      <th>lambda_hyper_2</th>\n",
       "      <th>preprocesamiento</th>\n",
       "      <th>representation</th>\n",
       "      <th>nrow_df</th>\n",
       "      <th>nrow_df_aug</th>\n",
       "      <th>error_train_gender</th>\n",
       "      <th>error_train_profession</th>\n",
       "      <th>error_train_ideology_binary</th>\n",
       "      <th>error_train_ideology_multiclass</th>\n",
       "      <th>error_train</th>\n",
       "      <th>error_test_gender</th>\n",
       "      <th>error_test_profession</th>\n",
       "      <th>error_test_ideology_binary</th>\n",
       "      <th>error_test_ideology_multiclass</th>\n",
       "      <th>error_test</th>\n",
       "    </tr>\n",
       "  </thead>\n",
       "  <tbody>\n",
       "    <tr>\n",
       "      <th>0</th>\n",
       "      <td>PolitiES</td>\n",
       "      <td>SVM</td>\n",
       "      <td>noise_injection</td>\n",
       "      <td>delete</td>\n",
       "      <td>0.3</td>\n",
       "      <td>1</td>\n",
       "      <td>TFIDF</td>\n",
       "      <td>101</td>\n",
       "      <td>202</td>\n",
       "      <td>0.344156</td>\n",
       "      <td>0.462766</td>\n",
       "      <td>0.352564</td>\n",
       "      <td>0.131387</td>\n",
       "      <td>0.322718</td>\n",
       "      <td>0.444444</td>\n",
       "      <td>0.411765</td>\n",
       "      <td>0.200000</td>\n",
       "      <td>0.083333</td>\n",
       "      <td>0.284886</td>\n",
       "    </tr>\n",
       "    <tr>\n",
       "      <th>1</th>\n",
       "      <td>PolitiES</td>\n",
       "      <td>SVM</td>\n",
       "      <td>noise_injection</td>\n",
       "      <td>swap</td>\n",
       "      <td>0.3</td>\n",
       "      <td>1</td>\n",
       "      <td>TFIDF</td>\n",
       "      <td>101</td>\n",
       "      <td>202</td>\n",
       "      <td>0.344156</td>\n",
       "      <td>0.462766</td>\n",
       "      <td>0.352564</td>\n",
       "      <td>0.131387</td>\n",
       "      <td>0.322718</td>\n",
       "      <td>0.444444</td>\n",
       "      <td>0.411765</td>\n",
       "      <td>0.200000</td>\n",
       "      <td>0.083333</td>\n",
       "      <td>0.284886</td>\n",
       "    </tr>\n",
       "    <tr>\n",
       "      <th>2</th>\n",
       "      <td>PolitiES</td>\n",
       "      <td>LogisticRegression</td>\n",
       "      <td>noise_injection</td>\n",
       "      <td>swap</td>\n",
       "      <td>0.3</td>\n",
       "      <td>1</td>\n",
       "      <td>TFIDF</td>\n",
       "      <td>101</td>\n",
       "      <td>202</td>\n",
       "      <td>0.885665</td>\n",
       "      <td>0.462766</td>\n",
       "      <td>0.934289</td>\n",
       "      <td>0.841866</td>\n",
       "      <td>0.781147</td>\n",
       "      <td>0.494949</td>\n",
       "      <td>0.411765</td>\n",
       "      <td>0.335038</td>\n",
       "      <td>0.171930</td>\n",
       "      <td>0.353421</td>\n",
       "    </tr>\n",
       "    <tr>\n",
       "      <th>3</th>\n",
       "      <td>PolitiES</td>\n",
       "      <td>LogisticRegression</td>\n",
       "      <td>-1</td>\n",
       "      <td>-1</td>\n",
       "      <td>-1.0</td>\n",
       "      <td>-1</td>\n",
       "      <td>TFIDF</td>\n",
       "      <td>101</td>\n",
       "      <td>-1</td>\n",
       "      <td>0.695688</td>\n",
       "      <td>0.462766</td>\n",
       "      <td>0.746867</td>\n",
       "      <td>0.393242</td>\n",
       "      <td>0.574641</td>\n",
       "      <td>0.466667</td>\n",
       "      <td>0.411765</td>\n",
       "      <td>0.548872</td>\n",
       "      <td>0.267857</td>\n",
       "      <td>0.423790</td>\n",
       "    </tr>\n",
       "    <tr>\n",
       "      <th>4</th>\n",
       "      <td>PolitiES</td>\n",
       "      <td>LogisticRegression</td>\n",
       "      <td>-1</td>\n",
       "      <td>-1</td>\n",
       "      <td>-1.0</td>\n",
       "      <td>1</td>\n",
       "      <td>TFIDF</td>\n",
       "      <td>101</td>\n",
       "      <td>-1</td>\n",
       "      <td>0.870474</td>\n",
       "      <td>0.462766</td>\n",
       "      <td>0.897358</td>\n",
       "      <td>0.716471</td>\n",
       "      <td>0.736767</td>\n",
       "      <td>0.435737</td>\n",
       "      <td>0.411765</td>\n",
       "      <td>0.595960</td>\n",
       "      <td>0.448413</td>\n",
       "      <td>0.472968</td>\n",
       "    </tr>\n",
       "    <tr>\n",
       "      <th>5</th>\n",
       "      <td>PolitiES</td>\n",
       "      <td>CNN</td>\n",
       "      <td>-1</td>\n",
       "      <td>-1</td>\n",
       "      <td>-1.0</td>\n",
       "      <td>1</td>\n",
       "      <td>Tokenizer_Keras</td>\n",
       "      <td>101</td>\n",
       "      <td>101</td>\n",
       "      <td>0.344156</td>\n",
       "      <td>0.121739</td>\n",
       "      <td>0.312925</td>\n",
       "      <td>0.131387</td>\n",
       "      <td>0.227552</td>\n",
       "      <td>0.444444</td>\n",
       "      <td>0.230769</td>\n",
       "      <td>0.428571</td>\n",
       "      <td>0.083333</td>\n",
       "      <td>0.296780</td>\n",
       "    </tr>\n",
       "    <tr>\n",
       "      <th>6</th>\n",
       "      <td>PolitiES</td>\n",
       "      <td>RNN</td>\n",
       "      <td>-1</td>\n",
       "      <td>-1</td>\n",
       "      <td>-1.0</td>\n",
       "      <td>1</td>\n",
       "      <td>Tokenizer_Keras</td>\n",
       "      <td>101</td>\n",
       "      <td>101</td>\n",
       "      <td>0.344156</td>\n",
       "      <td>0.121739</td>\n",
       "      <td>0.312925</td>\n",
       "      <td>0.267106</td>\n",
       "      <td>0.261482</td>\n",
       "      <td>0.444444</td>\n",
       "      <td>0.230769</td>\n",
       "      <td>0.428571</td>\n",
       "      <td>0.083333</td>\n",
       "      <td>0.296780</td>\n",
       "    </tr>\n",
       "    <tr>\n",
       "      <th>7</th>\n",
       "      <td>PolitiES</td>\n",
       "      <td>SVM</td>\n",
       "      <td>replacing_synonym</td>\n",
       "      <td>-1</td>\n",
       "      <td>0.5</td>\n",
       "      <td>1</td>\n",
       "      <td>Tokenizer_Keras</td>\n",
       "      <td>101</td>\n",
       "      <td>202</td>\n",
       "      <td>1.000000</td>\n",
       "      <td>0.989476</td>\n",
       "      <td>0.995005</td>\n",
       "      <td>1.000000</td>\n",
       "      <td>0.996120</td>\n",
       "      <td>0.373219</td>\n",
       "      <td>0.466667</td>\n",
       "      <td>0.560440</td>\n",
       "      <td>0.312500</td>\n",
       "      <td>0.428206</td>\n",
       "    </tr>\n",
       "    <tr>\n",
       "      <th>8</th>\n",
       "      <td>PolitiES</td>\n",
       "      <td>SVM</td>\n",
       "      <td>replacing_synonym</td>\n",
       "      <td>-1</td>\n",
       "      <td>0.5</td>\n",
       "      <td>-1</td>\n",
       "      <td>Tokenizer_Keras</td>\n",
       "      <td>101</td>\n",
       "      <td>202</td>\n",
       "      <td>1.000000</td>\n",
       "      <td>0.989787</td>\n",
       "      <td>1.000000</td>\n",
       "      <td>1.000000</td>\n",
       "      <td>0.997447</td>\n",
       "      <td>0.450549</td>\n",
       "      <td>0.466667</td>\n",
       "      <td>0.450549</td>\n",
       "      <td>0.267857</td>\n",
       "      <td>0.408906</td>\n",
       "    </tr>\n",
       "  </tbody>\n",
       "</table>\n",
       "</div>"
      ],
      "text/plain": [
       "  name_taks               model          method_da lambda_hyper_1  \\\n",
       "0  PolitiES                 SVM    noise_injection         delete   \n",
       "1  PolitiES                 SVM    noise_injection           swap   \n",
       "2  PolitiES  LogisticRegression    noise_injection           swap   \n",
       "3  PolitiES  LogisticRegression                 -1             -1   \n",
       "4  PolitiES  LogisticRegression                 -1             -1   \n",
       "5  PolitiES                 CNN                 -1             -1   \n",
       "6  PolitiES                 RNN                 -1             -1   \n",
       "7  PolitiES                 SVM  replacing_synonym             -1   \n",
       "8  PolitiES                 SVM  replacing_synonym             -1   \n",
       "\n",
       "   lambda_hyper_2  preprocesamiento   representation  nrow_df  nrow_df_aug  \\\n",
       "0             0.3                 1            TFIDF      101          202   \n",
       "1             0.3                 1            TFIDF      101          202   \n",
       "2             0.3                 1            TFIDF      101          202   \n",
       "3            -1.0                -1            TFIDF      101           -1   \n",
       "4            -1.0                 1            TFIDF      101           -1   \n",
       "5            -1.0                 1  Tokenizer_Keras      101          101   \n",
       "6            -1.0                 1  Tokenizer_Keras      101          101   \n",
       "7             0.5                 1  Tokenizer_Keras      101          202   \n",
       "8             0.5                -1  Tokenizer_Keras      101          202   \n",
       "\n",
       "   error_train_gender  error_train_profession  error_train_ideology_binary  \\\n",
       "0            0.344156                0.462766                     0.352564   \n",
       "1            0.344156                0.462766                     0.352564   \n",
       "2            0.885665                0.462766                     0.934289   \n",
       "3            0.695688                0.462766                     0.746867   \n",
       "4            0.870474                0.462766                     0.897358   \n",
       "5            0.344156                0.121739                     0.312925   \n",
       "6            0.344156                0.121739                     0.312925   \n",
       "7            1.000000                0.989476                     0.995005   \n",
       "8            1.000000                0.989787                     1.000000   \n",
       "\n",
       "   error_train_ideology_multiclass  error_train  error_test_gender  \\\n",
       "0                         0.131387     0.322718           0.444444   \n",
       "1                         0.131387     0.322718           0.444444   \n",
       "2                         0.841866     0.781147           0.494949   \n",
       "3                         0.393242     0.574641           0.466667   \n",
       "4                         0.716471     0.736767           0.435737   \n",
       "5                         0.131387     0.227552           0.444444   \n",
       "6                         0.267106     0.261482           0.444444   \n",
       "7                         1.000000     0.996120           0.373219   \n",
       "8                         1.000000     0.997447           0.450549   \n",
       "\n",
       "   error_test_profession  error_test_ideology_binary  \\\n",
       "0               0.411765                    0.200000   \n",
       "1               0.411765                    0.200000   \n",
       "2               0.411765                    0.335038   \n",
       "3               0.411765                    0.548872   \n",
       "4               0.411765                    0.595960   \n",
       "5               0.230769                    0.428571   \n",
       "6               0.230769                    0.428571   \n",
       "7               0.466667                    0.560440   \n",
       "8               0.466667                    0.450549   \n",
       "\n",
       "   error_test_ideology_multiclass  error_test  \n",
       "0                        0.083333    0.284886  \n",
       "1                        0.083333    0.284886  \n",
       "2                        0.171930    0.353421  \n",
       "3                        0.267857    0.423790  \n",
       "4                        0.448413    0.472968  \n",
       "5                        0.083333    0.296780  \n",
       "6                        0.083333    0.296780  \n",
       "7                        0.312500    0.428206  \n",
       "8                        0.267857    0.408906  "
      ]
     },
     "execution_count": 28,
     "metadata": {},
     "output_type": "execute_result"
    }
   ],
   "source": [
    "model_result[]"
   ]
  }
 ],
 "metadata": {
  "kernelspec": {
   "display_name": "Python 3",
   "language": "python",
   "name": "python3"
  },
  "language_info": {
   "codemirror_mode": {
    "name": "ipython",
    "version": 3
   },
   "file_extension": ".py",
   "mimetype": "text/x-python",
   "name": "python",
   "nbconvert_exporter": "python",
   "pygments_lexer": "ipython3",
   "version": "3.7.6"
  }
 },
 "nbformat": 4,
 "nbformat_minor": 4
}
