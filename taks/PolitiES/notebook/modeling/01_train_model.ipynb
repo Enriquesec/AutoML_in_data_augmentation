{
 "cells": [
  {
   "cell_type": "code",
   "execution_count": 4,
   "metadata": {},
   "outputs": [
    {
     "name": "stderr",
     "output_type": "stream",
     "text": [
      "2022-03-12 08:59:10.992415: W tensorflow/stream_executor/platform/default/dso_loader.cc:64] Could not load dynamic library 'libcudart.so.11.0'; dlerror: libcudart.so.11.0: cannot open shared object file: No such file or directory\n",
      "2022-03-12 08:59:10.992481: I tensorflow/stream_executor/cuda/cudart_stub.cc:29] Ignore above cudart dlerror if you do not have a GPU set up on your machine.\n",
      "[nltk_data] Downloading package punkt to /home/enrique/nltk_data...\n",
      "[nltk_data]   Package punkt is already up-to-date!\n",
      "[nltk_data] Downloading package stopwords to\n",
      "[nltk_data]     /home/enrique/nltk_data...\n",
      "[nltk_data]   Package stopwords is already up-to-date!\n"
     ]
    }
   ],
   "source": [
    "import numpy as np\n",
    "import itertools\n",
    "\n",
    "import os\n",
    "os.chdir(r\"/home/enrique/Documentos/AutoML_in_data_aumentation/taks/PolitiES/src/\")\n",
    "\n",
    "from general_functions import *\n",
    "\n",
    "\n",
    "# global vars\n",
    "path_train = \"../data/raw/development.csv\"\n",
    "path_test = \"../test/development_test.csv\"\n",
    "names_columns = [\"name_taks\", \"model\", \"method_da\", \"lambda_hyper_1\", \"lambda_hyper_2\", \"preprocesamiento\", \"representation\", \n",
    "                 \"error_train_gender\", \"error_train_profession\", \"error_train_ideology_binary\", \"error_train_ideology_multiclass\", \"error_train\",\n",
    "                 \"error_test_gender\", \"error_test_profession\", \"error_test_ideology_binary\", \"error_test_ideology_multiclass\", \"error_test\"]\n"
   ]
  },
  {
   "cell_type": "code",
   "execution_count": 47,
   "metadata": {},
   "outputs": [],
   "source": [
    "import csv\n",
    "\n",
    "try:\n",
    "    file = pd.read_csv(\"../data/prueba.csv\")\n",
    "except:\n",
    "    with open(\"../data/prueba.csv\", 'w') as csv_file:\n",
    "        file_writer = csv.writer(csv_file, delimiter=',', quotechar='|', quoting=csv.QUOTE_MINIMAL)\n",
    "        header = ['epoch', 'lr', 'train_loss', 'train_inv_psnr', 'train_ssim', 'val_loss', 'val_psnr', 'val_ssim']\n",
    "        file_writer.writerow(header)\n",
    "    file = pd.read_csv(\"../data/prueba.csv\")\n"
   ]
  },
  {
   "cell_type": "code",
   "execution_count": 40,
   "metadata": {},
   "outputs": [],
   "source": [
    "    with open(\"../data/prueba.csv\", 'a') as csv_file:\n",
    "        file_writer = csv.writer(csv_file, delimiter=',', quotechar='|', quoting=csv.QUOTE_MINIMAL)\n",
    "        header = ['epoch', 'lr', 'train_loss', 'train_inv_psnr', 'train_ssim', 'val_loss', 'val_psnr', 'val_ssim']\n",
    "        file_writer.writerow(header)"
   ]
  },
  {
   "cell_type": "code",
   "execution_count": 50,
   "metadata": {},
   "outputs": [
    {
     "data": {
      "text/plain": [
       "Index(['name_taks', 'model', 'method_da', 'lambda_hyper_1', 'lambda_hyper_2',\n",
       "       'preprocesamiento', 'representation', 'error_train_gender',\n",
       "       'error_train_profession', 'error_train_ideology_binary',\n",
       "       'error_train_ideology_multiclass', 'error_train', 'error_test_gender',\n",
       "       'error_test_profession', 'error_test_ideology_binary',\n",
       "       'error_test_ideology_multiclass', 'error_test'],\n",
       "      dtype='object')"
      ]
     },
     "execution_count": 50,
     "metadata": {},
     "output_type": "execute_result"
    }
   ],
   "source": [
    "pd.read_csv(\"../model/results/errors/logistic_error.csv\").columns"
   ]
  },
  {
   "cell_type": "code",
   "execution_count": null,
   "metadata": {},
   "outputs": [],
   "source": [
    "['name_taks', 'model', 'method_da', 'lambda_hyper_1', 'lambda_hyper_2',\n",
    "       'preprocesamiento', 'representation', 'error_train_gender',\n",
    "       'error_train_profession', 'error_train_ideology_binary',\n",
    "       'error_train_ideology_multiclass', 'error_train', 'error_test_gender',\n",
    "       'error_test_profession', 'error_test_ideology_binary',\n",
    "       'error_test_ideology_multiclass', 'error_test']"
   ]
  },
  {
   "cell_type": "code",
   "execution_count": 51,
   "metadata": {},
   "outputs": [],
   "source": [
    "train_test = format_data_origin(path_train, path_test)\n"
   ]
  },
  {
   "cell_type": "code",
   "execution_count": 54,
   "metadata": {},
   "outputs": [],
   "source": [
    "df = train_test[\"train\"]"
   ]
  },
  {
   "cell_type": "code",
   "execution_count": 56,
   "metadata": {},
   "outputs": [],
   "source": [
    "X =df[\"tweet\"]"
   ]
  },
  {
   "cell_type": "code",
   "execution_count": 69,
   "metadata": {},
   "outputs": [],
   "source": [
    "import os\n",
    "import sys\n"
   ]
  },
  {
   "cell_type": "code",
   "execution_count": 82,
   "metadata": {
    "scrolled": true
   },
   "outputs": [
    {
     "data": {
      "text/html": [
       "<div>\n",
       "<style scoped>\n",
       "    .dataframe tbody tr th:only-of-type {\n",
       "        vertical-align: middle;\n",
       "    }\n",
       "\n",
       "    .dataframe tbody tr th {\n",
       "        vertical-align: top;\n",
       "    }\n",
       "\n",
       "    .dataframe thead th {\n",
       "        text-align: right;\n",
       "    }\n",
       "</style>\n",
       "<table border=\"1\" class=\"dataframe\">\n",
       "  <thead>\n",
       "    <tr style=\"text-align: right;\">\n",
       "      <th></th>\n",
       "      <th>label</th>\n",
       "      <th>gender</th>\n",
       "      <th>profession</th>\n",
       "      <th>ideology_binary</th>\n",
       "      <th>ideology_multiclass</th>\n",
       "      <th>tweet</th>\n",
       "    </tr>\n",
       "  </thead>\n",
       "  <tbody>\n",
       "    <tr>\n",
       "      <th>0</th>\n",
       "      <td>@user10</td>\n",
       "      <td>male</td>\n",
       "      <td>journalist</td>\n",
       "      <td>right</td>\n",
       "      <td>moderate_right</td>\n",
       "      <td>EE UU y China: Los dos grandes pelean, el mund...</td>\n",
       "    </tr>\n",
       "    <tr>\n",
       "      <th>1</th>\n",
       "      <td>@user105</td>\n",
       "      <td>male</td>\n",
       "      <td>politician</td>\n",
       "      <td>left</td>\n",
       "      <td>moderate_left</td>\n",
       "      <td>El [POLITICAL_PARTY] en el @user cuestionando ...</td>\n",
       "    </tr>\n",
       "  </tbody>\n",
       "</table>\n",
       "</div>"
      ],
      "text/plain": [
       "      label gender  profession ideology_binary ideology_multiclass  \\\n",
       "0   @user10   male  journalist           right      moderate_right   \n",
       "1  @user105   male  politician            left       moderate_left   \n",
       "\n",
       "                                               tweet  \n",
       "0  EE UU y China: Los dos grandes pelean, el mund...  \n",
       "1  El [POLITICAL_PARTY] en el @user cuestionando ...  "
      ]
     },
     "execution_count": 82,
     "metadata": {},
     "output_type": "execute_result"
    }
   ],
   "source": [
    "df.head(2)"
   ]
  },
  {
   "cell_type": "code",
   "execution_count": 85,
   "metadata": {},
   "outputs": [
    {
     "data": {
      "text/plain": [
       "array(['moderate_right', 'moderate_left', 'right', 'left'], dtype=object)"
      ]
     },
     "execution_count": 85,
     "metadata": {},
     "output_type": "execute_result"
    }
   ],
   "source": [
    "df[\"ideology_multiclass\"].unique()"
   ]
  },
  {
   "cell_type": "code",
   "execution_count": 86,
   "metadata": {},
   "outputs": [],
   "source": [
    "dic_gender = {\"male\":0, \"female\":1}\n",
    "dic_profession = {\"journalist\":0, \"politician\":1}\n",
    "dic_ideology_binary = {\"right\":0, \"left\":1}\n",
    "dic_idiology_multiclas = {'moderate_right':0, 'moderate_left':1, \n",
    "                          'right':2, 'left':3}\n",
    "\n",
    "dic_complete = [dic_gender, dic_profession, dic_ideology_binary, dic_idiology_multiclas]"
   ]
  },
  {
   "cell_type": "code",
   "execution_count": 89,
   "metadata": {},
   "outputs": [],
   "source": [
    "def category_col(df, var_predictions):\n",
    "  for i, name in enumerate(var_predictions):\n",
    "    df[name] = df[name].apply(lambda x: dic_complete[i][x])\n",
    "  'gender', 'profession', 'ideology_binary', 'ideology_multiclass'\n",
    "  return df "
   ]
  },
  {
   "cell_type": "code",
   "execution_count": 90,
   "metadata": {},
   "outputs": [],
   "source": [
    "var_predictions = ['gender', 'profession', 'ideology_binary', 'ideology_multiclass']\n"
   ]
  },
  {
   "cell_type": "code",
   "execution_count": 91,
   "metadata": {},
   "outputs": [
    {
     "data": {
      "text/html": [
       "<div>\n",
       "<style scoped>\n",
       "    .dataframe tbody tr th:only-of-type {\n",
       "        vertical-align: middle;\n",
       "    }\n",
       "\n",
       "    .dataframe tbody tr th {\n",
       "        vertical-align: top;\n",
       "    }\n",
       "\n",
       "    .dataframe thead th {\n",
       "        text-align: right;\n",
       "    }\n",
       "</style>\n",
       "<table border=\"1\" class=\"dataframe\">\n",
       "  <thead>\n",
       "    <tr style=\"text-align: right;\">\n",
       "      <th></th>\n",
       "      <th>label</th>\n",
       "      <th>gender</th>\n",
       "      <th>profession</th>\n",
       "      <th>ideology_binary</th>\n",
       "      <th>ideology_multiclass</th>\n",
       "      <th>tweet</th>\n",
       "    </tr>\n",
       "  </thead>\n",
       "  <tbody>\n",
       "    <tr>\n",
       "      <th>0</th>\n",
       "      <td>@user10</td>\n",
       "      <td>0</td>\n",
       "      <td>0</td>\n",
       "      <td>0</td>\n",
       "      <td>0</td>\n",
       "      <td>EE UU y China: Los dos grandes pelean, el mund...</td>\n",
       "    </tr>\n",
       "    <tr>\n",
       "      <th>1</th>\n",
       "      <td>@user105</td>\n",
       "      <td>0</td>\n",
       "      <td>1</td>\n",
       "      <td>1</td>\n",
       "      <td>1</td>\n",
       "      <td>El [POLITICAL_PARTY] en el @user cuestionando ...</td>\n",
       "    </tr>\n",
       "    <tr>\n",
       "      <th>2</th>\n",
       "      <td>@user110</td>\n",
       "      <td>1</td>\n",
       "      <td>1</td>\n",
       "      <td>1</td>\n",
       "      <td>1</td>\n",
       "      <td>Con todo respeto, @user es el Presidente elegi...</td>\n",
       "    </tr>\n",
       "    <tr>\n",
       "      <th>3</th>\n",
       "      <td>@user117</td>\n",
       "      <td>0</td>\n",
       "      <td>1</td>\n",
       "      <td>1</td>\n",
       "      <td>1</td>\n",
       "      <td>Hoy son otros los que vienen a enriquecer nues...</td>\n",
       "    </tr>\n",
       "    <tr>\n",
       "      <th>4</th>\n",
       "      <td>@user12</td>\n",
       "      <td>1</td>\n",
       "      <td>1</td>\n",
       "      <td>0</td>\n",
       "      <td>2</td>\n",
       "      <td>¡Muchos políticos se inventan un Master...y a ...</td>\n",
       "    </tr>\n",
       "    <tr>\n",
       "      <th>...</th>\n",
       "      <td>...</td>\n",
       "      <td>...</td>\n",
       "      <td>...</td>\n",
       "      <td>...</td>\n",
       "      <td>...</td>\n",
       "      <td>...</td>\n",
       "    </tr>\n",
       "    <tr>\n",
       "      <th>96</th>\n",
       "      <td>@user85</td>\n",
       "      <td>0</td>\n",
       "      <td>1</td>\n",
       "      <td>0</td>\n",
       "      <td>0</td>\n",
       "      <td>#Salamanca, primera ciudad de #España que firm...</td>\n",
       "    </tr>\n",
       "    <tr>\n",
       "      <th>97</th>\n",
       "      <td>@user86</td>\n",
       "      <td>1</td>\n",
       "      <td>1</td>\n",
       "      <td>0</td>\n",
       "      <td>0</td>\n",
       "      <td>Es totalmente inaceptable que el [POLITICAL_PA...</td>\n",
       "    </tr>\n",
       "    <tr>\n",
       "      <th>98</th>\n",
       "      <td>@user93</td>\n",
       "      <td>0</td>\n",
       "      <td>0</td>\n",
       "      <td>0</td>\n",
       "      <td>2</td>\n",
       "      <td>Si no lo dice nadie, lo digo yo:. La Cañada Re...</td>\n",
       "    </tr>\n",
       "    <tr>\n",
       "      <th>99</th>\n",
       "      <td>@user94</td>\n",
       "      <td>0</td>\n",
       "      <td>1</td>\n",
       "      <td>0</td>\n",
       "      <td>0</td>\n",
       "      <td>@user De @user sólo acudirán 9 diputados, que ...</td>\n",
       "    </tr>\n",
       "    <tr>\n",
       "      <th>100</th>\n",
       "      <td>@user96</td>\n",
       "      <td>1</td>\n",
       "      <td>1</td>\n",
       "      <td>0</td>\n",
       "      <td>0</td>\n",
       "      <td>Dice Sánchez que la manifestación de Colón por...</td>\n",
       "    </tr>\n",
       "  </tbody>\n",
       "</table>\n",
       "<p>101 rows × 6 columns</p>\n",
       "</div>"
      ],
      "text/plain": [
       "        label  gender  profession  ideology_binary  ideology_multiclass  \\\n",
       "0     @user10       0           0                0                    0   \n",
       "1    @user105       0           1                1                    1   \n",
       "2    @user110       1           1                1                    1   \n",
       "3    @user117       0           1                1                    1   \n",
       "4     @user12       1           1                0                    2   \n",
       "..        ...     ...         ...              ...                  ...   \n",
       "96    @user85       0           1                0                    0   \n",
       "97    @user86       1           1                0                    0   \n",
       "98    @user93       0           0                0                    2   \n",
       "99    @user94       0           1                0                    0   \n",
       "100   @user96       1           1                0                    0   \n",
       "\n",
       "                                                 tweet  \n",
       "0    EE UU y China: Los dos grandes pelean, el mund...  \n",
       "1    El [POLITICAL_PARTY] en el @user cuestionando ...  \n",
       "2    Con todo respeto, @user es el Presidente elegi...  \n",
       "3    Hoy son otros los que vienen a enriquecer nues...  \n",
       "4    ¡Muchos políticos se inventan un Master...y a ...  \n",
       "..                                                 ...  \n",
       "96   #Salamanca, primera ciudad de #España que firm...  \n",
       "97   Es totalmente inaceptable que el [POLITICAL_PA...  \n",
       "98   Si no lo dice nadie, lo digo yo:. La Cañada Re...  \n",
       "99   @user De @user sólo acudirán 9 diputados, que ...  \n",
       "100  Dice Sánchez que la manifestación de Colón por...  \n",
       "\n",
       "[101 rows x 6 columns]"
      ]
     },
     "execution_count": 91,
     "metadata": {},
     "output_type": "execute_result"
    }
   ],
   "source": [
    "category_col(df, var_predictions)"
   ]
  },
  {
   "cell_type": "code",
   "execution_count": 88,
   "metadata": {},
   "outputs": [
    {
     "data": {
      "text/plain": [
       "0      0\n",
       "1      0\n",
       "2      1\n",
       "3      0\n",
       "4      1\n",
       "      ..\n",
       "96     0\n",
       "97     1\n",
       "98     0\n",
       "99     0\n",
       "100    1\n",
       "Name: gender, Length: 101, dtype: int64"
      ]
     },
     "execution_count": 88,
     "metadata": {},
     "output_type": "execute_result"
    }
   ],
   "source": [
    "df[\"gender\"].apply(lambda x: dic_complete[0][x])"
   ]
  },
  {
   "cell_type": "code",
   "execution_count": 77,
   "metadata": {},
   "outputs": [
    {
     "data": {
      "text/plain": [
       "['avion', 'aavion']"
      ]
     },
     "execution_count": 77,
     "metadata": {},
     "output_type": "execute_result"
    }
   ],
   "source": [
    "[i.replace(\"asd\",\"avion\") for i in [\"asd\",\"aasd\"]]"
   ]
  },
  {
   "cell_type": "code",
   "execution_count": 61,
   "metadata": {},
   "outputs": [
    {
     "data": {
      "text/html": [
       "<div>\n",
       "<style scoped>\n",
       "    .dataframe tbody tr th:only-of-type {\n",
       "        vertical-align: middle;\n",
       "    }\n",
       "\n",
       "    .dataframe tbody tr th {\n",
       "        vertical-align: top;\n",
       "    }\n",
       "\n",
       "    .dataframe thead th {\n",
       "        text-align: right;\n",
       "    }\n",
       "</style>\n",
       "<table border=\"1\" class=\"dataframe\">\n",
       "  <thead>\n",
       "    <tr style=\"text-align: right;\">\n",
       "      <th></th>\n",
       "      <th>tweet</th>\n",
       "      <th>label</th>\n",
       "      <th>gender</th>\n",
       "    </tr>\n",
       "  </thead>\n",
       "  <tbody>\n",
       "    <tr>\n",
       "      <th>0</th>\n",
       "      <td>EE UU y China: Los dos grandes pelean, el mund...</td>\n",
       "      <td>@user10</td>\n",
       "      <td>male</td>\n",
       "    </tr>\n",
       "    <tr>\n",
       "      <th>1</th>\n",
       "      <td>El [POLITICAL_PARTY] en el @user cuestionando ...</td>\n",
       "      <td>@user105</td>\n",
       "      <td>male</td>\n",
       "    </tr>\n",
       "    <tr>\n",
       "      <th>2</th>\n",
       "      <td>Con todo respeto, @user es el Presidente elegi...</td>\n",
       "      <td>@user110</td>\n",
       "      <td>female</td>\n",
       "    </tr>\n",
       "    <tr>\n",
       "      <th>3</th>\n",
       "      <td>Hoy son otros los que vienen a enriquecer nues...</td>\n",
       "      <td>@user117</td>\n",
       "      <td>male</td>\n",
       "    </tr>\n",
       "    <tr>\n",
       "      <th>4</th>\n",
       "      <td>¡Muchos políticos se inventan un Master...y a ...</td>\n",
       "      <td>@user12</td>\n",
       "      <td>female</td>\n",
       "    </tr>\n",
       "    <tr>\n",
       "      <th>...</th>\n",
       "      <td>...</td>\n",
       "      <td>...</td>\n",
       "      <td>...</td>\n",
       "    </tr>\n",
       "    <tr>\n",
       "      <th>96</th>\n",
       "      <td>#Salamanca, primera ciudad de #España que firm...</td>\n",
       "      <td>@user85</td>\n",
       "      <td>male</td>\n",
       "    </tr>\n",
       "    <tr>\n",
       "      <th>97</th>\n",
       "      <td>Es totalmente inaceptable que el [POLITICAL_PA...</td>\n",
       "      <td>@user86</td>\n",
       "      <td>female</td>\n",
       "    </tr>\n",
       "    <tr>\n",
       "      <th>98</th>\n",
       "      <td>Si no lo dice nadie, lo digo yo:. La Cañada Re...</td>\n",
       "      <td>@user93</td>\n",
       "      <td>male</td>\n",
       "    </tr>\n",
       "    <tr>\n",
       "      <th>99</th>\n",
       "      <td>@user De @user sólo acudirán 9 diputados, que ...</td>\n",
       "      <td>@user94</td>\n",
       "      <td>male</td>\n",
       "    </tr>\n",
       "    <tr>\n",
       "      <th>100</th>\n",
       "      <td>Dice Sánchez que la manifestación de Colón por...</td>\n",
       "      <td>@user96</td>\n",
       "      <td>female</td>\n",
       "    </tr>\n",
       "  </tbody>\n",
       "</table>\n",
       "<p>101 rows × 3 columns</p>\n",
       "</div>"
      ],
      "text/plain": [
       "                                                 tweet     label  gender\n",
       "0    EE UU y China: Los dos grandes pelean, el mund...   @user10    male\n",
       "1    El [POLITICAL_PARTY] en el @user cuestionando ...  @user105    male\n",
       "2    Con todo respeto, @user es el Presidente elegi...  @user110  female\n",
       "3    Hoy son otros los que vienen a enriquecer nues...  @user117    male\n",
       "4    ¡Muchos políticos se inventan un Master...y a ...   @user12  female\n",
       "..                                                 ...       ...     ...\n",
       "96   #Salamanca, primera ciudad de #España que firm...   @user85    male\n",
       "97   Es totalmente inaceptable que el [POLITICAL_PA...   @user86  female\n",
       "98   Si no lo dice nadie, lo digo yo:. La Cañada Re...   @user93    male\n",
       "99   @user De @user sólo acudirán 9 diputados, que ...   @user94    male\n",
       "100  Dice Sánchez que la manifestación de Colón por...   @user96  female\n",
       "\n",
       "[101 rows x 3 columns]"
      ]
     },
     "execution_count": 61,
     "metadata": {},
     "output_type": "execute_result"
    }
   ],
   "source": [
    "pd.concat([X, df[[\"label\",\"gender\"]]], axis=1)"
   ]
  },
  {
   "cell_type": "code",
   "execution_count": 2,
   "metadata": {},
   "outputs": [
    {
     "data": {
      "text/plain": [
       "0"
      ]
     },
     "execution_count": 2,
     "metadata": {},
     "output_type": "execute_result"
    }
   ],
   "source": [
    "train_test = format_data_origin(path_train, path_test)\n",
    "\n",
    "error_train_test(df=train_test, path_errors=\"/home/enrique/Documentos/AutoML_in_data_aumentation/taks/PolitiES/model/results/errors/logistic_error.csv\")"
   ]
  },
  {
   "cell_type": "code",
   "execution_count": 30,
   "metadata": {},
   "outputs": [
    {
     "data": {
      "text/plain": [
       "False"
      ]
     },
     "execution_count": 30,
     "metadata": {},
     "output_type": "execute_result"
    }
   ],
   "source": [
    "paths= os.listdir(\"../\")\n",
    "\"asdasd\" in paths"
   ]
  },
  {
   "cell_type": "code",
   "execution_count": 8,
   "metadata": {},
   "outputs": [],
   "source": [
    "?naw.WordEmbsAug"
   ]
  },
  {
   "cell_type": "code",
   "execution_count": 12,
   "metadata": {},
   "outputs": [
    {
     "ename": "ModuleNotFoundError",
     "evalue": "No module named 'gensim.models.wrappers'",
     "output_type": "error",
     "traceback": [
      "\u001b[0;31m---------------------------------------------------------------------------\u001b[0m",
      "\u001b[0;31mModuleNotFoundError\u001b[0m                       Traceback (most recent call last)",
      "\u001b[0;32m/tmp/ipykernel_9290/2708391068.py\u001b[0m in \u001b[0;36m<module>\u001b[0;34m\u001b[0m\n\u001b[0;32m----> 1\u001b[0;31m \u001b[0;32mfrom\u001b[0m \u001b[0mgensim\u001b[0m\u001b[0;34m.\u001b[0m\u001b[0mmodels\u001b[0m\u001b[0;34m.\u001b[0m\u001b[0mwrappers\u001b[0m \u001b[0;32mimport\u001b[0m \u001b[0mFastText\u001b[0m\u001b[0;34m\u001b[0m\u001b[0;34m\u001b[0m\u001b[0m\n\u001b[0m\u001b[1;32m      2\u001b[0m \u001b[0;31m# wordvectors_file = 'fasttext-sbwc.3.6.e20'\u001b[0m\u001b[0;34m\u001b[0m\u001b[0;34m\u001b[0m\u001b[0m\n\u001b[1;32m      3\u001b[0m \u001b[0;31m# wordvectors = FastText.load_fasttext_format(wordvectors_file)\u001b[0m\u001b[0;34m\u001b[0m\u001b[0;34m\u001b[0m\u001b[0m\n",
      "\u001b[0;31mModuleNotFoundError\u001b[0m: No module named 'gensim.models.wrappers'"
     ]
    }
   ],
   "source": [
    "from gensim.models.wrappers import FastText\n",
    "# wordvectors_file = 'fasttext-sbwc.3.6.e20'\n",
    "# wordvectors = FastText.load_fasttext_format(wordvectors_file)"
   ]
  },
  {
   "cell_type": "code",
   "execution_count": 15,
   "metadata": {},
   "outputs": [],
   "source": [
    "from gensim.models.keyedvectors import KeyedVectors\n",
    "wordvectors_file_vec = '../../fasttext-sbwc.3.6.e20.vec'\n",
    "cantidad = 100000\n",
    "word_vectors = KeyedVectors.load_word2vec_format(wordvectors_file_vec, limit=cantidad)"
   ]
  },
  {
   "cell_type": "code",
   "execution_count": 25,
   "metadata": {},
   "outputs": [
    {
     "data": {
      "text/plain": [
       "4"
      ]
     },
     "execution_count": 25,
     "metadata": {},
     "output_type": "execute_result"
    }
   ],
   "source": [
    "len([1,2,2,2])"
   ]
  },
  {
   "cell_type": "code",
   "execution_count": 16,
   "metadata": {},
   "outputs": [
    {
     "data": {
      "text/plain": [
       "'montes La violencia es macere el espermatocitogénesis último recurso del incompetente'"
      ]
     },
     "execution_count": 16,
     "metadata": {},
     "output_type": "execute_result"
    }
   ],
   "source": [
    "testing_nlpaug = \"La violencia es el último recurso del incompetente\"\n",
    "\n",
    "aug = naw.WordEmbsAug(\n",
    "    model_type='fasttext', model_path='../../fasttext-sbwc.3.6.e20.vec',\n",
    "    action=\"insert\", )\n",
    "augmented_text = aug.augment(testing_nlpaug)\n",
    "augmented_text"
   ]
  },
  {
   "cell_type": "code",
   "execution_count": 22,
   "metadata": {},
   "outputs": [
    {
     "data": {
      "text/plain": [
       "'La skugga violencia es el gbk último preordenaron recurso del incompetente'"
      ]
     },
     "execution_count": 22,
     "metadata": {},
     "output_type": "execute_result"
    }
   ],
   "source": [
    "augmented_text = aug.augment(testing_nlpaug)\n",
    "augmented_text"
   ]
  },
  {
   "cell_type": "code",
   "execution_count": null,
   "metadata": {},
   "outputs": [],
   "source": []
  },
  {
   "cell_type": "code",
   "execution_count": null,
   "metadata": {},
   "outputs": [],
   "source": []
  },
  {
   "cell_type": "code",
   "execution_count": 1,
   "metadata": {},
   "outputs": [],
   "source": [
    "import pandas as pd "
   ]
  },
  {
   "cell_type": "code",
   "execution_count": 3,
   "metadata": {},
   "outputs": [],
   "source": [
    "result = pd.read_csv(\"../../model/logistic_error.csv\")"
   ]
  },
  {
   "cell_type": "code",
   "execution_count": null,
   "metadata": {},
   "outputs": [],
   "source": [
    "# RandomSearch"
   ]
  },
  {
   "cell_type": "code",
   "execution_count": 9,
   "metadata": {},
   "outputs": [
    {
     "data": {
      "text/plain": [
       "(18, 19)"
      ]
     },
     "execution_count": 9,
     "metadata": {},
     "output_type": "execute_result"
    }
   ],
   "source": [
    "result.drop_duplicates([\"model\", \"method_da\", \"lambda_hyper_1\", \"lambda_hyper_1\", \"preprocesamiento\", \"representation\"]).shape"
   ]
  }
 ],
 "metadata": {
  "kernelspec": {
   "display_name": "automl-kernel",
   "language": "python",
   "name": "automl-kernel"
  },
  "language_info": {
   "codemirror_mode": {
    "name": "ipython",
    "version": 3
   },
   "file_extension": ".py",
   "mimetype": "text/x-python",
   "name": "python",
   "nbconvert_exporter": "python",
   "pygments_lexer": "ipython3",
   "version": "3.9.7"
  }
 },
 "nbformat": 4,
 "nbformat_minor": 4
}
